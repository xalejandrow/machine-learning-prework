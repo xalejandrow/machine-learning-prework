{
  "cells": [
    {
      "cell_type": "markdown",
      "metadata": {
        "id": "view-in-github",
        "colab_type": "text"
      },
      "source": [
        "<a href=\"https://colab.research.google.com/github/xalejandrow/machine-learning-prework/blob/main/03-pandas/03.1-Intro-To-Pandas.ipynb\" target=\"_parent\"><img src=\"https://colab.research.google.com/assets/colab-badge.svg\" alt=\"Open In Colab\"/></a>"
      ]
    },
    {
      "cell_type": "markdown",
      "id": "bdfbcacc",
      "metadata": {
        "id": "bdfbcacc"
      },
      "source": [
        "![alt text](https://github.com/4GeeksAcademy/machine-learning-prework/blob/main/03-pandas/assets/pandas_logo.jpg?raw=1)\n",
        "\n",
        "\n",
        "\n",
        "## Introduction to Pandas\n",
        "\n",
        "Pandas is a fast, powerful, flexible and easy to use open source data analysis and manipulation tool,\n",
        "built on top of the Python programming language.\n",
        "\n",
        "## What is Pandas?\n",
        "\n",
        "Pandas is a Python library used for working with data sets.\n",
        "\n",
        "It has functions for analyzing, cleaning, exploring, and manipulating data.\n",
        "\n",
        "The name \"Pandas\" has a reference to both \"Panel Data\", and \"Python Data Analysis\" and was created by Wes McKinney in 2008.\n",
        "\n",
        "\n",
        "## Installing Pandas\n",
        "\n",
        "When you want to work with Pandas locally, you should run the following commands:\n",
        "\n",
        "`pip install pandas`\\\n",
        "or\\\n",
        "`conda install pandas`\n",
        "\n",
        "In our case, 4Geeks have prepared all the environment in order that you can work comfortably.\n",
        "\n"
      ]
    },
    {
      "cell_type": "markdown",
      "id": "60e5d082",
      "metadata": {
        "id": "60e5d082"
      },
      "source": [
        "## Why use Pandas?\n",
        "\n",
        "Pandas allows us to analyze big data and make conclusions based on statistical theories. It can clean messy data sets, and make them readable, relevant and clear. Relevant data is very important in data science.\n",
        "\n",
        "But the main reason is that Pandas allows you to deal with a new structure of data: dataframes.\n",
        "\n",
        "A dataframe is a two-dimensional data structure in which data of different types (such as characters, integers, floating-point values, factors, and more) can be stored in columns. It is similar to an SQL spreadsheet or table of excel. A dataframe always has an index (starting at 0), that refers to the position of an element in the data structure.\n",
        "\n",
        "> Pandas provides tools that allow:\n",
        "\n",
        "- Read and write data in different formats: CSV, Microsoft Excel, SQL databases and HDF5 format.\n",
        "\n",
        "- Easily select and filter data tables based on position, value, or labels.\n",
        "\n",
        "- Merge and join data.\n",
        "\n",
        "- Time series manipulation.\n",
        "\n",
        "- Make graphs (plots).\n",
        "\n",
        "\n",
        "> In Pandas there are three basic types of objects, all of them based on Numpy:\n",
        "\n",
        "- Series (lists, 1D).\n",
        "\n",
        "- DataFrame (tables, 2D).\n",
        "\n",
        "- Panels (tables, 3D)."
      ]
    },
    {
      "cell_type": "markdown",
      "id": "c4e52ee5",
      "metadata": {
        "id": "c4e52ee5"
      },
      "source": [
        "#### Exercise: Import the Pandas package under the name `pd` (★☆☆)\n",
        "\n",
        "To import a new library in Python we have to use the import statement like this: `import <library_name> as <your_alias>`.\n",
        "\n",
        "Use the `import` statement in Python to import the Pandas module under the alias `pd`. \n",
        "\n",
        "If you want to be sure that the library was correctly imported, remember you can print the version of any Python library with: `name_of_package.__version__` "
      ]
    },
    {
      "cell_type": "code",
      "execution_count": 2,
      "id": "ea3038d9",
      "metadata": {
        "id": "ea3038d9"
      },
      "outputs": [],
      "source": [
        "import pandas as pd\n",
        "import numpy as np"
      ]
    },
    {
      "cell_type": "markdown",
      "id": "40631cd6",
      "metadata": {
        "id": "40631cd6"
      },
      "source": [
        "## Pandas data types\n",
        "\n",
        "Pandas has three different data structures:\n",
        "\n",
        "- Series: One-dimensional structure.\n",
        "- DataFrame: Two-dimensional structure (tables).\n",
        "- Panel: Three-dimensional structure (cubes and less used).\n",
        "\n",
        "These structures are built from arrays from the NumPy library, adding new functionalities.\n",
        "\n",
        "\n",
        "<img src=\"https://github.com/4GeeksAcademy/machine-learning-prework/blob/main/03-pandas/assets/series_dataframe.png?raw=1\" width=\"600\"/>\n"
      ]
    },
    {
      "cell_type": "markdown",
      "id": "2060325e",
      "metadata": {
        "id": "2060325e"
      },
      "source": [
        "## Object creation\n",
        "\n",
        "Creating a Series by passing a list of values, letting Pandas create a default integer index:"
      ]
    },
    {
      "cell_type": "code",
      "execution_count": 2,
      "id": "2a9f5838",
      "metadata": {
        "id": "2a9f5838"
      },
      "outputs": [],
      "source": [
        "s = pd.Series([1, 3, 5, np.nan, 6, 8])"
      ]
    },
    {
      "cell_type": "markdown",
      "id": "e3c20b3d",
      "metadata": {
        "id": "e3c20b3d"
      },
      "source": [
        "In the previous exercise, we have created a Pandas series (a one-dimensional vector or array) from a list. \n",
        "\n",
        "In the following exercise, we ask you to create a one-dimensional vector but this time from another Python structure.\n",
        "\n",
        "#### Exercise: Create a Pandas series from each of the items below: a list, Numpy and a dictionary (★☆☆)"
      ]
    },
    {
      "cell_type": "code",
      "execution_count": 6,
      "id": "8a758bcf",
      "metadata": {
        "colab": {
          "base_uri": "https://localhost:8080/"
        },
        "id": "8a758bcf",
        "outputId": "deb40a7a-409c-457b-80f8-bd7f9097a1a0"
      },
      "outputs": [
        {
          "output_type": "stream",
          "name": "stdout",
          "text": [
            "0     G\n",
            "1     E\n",
            "2     E\n",
            "3     K\n",
            "4     S\n",
            "5     F\n",
            "6     O\n",
            "7     R\n",
            "8     G\n",
            "9     E\n",
            "10    E\n",
            "11    K\n",
            "12    S\n",
            "dtype: object \n",
            "\n",
            "G    2\n",
            "E    4\n",
            "K    2\n",
            "S    2\n",
            "F    1\n",
            "O    1\n",
            "R    1\n",
            "dtype: int64 \n",
            "\n",
            "0     G\n",
            "1     E\n",
            "2     E\n",
            "3     K\n",
            "4     S\n",
            "5     F\n",
            "6     O\n",
            "7     R\n",
            "8     G\n",
            "9     E\n",
            "10    E\n",
            "11    K\n",
            "12    S\n",
            "dtype: object\n"
          ]
        }
      ],
      "source": [
        "#list\n",
        "lst = ['G','E','E','K','S','F',\n",
        "       'O','R','G','E','E','K','S']\n",
        "# forming series\n",
        "s = pd.Series(lst)\n",
        "# output\n",
        "print(s,\"\\n\")\n",
        "\n",
        "# simple dict\n",
        "dct = {'G':2,'E':4,'K':2,'S':2,\n",
        "       'F':1,'O':1,'R':1}\n",
        "# forming series\n",
        "s = pd.Series(dct) \n",
        "# output\n",
        "print(s,\"\\n\")\n",
        "\n",
        "# import pandas as pd\n",
        "#import pandas as pd \n",
        "# import numpy as np\n",
        "#import numpy as np\n",
        "# numpy array\n",
        "arr = np.array(['G','E','E','K','S','F',\n",
        "                'O','R','G','E','E','K','S'])\n",
        "# forming series\n",
        "s = pd.Series(arr)\n",
        "# output\n",
        "print(s)"
      ]
    },
    {
      "cell_type": "markdown",
      "id": "0a708990",
      "metadata": {
        "id": "0a708990"
      },
      "source": [
        "#### Exercise: Now, try to create a `dataframe` of one column from a Pandas series (★☆☆)\n",
        "\n",
        ">Check the function: `to_frame` (https://pandas.pydata.org/docs/reference/api/pandas.Series.to_frame.html)"
      ]
    },
    {
      "cell_type": "code",
      "execution_count": 9,
      "id": "477e01f4",
      "metadata": {
        "colab": {
          "base_uri": "https://localhost:8080/"
        },
        "id": "477e01f4",
        "outputId": "81cea6a0-e493-467c-aa7d-d8c04534fef5"
      },
      "outputs": [
        {
          "output_type": "stream",
          "name": "stdout",
          "text": [
            "0    a\n",
            "1    b\n",
            "2    c\n",
            "Name: vals, dtype: object\n"
          ]
        }
      ],
      "source": [
        "s = pd.Series([\"a\", \"b\", \"c\"],name=\"vals\")\n",
        "s.to_frame()\n",
        "print(s)"
      ]
    },
    {
      "cell_type": "markdown",
      "id": "0b16cd77",
      "metadata": {
        "id": "0b16cd77"
      },
      "source": [
        "#### Exercise: How to combine many series to form a dataframe? (★☆☆)\n",
        "Create two series with names `ser1` and `ser2` to form a dataframe. That is, a two columns dataframe from the series `ser1` and `ser2`."
      ]
    },
    {
      "cell_type": "code",
      "execution_count": null,
      "id": "4d9b5975",
      "metadata": {
        "id": "4d9b5975"
      },
      "outputs": [],
      "source": [
        ""
      ]
    },
    {
      "cell_type": "code",
      "execution_count": 14,
      "id": "5dbe1a08",
      "metadata": {
        "colab": {
          "base_uri": "https://localhost:8080/"
        },
        "id": "5dbe1a08",
        "outputId": "24200192-a9f7-4194-a0c4-174c8221522a"
      },
      "outputs": [
        {
          "output_type": "stream",
          "name": "stdout",
          "text": [
            "   Serie1  Serie2\n",
            "0       1       4\n",
            "1       2       5\n",
            "2       3       6\n",
            "3       4       7\n",
            "4       5       8\n"
          ]
        }
      ],
      "source": [
        "# Input\n",
        "\n",
        "ser1 = pd.Series([1, 2, 3, 4, 5])\n",
        "ser2 = pd.Series([4, 5, 6, 7, 8]) \n",
        "\n",
        "# Create Frame\n",
        "#frame = [ser1, ser2]\n",
        "frame = {'Serie1': ser1, 'Serie2':ser2}\n",
        "\n",
        "# Create DataFrame\n",
        "df = pd.DataFrame(frame)\n",
        "print(df)\n",
        "\n"
      ]
    },
    {
      "cell_type": "markdown",
      "id": "48d48f01",
      "metadata": {
        "id": "48d48f01"
      },
      "source": [
        "#### Exercise: How to convert a numpy array to a dataframe of a given shape? (★☆☆)\n",
        "Reshape a random series into a dataframe with 7 rows and 5 columns. In this exercise, you have to create a one-dimensional array of length 35 and then you will have to convert that array into a dataframe"
      ]
    },
    {
      "cell_type": "code",
      "execution_count": 16,
      "id": "3ed233e7",
      "metadata": {
        "colab": {
          "base_uri": "https://localhost:8080/"
        },
        "id": "3ed233e7",
        "outputId": "4204fb40-bfb1-49b0-bee2-74078bd6917a"
      },
      "outputs": [
        {
          "output_type": "stream",
          "name": "stdout",
          "text": [
            "p: \n",
            " 0     5\n",
            "1     3\n",
            "2     1\n",
            "3     3\n",
            "4     6\n",
            "5     3\n",
            "6     3\n",
            "7     2\n",
            "8     6\n",
            "9     4\n",
            "10    5\n",
            "11    4\n",
            "12    4\n",
            "13    2\n",
            "14    2\n",
            "15    6\n",
            "16    5\n",
            "17    4\n",
            "18    2\n",
            "19    6\n",
            "20    4\n",
            "21    3\n",
            "22    1\n",
            "23    5\n",
            "24    1\n",
            "25    3\n",
            "26    5\n",
            "27    1\n",
            "28    6\n",
            "29    4\n",
            "30    4\n",
            "31    3\n",
            "32    1\n",
            "33    1\n",
            "34    1\n",
            "dtype: int64\n",
            "info: \n",
            "    0  1  2  3  4\n",
            "0  5  3  1  3  6\n",
            "1  3  3  2  6  4\n",
            "2  5  4  4  2  2\n",
            "3  6  5  4  2  6\n",
            "4  4  3  1  5  1\n",
            "5  3  5  1  6  4\n",
            "6  4  3  1  1  1\n"
          ]
        }
      ],
      "source": [
        "#import pandas as pd\n",
        "#import numpy as np\n",
        "# Input\n",
        "p = pd.Series(np.random.randint(1, 7, 35))\n",
        "print(\"p: \\n\",p)\n",
        "info = pd.DataFrame(p.values.reshape(7,5))\n",
        "print(\"info: \\n\",info)"
      ]
    },
    {
      "cell_type": "markdown",
      "id": "4fa39382",
      "metadata": {
        "id": "4fa39382"
      },
      "source": [
        "#### Exercise:  How to extract items at given positions from a series (★☆☆)\n",
        "You can also create series and dataframe that contain strings. From the following Pandas series `ser`, extract the items at positions in the list `pos`.\n",
        "\n",
        "> Check `take` from Pandas: (https://pandas.pydata.org/docs/reference/api/pandas.DataFrame.take.html)"
      ]
    },
    {
      "cell_type": "code",
      "execution_count": 17,
      "id": "c97757ec",
      "metadata": {
        "colab": {
          "base_uri": "https://localhost:8080/"
        },
        "id": "c97757ec",
        "outputId": "4e53e931-7478-4063-8411-c82af11b6409"
      },
      "outputs": [
        {
          "output_type": "stream",
          "name": "stdout",
          "text": [
            "Original Series:\n",
            "0     a\n",
            "1     b\n",
            "2     c\n",
            "3     d\n",
            "4     e\n",
            "5     f\n",
            "6     g\n",
            "7     h\n",
            "8     i\n",
            "9     j\n",
            "10    k\n",
            "11    l\n",
            "12    m\n",
            "13    n\n",
            "14    o\n",
            "15    p\n",
            "16    q\n",
            "17    r\n",
            "18    s\n",
            "19    t\n",
            "20    u\n",
            "21    v\n",
            "22    w\n",
            "23    x\n",
            "24    y\n",
            "25    z\n",
            "dtype: object\n",
            "\n",
            "Extract items at given positions of the said series:\n",
            "0     a\n",
            "4     e\n",
            "8     i\n",
            "14    o\n",
            "20    u\n",
            "dtype: object\n"
          ]
        }
      ],
      "source": [
        "# Input\n",
        "\n",
        "ser = pd.Series(list('abcdefghijklmnopqrstuvwxyz'))\n",
        "pos = [0, 4, 8, 14, 20]\n",
        "\n",
        "print(\"Original Series:\")\n",
        "print(ser)\n",
        "result = ser.take(pos)\n",
        "print(\"\\nExtract items at given positions of the said series:\")\n",
        "print(result)"
      ]
    },
    {
      "cell_type": "markdown",
      "id": "da64551a",
      "metadata": {
        "id": "da64551a"
      },
      "source": [
        "#### Exercise:  How to stack two series vertically and horizontally ?\n",
        "Create two series `ser1` and `ser2` and stack them vertically and horizontally (to form a dataframe). \n",
        "\n",
        ">Check `concatenate` from Pandas: (https://pandas.pydata.org/docs/reference/api/pandas.concat.html)"
      ]
    },
    {
      "cell_type": "code",
      "execution_count": 3,
      "id": "327f7adb",
      "metadata": {
        "colab": {
          "base_uri": "https://localhost:8080/"
        },
        "id": "327f7adb",
        "outputId": "d8156133-2dbd-4241-e277-6f18623ea0ed"
      },
      "outputs": [
        {
          "output_type": "stream",
          "name": "stdout",
          "text": [
            "Original Series:\n",
            "0    0\n",
            "1    1\n",
            "2    2\n",
            "3    3\n",
            "4    4\n",
            "5    5\n",
            "6    6\n",
            "7    7\n",
            "8    8\n",
            "9    9\n",
            "dtype: int64\n",
            "0    a\n",
            "1    b\n",
            "2    c\n",
            "3    d\n",
            "4    e\n",
            "5    f\n",
            "6    g\n",
            "7    h\n",
            "8    i\n",
            "9    j\n",
            "dtype: object\n",
            "\n",
            "Stack two given series vertically and horizontally:\n",
            "   0  1\n",
            "0  0  a\n",
            "1  1  b\n",
            "2  2  c\n",
            "3  3  d\n",
            "4  4  e\n",
            "5  5  f\n",
            "6  6  g\n",
            "7  7  h\n",
            "8  8  i\n",
            "9  9  j\n"
          ]
        }
      ],
      "source": [
        "ser1 = pd.Series(range(10))\n",
        "ser2 = pd.Series(list('abcdefghij'))\n",
        "print(\"Original Series:\")\n",
        "print(ser1)\n",
        "print(ser2)\n",
        "ser1.append(ser2)\n",
        "df = pd.concat([ser1, ser2], axis=1)\n",
        "print(\"\\nStack two given series vertically and horizontally:\")\n",
        "print(df)"
      ]
    },
    {
      "cell_type": "markdown",
      "id": "13c5928c",
      "metadata": {
        "id": "13c5928c"
      },
      "source": [
        "#### Exercise: How to get the positions of items of series A in another series B? (★★☆)\n",
        "\n",
        "Get the positions of items of `ser2` in `ser1` as a list. \n",
        "\n",
        "> Note: Remember the function `where` from Numpy (https://numpy.org/devdocs/reference/generated/numpy.where.html)"
      ]
    },
    {
      "cell_type": "code",
      "execution_count": 5,
      "id": "3817ae53",
      "metadata": {
        "colab": {
          "base_uri": "https://localhost:8080/"
        },
        "id": "3817ae53",
        "outputId": "00d03c09-f08c-4b38-8a4b-7c9dda41446b"
      },
      "outputs": [
        {
          "output_type": "stream",
          "name": "stdout",
          "text": [
            "Original Series:\n",
            "0     1\n",
            "1     2\n",
            "2     3\n",
            "3     4\n",
            "4     5\n",
            "5     6\n",
            "6     7\n",
            "7     8\n",
            "8     9\n",
            "9    10\n",
            "dtype: int64\n",
            "0     1\n",
            "1     3\n",
            "2     5\n",
            "3     7\n",
            "4    10\n",
            "dtype: int64\n",
            "Positions of items of series2 in series1:\n",
            "[0, 2, 4, 6, 9]\n"
          ]
        }
      ],
      "source": [
        "ser1 = pd.Series([1, 2, 3, 4, 5, 6, 7, 8, 9, 10])\n",
        "ser2 = pd.Series([1, 3, 5, 7, 10])\n",
        "print(\"Original Series:\")\n",
        "print(ser1)\n",
        "print(ser2)\n",
        "result = [pd.Index(ser1).get_loc(i) for i in ser2]\n",
        "print(\"Positions of items of series2 in series1:\")\n",
        "print(result)"
      ]
    },
    {
      "cell_type": "markdown",
      "id": "e5a9fa01",
      "metadata": {
        "id": "e5a9fa01"
      },
      "source": [
        "#### Exercises: How to get the elements that are not common to both series A and series B? (★☆☆)\n",
        "\n",
        "Extract the elements that are not common from the `ser1` and `ser2` arrays that we define below.\n",
        "\n",
        ">Check the functions `union1d` and `intersect1d` of Numpy: https://numpy.org/doc/stable/reference/generated/numpy.union1d.html and https://numpy.org/doc/stable/reference/generated/numpy.intersect1d.html.\n",
        "\n",
        "Note: Remember that **Numpy and Pandas work Together**"
      ]
    },
    {
      "cell_type": "code",
      "execution_count": 7,
      "id": "911c9b93",
      "metadata": {
        "colab": {
          "base_uri": "https://localhost:8080/"
        },
        "id": "911c9b93",
        "outputId": "16d7d333-d3aa-4eb6-f847-3c9788f83a5e"
      },
      "outputs": [
        {
          "output_type": "stream",
          "name": "stdout",
          "text": [
            "Original Series:\n",
            "ser1:\n",
            "0    10\n",
            "1     9\n",
            "2     6\n",
            "3     5\n",
            "4     3\n",
            "5     1\n",
            "6    12\n",
            "7     8\n",
            "8    13\n",
            "dtype: int64\n",
            "ser2:\n",
            "0     1\n",
            "1     3\n",
            "2    10\n",
            "3    13\n",
            "dtype: int64\n",
            "\n",
            "Items of a given series not present in another given series:\n",
            "2     5\n",
            "3     6\n",
            "4     8\n",
            "5     9\n",
            "7    12\n",
            "dtype: int64\n"
          ]
        }
      ],
      "source": [
        "## Input\n",
        "\n",
        "ser1 = pd.Series([10, 9, 6, 5, 3, 1, 12, 8, 13])\n",
        "ser2 = pd.Series([1, 3, 10, 13]) \n",
        "\n",
        "print(\"Original Series:\")\n",
        "print(\"ser1:\")\n",
        "print(ser1)\n",
        "print(\"ser2:\")\n",
        "print(ser2)\n",
        "print(\"\\nItems of a given series not present in another given series:\")\n",
        "ser11 = pd.Series(np.union1d(ser1, ser2))\n",
        "ser22 = pd.Series(np.intersect1d(ser1, ser2))\n",
        "result = ser11[~ser11.isin(ser22)]\n",
        "print(result)\n",
        "\n"
      ]
    },
    {
      "cell_type": "markdown",
      "id": "3fa2e461",
      "metadata": {
        "id": "3fa2e461"
      },
      "source": [
        "#### Exercise: How to compute difference of differences between consecutive numbers of a series? (★★☆)\n",
        "Difference of differences between the consecutive numbers of `ser`."
      ]
    },
    {
      "cell_type": "code",
      "execution_count": 9,
      "id": "323eb38a",
      "metadata": {
        "colab": {
          "base_uri": "https://localhost:8080/"
        },
        "id": "323eb38a",
        "outputId": "6ed2cf46-d2b7-417b-de63-e9fd1f976ce2"
      },
      "outputs": [
        {
          "output_type": "stream",
          "name": "stdout",
          "text": [
            "Original Series:\n",
            "0     1\n",
            "1     3\n",
            "2     6\n",
            "3    10\n",
            "4    15\n",
            "5    21\n",
            "6    27\n",
            "7    35\n",
            "dtype: int64\n",
            "\n",
            "Difference of differences between consecutive numbers of the said series:\n",
            "[nan, 2.0, 3.0, 4.0, 5.0, 6.0, 6.0, 8.0]\n",
            "[nan, nan, 1.0, 1.0, 1.0, 1.0, 0.0, 2.0]\n"
          ]
        }
      ],
      "source": [
        "## Input\n",
        "ser = pd.Series([1, 3, 6, 10, 15, 21, 27, 35])\n",
        "\n",
        "## Output should be like following\n",
        "# [nan, 2.0, 3.0, 4.0, 5.0, 6.0, 6.0, 8.0]\n",
        "# [nan, nan, 1.0, 1.0, 1.0, 1.0, 0.0, 2.0]\n",
        "print(\"Original Series:\")\n",
        "print(ser)\n",
        "print(\"\\nDifference of differences between consecutive numbers of the said series:\")\n",
        "print(ser.diff().tolist())\n",
        "print(ser.diff().diff().tolist())"
      ]
    },
    {
      "cell_type": "markdown",
      "id": "ff8dbb92",
      "metadata": {
        "id": "ff8dbb92"
      },
      "source": [
        "## Apply functions to a series\n",
        "It is also possible to apply a function to each element of the series using the following method:\n",
        "\n",
        "`s.apply(f)`: Returns a series with the result of applying the function f to each of the elements of the series s.\n",
        "\n",
        "### Example:\n",
        "```\n",
        "import pandas as pd\n",
        "from math import log\n",
        "s = pd.Series([1, 2, 3, 4])\n",
        "s.apply(log)\n",
        "```"
      ]
    },
    {
      "cell_type": "markdown",
      "id": "e3a7ba7f",
      "metadata": {
        "id": "e3a7ba7f"
      },
      "source": [
        "#### Exercise: Convert all values of a Pandas series of strings to upper (★☆☆)\n",
        "\n",
        "You have to create a series of strings with random values and then convert each string to capital letters.\n",
        "\n",
        ">Check upper in Pandas: (https://pandas.pydata.org/docs/reference/api/pandas.Series.str.upper.html)"
      ]
    },
    {
      "cell_type": "markdown",
      "id": "6d17ab5d",
      "metadata": {
        "id": "6d17ab5d"
      },
      "source": [
        "#### Exercise: Get all values greater than 5 from a Pandas series (★☆☆)\n",
        "\n",
        "Remember that you can create series and dataframes from dictionaries. In this exercise you will have to get all values greater than 5."
      ]
    },
    {
      "cell_type": "code",
      "execution_count": 23,
      "id": "841373cd",
      "metadata": {
        "colab": {
          "base_uri": "https://localhost:8080/"
        },
        "id": "841373cd",
        "outputId": "32598561-f8c5-4644-9e94-a096411a5e2d"
      },
      "outputs": [
        {
          "output_type": "stream",
          "name": "stdout",
          "text": [
            "               0\n",
            "Math         6.0\n",
            "Economy      4.5\n",
            "Programming  8.5\n",
            "             value\n",
            "Math           6.0\n",
            "Economy        4.5\n",
            "Programming    8.5\n",
            "             value\n",
            "Math           6.0\n",
            "Programming    8.5\n"
          ]
        }
      ],
      "source": [
        "## Input\n",
        "s = pd.Series({'Math': 6.0,  'Economy': 4.5, 'Programming': 8.5})\n",
        "df = pd.DataFrame(s)\n",
        "print(df)\n",
        "df.columns = ['value']\n",
        "print(df)\n",
        "print(df[df['value'] > 5])"
      ]
    },
    {
      "cell_type": "markdown",
      "id": "8837119b",
      "metadata": {
        "id": "8837119b"
      },
      "source": [
        "#### Exercise: Sort a series. Sort the series from the previous exercise in both, ascending and descendant order (★☆☆)\n",
        "The following methods are used to sort a series:\n",
        "\n",
        "`s.sort_values (ascending = Boolean)`: Returns the series that results from ordering the values in the series s. If the argument of the ascending parameter is True the order is increasing and if False it is decreasing.\n",
        "\n",
        "`df.sort_index (ascending = Boolean)`: Returns the series that results from sorting the index of the series s. If the argument of the ascending parameter is True the order is increasing and if it is False, decreasing."
      ]
    },
    {
      "cell_type": "code",
      "source": [
        "s = pd.Series({'Math': 6.0,  'Economy': 4.5, 'Programming': 8.5})\n",
        "print(\"Original Serie:\\n\",s)\n",
        "sorted = s.sort_values()\n",
        "print(\"Sorted Serie:\\n\",sorted)"
      ],
      "metadata": {
        "id": "2ghGtjwHb6cY",
        "outputId": "65c08c2a-d957-4d1f-bdfb-a24cc9eaf3ed",
        "colab": {
          "base_uri": "https://localhost:8080/"
        }
      },
      "id": "2ghGtjwHb6cY",
      "execution_count": 27,
      "outputs": [
        {
          "output_type": "stream",
          "name": "stdout",
          "text": [
            "Original Serie:\n",
            " Math           6.0\n",
            "Economy        4.5\n",
            "Programming    8.5\n",
            "dtype: float64\n",
            "Sorted Serie:\n",
            " Economy        4.5\n",
            "Math           6.0\n",
            "Programming    8.5\n",
            "dtype: float64\n"
          ]
        }
      ]
    },
    {
      "cell_type": "markdown",
      "id": "ec788c9f",
      "metadata": {
        "id": "ec788c9f"
      },
      "source": [
        "#### Exercise: Eliminate the unknown (`NA`) values in a series.  Drop the NAs values from the series\n",
        "\n",
        "Unknown data is represented in Pandas by `NaN` and `null`. Both are usually a problem when performing some data analysis, so it is common to eliminate them. To remove them from a series the following method is used:\n",
        "\n",
        "`s.dropna ()`: Removes the unknown or null data from the s series."
      ]
    },
    {
      "cell_type": "code",
      "execution_count": 32,
      "id": "0a4f919f",
      "metadata": {
        "colab": {
          "base_uri": "https://localhost:8080/"
        },
        "id": "0a4f919f",
        "outputId": "f767a01c-1c1f-44bc-96b2-5ec6b3173066"
      },
      "outputs": [
        {
          "output_type": "stream",
          "name": "stdout",
          "text": [
            "Serie:\n",
            " 0       a\n",
            "1       b\n",
            "2    None\n",
            "3       c\n",
            "4     NaN\n",
            "5       d\n",
            "dtype: object\n",
            "\n",
            " Drop NA:\n",
            " 0    a\n",
            "1    b\n",
            "3    c\n",
            "5    d\n",
            "dtype: object\n"
          ]
        }
      ],
      "source": [
        "## Input\n",
        "import pandas as pd\n",
        "import numpy as np\n",
        "s = pd.Series(['a', 'b', None, 'c', np.NaN,  'd'])\n",
        "droped = s.dropna()\n",
        "print(\"Serie:\\n\",s)\n",
        "print(\"\\n Drop NA:\\n\",droped)"
      ]
    },
    {
      "cell_type": "markdown",
      "id": "391791e0",
      "metadata": {
        "id": "391791e0"
      },
      "source": [
        "## The DataFrame object class\n",
        "\n",
        "An object of type DataFrame defines a set of data structured in the form of a table where each column is an object of type Series, that is, all the data in the same column are of the same type, and the rows are records that can contain data from Different types.\n",
        "\n",
        "A DataFrame contains two indexes, one for the rows and one for the columns, and its elements can be accessed by the names of the rows and columns.\n",
        "\n",
        "Example: The following DataFrame contains information about the students in a course. Each row corresponds to a student and each column to a variable.\n",
        "\n",
        "![alt text](./assets/df.png \"df\")\n"
      ]
    },
    {
      "cell_type": "markdown",
      "id": "7c2e563a",
      "metadata": {
        "id": "7c2e563a"
      },
      "source": [
        "## Creating a DataFrame from a CSV or Excel file\n",
        "\n",
        "Depending on the type of file, there are different functions to import a DataFrame from a file.\n",
        "\n",
        "- `read_csv`: Returns an object of type DataFrame with the data from the CSV file (file.csv) using as separator of the data the string separator.\n",
        "\n",
        "- `read_excel`: Returns an object of type DataFrame with the data from the spreadsheet sheet of the Excel file (file.xlsx)."
      ]
    },
    {
      "cell_type": "markdown",
      "id": "50a54d72",
      "metadata": {
        "id": "50a54d72"
      },
      "source": [
        "## The Titanic dataset \n",
        "The Titanic dataset is famous and \"funny\" in the area of data science. It is commonly used for beginners in order to know how to fit a machine learning model. The competition is simple: use machine learning to create a model that predicts which passengers survived the Titanic shipwreck.\n",
        "\n",
        "The dataset consists of the following variables.\n",
        "\n",
        "\n",
        "| Variable | Definition                                 | Key                                            |\n",
        "|----------|--------------------------------------------|------------------------------------------------|\n",
        "| survival | Survival                                   | 0 = No, 1 = Yes                                |\n",
        "| pclass   | Ticket class                               | 1 = 1st, 2 = 2nd, 3 = 3rd                      |\n",
        "| sex      | Sex                                        |                                                |\n",
        "| Age      | Age in years                               |                                                |\n",
        "| sibsp    | # of siblings / spouses aboard the Titanic |                                                |\n",
        "| parch    | # of parents / children aboard the Titanic |                                                |\n",
        "| ticket   | Ticket number                              |                                                |\n",
        "| fare     | Passenger fare                             |                                                |\n",
        "| cabin    | Cabin number                               |                                                |\n",
        "| embarked | Port of Embarkation                        | C = Cherbourg, Q = Queenstown, S = Southampton |\n",
        "\n",
        "\n",
        "In the following exercise you will have to get some insights about this dataset. An insight is just derived information you can get from a dataset like the mean of age for example."
      ]
    },
    {
      "cell_type": "markdown",
      "id": "1e74d39e",
      "metadata": {
        "id": "1e74d39e"
      },
      "source": [
        "#### Exercise: Read the data `titanic_train.csv` located in the assets folder (★☆☆)"
      ]
    },
    {
      "cell_type": "code",
      "execution_count": null,
      "id": "3f639d33",
      "metadata": {
        "id": "3f639d33"
      },
      "outputs": [],
      "source": [
        ""
      ]
    },
    {
      "cell_type": "markdown",
      "id": "78250c14",
      "metadata": {
        "id": "78250c14"
      },
      "source": [
        "#### Exercise: File export. Export the previous Dataframe separated by semicolon (;) and name it as \"`your_name.txt`\" (★☆☆)\n",
        "\n",
        "There are also functions to export a DataFrame to a file with different formats.\n",
        "\n",
        "- `df.to_csv (file.csv, sep = separator, columns = Boolean, index = Boolean)`: Exports the DataFrame (df) to the file file.csv in CSV format using the separator string as data separator.\n",
        "\n",
        "- `df.to_excel (file.xlsx, sheet_name = sheet, columns = Boolean, index = Boolean)`: Exports the DataFrame (df) to the spreadsheet of the file file.xlsx in Excel format."
      ]
    },
    {
      "cell_type": "code",
      "execution_count": null,
      "id": "9fe729cb",
      "metadata": {
        "id": "9fe729cb"
      },
      "outputs": [],
      "source": [
        ""
      ]
    },
    {
      "cell_type": "markdown",
      "id": "51898680",
      "metadata": {
        "id": "51898680"
      },
      "source": [
        "## Attributes of a DataFrame\n",
        "There are several properties or methods for viewing the characteristics of a DataFrame.\n",
        "\n",
        "- `df.info()`: Returns information (number of rows, number of columns, indexes, type of columns and used memory) about the DataFrame df.\n",
        "\n",
        "- `df.shape`: Returns a tuple with the number of rows and columns of the DataFrame df.\n",
        "\n",
        "- `df.size`: Returns the number of elements in the DataFrame.\n",
        "\n",
        "- `df.columns`: Returns a list with the names of the columns of the DataFrame df.\n",
        "\n",
        "- `df.index`: Returns a list with the names of the rows in the DataFrame df.\n",
        "\n",
        "- `df.dtypes`: Returns a series with the data types of the columns of the DataFrame df.\n",
        "\n",
        "- `df.head(n)`: Returns the first n rows of the DataFrame df.\n",
        "\n",
        "- `df.tail(n)`: Returns the last n rows of the DataFrame df."
      ]
    },
    {
      "cell_type": "markdown",
      "id": "89e78048",
      "metadata": {
        "id": "89e78048"
      },
      "source": [
        "#### Exercise: Read the dataframe exported as \"`your_name.txt`\" and print all the previous attributes taking `n = 10` (★☆☆)"
      ]
    },
    {
      "cell_type": "code",
      "execution_count": null,
      "id": "b62e9d1c",
      "metadata": {
        "id": "b62e9d1c"
      },
      "outputs": [],
      "source": [
        ""
      ]
    },
    {
      "cell_type": "markdown",
      "id": "ebd10810",
      "metadata": {
        "id": "ebd10810"
      },
      "source": [
        "#### Exercise: Change the name of columns of the above data frame using two different methos (★★☆) \n",
        "\n",
        ">Check the function `rename`: (https://pandas.pydata.org/docs/reference/api/pandas.DataFrame.rename.html)\n",
        "\n",
        "Note: Remember you can get the name of columns using `df.columns`."
      ]
    },
    {
      "cell_type": "code",
      "execution_count": null,
      "id": "6ada209f",
      "metadata": {
        "id": "6ada209f"
      },
      "outputs": [],
      "source": [
        ""
      ]
    },
    {
      "cell_type": "markdown",
      "id": "c0e940f8",
      "metadata": {
        "id": "c0e940f8"
      },
      "source": [
        "#### Exercise: Change the index of the above data frame using two different methods (★★☆) \n",
        "\n",
        ">Check `iloc`: (https://pandas.pydata.org/docs/reference/api/pandas.DataFrame.iloc.html)"
      ]
    },
    {
      "cell_type": "code",
      "execution_count": null,
      "id": "820dc7a5",
      "metadata": {
        "id": "820dc7a5"
      },
      "outputs": [],
      "source": [
        ""
      ]
    },
    {
      "cell_type": "markdown",
      "id": "22713c3f",
      "metadata": {
        "id": "22713c3f"
      },
      "source": [
        "#### Exercise: Get the position (3,5) from the dataframe `your_name.txt`  (★☆☆)"
      ]
    },
    {
      "cell_type": "code",
      "execution_count": null,
      "id": "a3e05c29",
      "metadata": {
        "id": "a3e05c29"
      },
      "outputs": [],
      "source": [
        ""
      ]
    },
    {
      "cell_type": "markdown",
      "id": "4815930e",
      "metadata": {
        "id": "4815930e"
      },
      "source": [
        "#### Exercise: Get the 10-th value from the column \"Ticket\" from the Dataframe `your_name.txt`  (★☆☆)"
      ]
    },
    {
      "cell_type": "code",
      "execution_count": null,
      "id": "cd81c3c6",
      "metadata": {
        "id": "cd81c3c6"
      },
      "outputs": [],
      "source": [
        ""
      ]
    },
    {
      "cell_type": "markdown",
      "id": "8e34f294",
      "metadata": {
        "id": "8e34f294"
      },
      "source": [
        "#### Exercise: Add columns to a DataFrame. Create a random array and a random list and add them to the dataframe coming from  `your_name.txt` (★☆☆)\n",
        "The procedure for adding a new column to a DataFrame is similar to adding a new pair to a dictionary, but passing the column's values in a list or series."
      ]
    },
    {
      "cell_type": "code",
      "execution_count": null,
      "id": "890bde78",
      "metadata": {
        "id": "890bde78"
      },
      "outputs": [],
      "source": [
        ""
      ]
    },
    {
      "cell_type": "markdown",
      "id": "759c9c8d",
      "metadata": {
        "id": "759c9c8d"
      },
      "source": [
        "#### Exercise: Create or subset a Dataframe. Subset the dataframe coming from `your_name.txt` by male registers using two different methods (★★☆)\n",
        "Remember the function `where` from `numpy`"
      ]
    },
    {
      "cell_type": "code",
      "execution_count": null,
      "id": "6801c73d",
      "metadata": {
        "id": "6801c73d"
      },
      "outputs": [],
      "source": [
        ""
      ]
    },
    {
      "cell_type": "markdown",
      "id": "129c342d",
      "metadata": {
        "id": "129c342d"
      },
      "source": [
        "## Descriptive summary of a DataFrame\n",
        "As for strings, the following methods allow you to summarize the information in a DataFrame by columns:\n",
        "\n",
        "- `df.count()`: Returns a series number of elements that are not null or NaN in each column of the DataFrame df.\n",
        "\n",
        "- `df.sum()`: Returns a series with the sum of the data of the columns of the DataFrame df when the data is of a numeric type, or the concatenation of them when they are of the string type str.\n",
        "\n",
        "- `df.cumsum()`: Returns a DataFrame with the cumulative sum of the data in the columns of the DataFrame df when the data is of a numeric type.\n",
        "\n",
        "- `df.min()`: Returns a series with the minors of the data of the columns of the DataFrame df.\n",
        "\n",
        "- `df.max()`: Returns a series with the largest of the data in the columns of the DataFrame df.\n",
        "\n",
        "- `df.mean()`: Returns a series with the mean of the data in the columns of the DataFrame df when the data is of a numeric type.\n",
        "\n",
        "- `df.std()`: Returns a series with the standard deviations of the data in the columns of the DataFrame df when the data is of a numeric type.\n",
        "\n",
        "- `df.describe(include = type)`: Returns a DataFrame with a statistical summary of the columns of the DataFrame df of type (type). For numerical data(number), the mean, standard deviation, minimum, maximum and quartiles of the numeric columns are calculated. For non-numeric data(object) the number of values, the number of distinct values, the mode and their frequency are calculated. If the type is not indicated, only the numeric columns are considered."
      ]
    },
    {
      "cell_type": "markdown",
      "id": "25ab9cc1",
      "metadata": {
        "id": "25ab9cc1"
      },
      "source": [
        "#### Exercise: Make a description of the dataset `your_name.txt` (★☆☆)"
      ]
    },
    {
      "cell_type": "code",
      "execution_count": null,
      "id": "8ba1badb",
      "metadata": {
        "id": "8ba1badb"
      },
      "outputs": [],
      "source": [
        ""
      ]
    },
    {
      "cell_type": "markdown",
      "id": "42f8b2f9",
      "metadata": {
        "id": "42f8b2f9"
      },
      "source": [
        "#### Exercise: Remove the column Ticket from your DataFrame (★☆☆)"
      ]
    },
    {
      "cell_type": "code",
      "execution_count": null,
      "id": "eb8ebe45",
      "metadata": {
        "id": "eb8ebe45"
      },
      "outputs": [],
      "source": [
        ""
      ]
    },
    {
      "cell_type": "markdown",
      "id": "486df8ea",
      "metadata": {
        "id": "486df8ea"
      },
      "source": [
        "#### Exercise: Sort the Dataframe by the Age column  (★★☆)\n",
        ">Check the functions `df.sort_values` and `df.sort_index`"
      ]
    },
    {
      "cell_type": "code",
      "execution_count": null,
      "id": "34b4fa08",
      "metadata": {
        "id": "34b4fa08"
      },
      "outputs": [],
      "source": [
        ""
      ]
    },
    {
      "cell_type": "markdown",
      "id": "649e89f9",
      "metadata": {
        "id": "649e89f9"
      },
      "source": [
        "#### Exercise: Drop the rows of your Dataframe that contain na values (★★☆)"
      ]
    },
    {
      "cell_type": "code",
      "execution_count": null,
      "id": "663cc611",
      "metadata": {
        "id": "663cc611"
      },
      "outputs": [],
      "source": [
        ""
      ]
    },
    {
      "cell_type": "markdown",
      "id": "3421e17f",
      "metadata": {
        "id": "3421e17f"
      },
      "source": [
        "#### Exercise: Subset the rows where Age values are greater than 18 (★★☆)"
      ]
    },
    {
      "cell_type": "code",
      "execution_count": null,
      "id": "7336b8e4",
      "metadata": {
        "id": "7336b8e4"
      },
      "outputs": [],
      "source": [
        ""
      ]
    },
    {
      "cell_type": "markdown",
      "id": "483dd554",
      "metadata": {
        "id": "483dd554"
      },
      "source": [
        "#### Exercise: Subset the rows where Age values are greater than 18 and less than 5 and get the number of rows  (★★☆)"
      ]
    },
    {
      "cell_type": "code",
      "execution_count": null,
      "id": "c89b93e7",
      "metadata": {
        "id": "c89b93e7"
      },
      "outputs": [],
      "source": [
        ""
      ]
    },
    {
      "cell_type": "markdown",
      "id": "2d07be1c",
      "metadata": {
        "id": "2d07be1c"
      },
      "source": [
        "#### Exercise: Normalize the column Age (★★☆)\n",
        "\n",
        "> Note: Remember from probability (https://en.wikipedia.org/wiki/Normalization_(statistics) that :\n",
        "\n",
        "$$ x_{norm} = \\frac{x - \\bar{x}}{\\sigma}$$"
      ]
    },
    {
      "cell_type": "code",
      "execution_count": null,
      "id": "4f7cb3ad",
      "metadata": {
        "id": "4f7cb3ad"
      },
      "outputs": [],
      "source": [
        ""
      ]
    },
    {
      "cell_type": "markdown",
      "id": "fe043549",
      "metadata": {
        "id": "fe043549"
      },
      "source": [
        "#### Exercise: Consider two random arrays A and B, check if they are equal (★★☆)"
      ]
    },
    {
      "cell_type": "code",
      "execution_count": null,
      "id": "58be72bc",
      "metadata": {
        "id": "58be72bc"
      },
      "outputs": [],
      "source": [
        ""
      ]
    },
    {
      "cell_type": "markdown",
      "metadata": {
        "id": "vT4NhNSqRc5q"
      },
      "source": [
        "#### Exercise: How to set the number of rows and columns to display in the output? (★★★)\n",
        "\n",
        ">Check teh function `set_option` from Pandas"
      ],
      "id": "vT4NhNSqRc5q"
    },
    {
      "cell_type": "markdown",
      "id": "b7109c9f",
      "metadata": {
        "id": "b7109c9f"
      },
      "source": [
        "#### Exercise: How to join two dataframes by 2 columns so they have only the common rows? (★★★)\n",
        "Join dataframes df1 and df2 by ‘fruit-pazham’ and ‘weight-kilo’."
      ]
    },
    {
      "cell_type": "code",
      "execution_count": null,
      "id": "f79e79a7",
      "metadata": {
        "id": "f79e79a7"
      },
      "outputs": [],
      "source": [
        "## Input\n",
        "\n",
        "df1 = pd.DataFrame({'fruit': ['apple', 'banana', 'orange'] * 3,\n",
        "                    'weight': ['high', 'medium', 'low'] * 3,\n",
        "                    'price': np.random.randint(0, 15, 9)})\n",
        "\n",
        "df2 = pd.DataFrame({'pazham': ['apple', 'orange', 'pine'] * 2,\n",
        "                    'kilo': ['high', 'low'] * 3,\n",
        "                    'price': np.random.randint(0, 15, 6)})"
      ]
    },
    {
      "cell_type": "markdown",
      "id": "fb24674c",
      "metadata": {
        "id": "fb24674c"
      },
      "source": [
        "#### Exercise: How to get the positions where values of two columns match? (★★★)\n",
        "Join dataframes df1 and df2 by ‘fruit-pazham’ and ‘weight-kilo’."
      ]
    },
    {
      "cell_type": "code",
      "execution_count": null,
      "id": "3e253564",
      "metadata": {
        "id": "3e253564"
      },
      "outputs": [],
      "source": [
        "## Input\n",
        "df = pd.DataFrame({'fruit1': np.random.choice(['apple', 'orange', 'banana'], 10),\n",
        "                    'fruit2': np.random.choice(['apple', 'orange', 'banana'], 10)})\n"
      ]
    }
  ],
  "metadata": {
    "kernelspec": {
      "display_name": "Python 3",
      "language": "python",
      "name": "python3"
    },
    "language_info": {
      "codemirror_mode": {
        "name": "ipython",
        "version": 3
      },
      "file_extension": ".py",
      "mimetype": "text/x-python",
      "name": "python",
      "nbconvert_exporter": "python",
      "pygments_lexer": "ipython3",
      "version": "3.8.10"
    },
    "colab": {
      "name": "03.1-Intro-To-Pandas.ipynb",
      "provenance": [],
      "include_colab_link": true
    }
  },
  "nbformat": 4,
  "nbformat_minor": 5
}