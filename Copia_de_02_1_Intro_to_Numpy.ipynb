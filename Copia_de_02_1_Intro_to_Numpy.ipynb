{
  "cells": [
    {
      "cell_type": "markdown",
      "metadata": {
        "id": "view-in-github",
        "colab_type": "text"
      },
      "source": [
        "<a href=\"https://colab.research.google.com/github/xalejandrow/machine-learning-prework/blob/main/Copia_de_02_1_Intro_to_Numpy.ipynb\" target=\"_parent\"><img src=\"https://colab.research.google.com/assets/colab-badge.svg\" alt=\"Open In Colab\"/></a>"
      ]
    },
    {
      "cell_type": "markdown",
      "id": "bdfbcacc",
      "metadata": {
        "id": "bdfbcacc"
      },
      "source": [
        "<img src=\"https://github.com/4GeeksAcademy/machine-learning-prework/blob/main/02-numpy/assets/numpy_logo.png?raw=1\" alt=\"logo\" width=\"400\"/>\n",
        "\n",
        "## Introduction to numpy\n",
        "\n",
        "NumPy stands for 'Numerical Python'. It is an open-source Python library used to perform various mathematical and scientific tasks. It contains multi-dimensional arrays and matrixes, along with many high-level mathematical functions that operate on them. It contains among other things:\n",
        "\n",
        "→ a powerful N-dimensional array object.\n",
        "\n",
        "→ sophisticated (broadcasting) functions.\n",
        "\n",
        "→ tools for integrating C/C++ and Fortran code.\n",
        "\n",
        "→ useful linear algebra, Fourier transform, and random number capabilities."
      ]
    },
    {
      "cell_type": "markdown",
      "id": "85902746",
      "metadata": {
        "id": "85902746"
      },
      "source": [
        "## Installing NumPy\n",
        "When you want to work with numpy locally, you should run the following commands:\n",
        "\n",
        "You can install NumPy with:\\\n",
        "`pip install numpy`\\\n",
        "or\\\n",
        "`conda install numpy`\n",
        "\n",
        "In our case, 4Geeks have prepared all the environment in order that you can work comfortably."
      ]
    },
    {
      "cell_type": "markdown",
      "id": "58765356",
      "metadata": {
        "id": "58765356"
      },
      "source": [
        "## Why should we use NumPy?\n",
        "\n",
        "Numpy is a library that performs numerical calculations in python. We will use it mainly because it allows us to create, modify matrixes, and do operations on them with ease.\n",
        "\n",
        "NumPy is like Pandas, Matplotlib or Scikit-Learn. It is one of the packages that you cannot miss when you are studying Machine Learning. Mainly because this library provides a matrix data structure that has some benefits over regular Python lists. Some of these benefits are: being more compact, quicker access to reading and writing articles, more convenient and efficient.\n",
        "\n",
        "For example, we will see later in the bootcamp that working with images is dealing with three-dimensional matrixes as large as 3840 x 2160, which means we will have 3×3840×2160 = 24883200 entries!!! 😱😱😱.\n",
        "\n",
        "Working with matrixes of that magnitude is practically impossible to carry out with lists and dictionaries if one wants to have an efficient and fast programming."
      ]
    },
    {
      "cell_type": "markdown",
      "id": "c4e52ee5",
      "metadata": {
        "id": "c4e52ee5"
      },
      "source": [
        "#### Exercise: Import the numpy package under the name `np` (★☆☆)\n",
        "\n",
        "`numpy` is commonly imported as `np` so we highly recommend to put this alias."
      ]
    },
    {
      "cell_type": "code",
      "execution_count": 58,
      "id": "ea3038d9",
      "metadata": {
        "id": "ea3038d9"
      },
      "outputs": [],
      "source": [
        "import numpy as np"
      ]
    },
    {
      "cell_type": "markdown",
      "id": "40631cd6",
      "metadata": {
        "id": "40631cd6"
      },
      "source": [
        "## What is an array and why it is important for Machine Learning?\n",
        "\n",
        "An array is a data structure consisting of a collection of elements (values or variables), each identified by at least one index or key.\n"
      ]
    },
    {
      "cell_type": "markdown",
      "id": "ce969254",
      "metadata": {
        "id": "ce969254"
      },
      "source": [
        "![alt text](assets/1D.png \"1D\")"
      ]
    },
    {
      "cell_type": "markdown",
      "id": "735d02e2",
      "metadata": {
        "id": "735d02e2"
      },
      "source": [
        "An array is known as the central data structure of the Numpy library; it can also be of several dimensions. For example, neural networks sometimes deal with 4D arrays.\n",
        "\n",
        "Later on, we are also going to use another kind of arrays called: Tensors."
      ]
    },
    {
      "cell_type": "markdown",
      "id": "a20ce3a4",
      "metadata": {
        "id": "a20ce3a4"
      },
      "source": [
        "![alt text](./assets/3D.png \"3D\")"
      ]
    },
    {
      "cell_type": "markdown",
      "id": "46950f4f",
      "metadata": {
        "id": "46950f4f"
      },
      "source": [
        "#### Exercise: Print the version and configuration of numpy (★☆☆)\n",
        "\n",
        "You can print the version of any package of Python using `name_of_package.__version__`"
      ]
    },
    {
      "cell_type": "code",
      "execution_count": 61,
      "id": "2a9f5838",
      "metadata": {
        "colab": {
          "base_uri": "https://localhost:8080/"
        },
        "id": "2a9f5838",
        "outputId": "4f87bbb2-9791-427e-d125-c25d90568fed"
      },
      "outputs": [
        {
          "output_type": "stream",
          "name": "stdout",
          "text": [
            "1.21.6\n"
          ]
        }
      ],
      "source": [
        "from ctypes import pythonapi\n",
        "import numpy as np\n",
        "print(np.__version__)"
      ]
    },
    {
      "cell_type": "markdown",
      "id": "e3c20b3d",
      "metadata": {
        "id": "e3c20b3d"
      },
      "source": [
        "#### Exercise: Create a null vector of size 10 (★☆☆)\n",
        "\n",
        "A `null vector` is an array of zeros (`0`), also called `initialization vector`.\n",
        "\n",
        ">Check de function `np.zeros` (https://numpy.org/doc/stable/reference/generated/numpy.zeros.html)"
      ]
    },
    {
      "cell_type": "code",
      "execution_count": null,
      "id": "8a758bcf",
      "metadata": {
        "id": "8a758bcf",
        "outputId": "a47a3d5e-eb67-49bf-d035-c8592573ed8b",
        "colab": {
          "base_uri": "https://localhost:8080/"
        }
      },
      "outputs": [
        {
          "output_type": "execute_result",
          "data": {
            "text/plain": [
              "array([], dtype=float64)"
            ]
          },
          "metadata": {},
          "execution_count": 3
        }
      ],
      "source": [
        "np.zeros(0)"
      ]
    },
    {
      "cell_type": "markdown",
      "id": "6cbe7954",
      "metadata": {
        "id": "6cbe7954"
      },
      "source": [
        "#### Exercise: Create a vector of ones with size 10 (★☆☆)\n",
        "\n",
        ">Check de function `np.ones` (https://numpy.org/doc/stable/reference/generated/numpy.ones.html)"
      ]
    },
    {
      "cell_type": "code",
      "execution_count": null,
      "id": "86477874",
      "metadata": {
        "id": "86477874",
        "outputId": "ba916eb1-df7c-4fd9-df34-7320c684614d"
      },
      "outputs": [
        {
          "data": {
            "text/plain": [
              "array([1., 1., 1., 1., 1., 1., 1., 1., 1., 1.])"
            ]
          },
          "execution_count": 10,
          "metadata": {},
          "output_type": "execute_result"
        }
      ],
      "source": [
        "np.ones(10)"
      ]
    },
    {
      "cell_type": "markdown",
      "id": "0a708990",
      "metadata": {
        "id": "0a708990"
      },
      "source": [
        "#### Exercise: Create an 1D array with a specific start value, end value, and number of values (★☆☆)\n",
        "\n",
        ">Check the function `np.linspace` (https://numpy.org/doc/stable/reference/generated/numpy.linspace.html)"
      ]
    },
    {
      "cell_type": "code",
      "execution_count": null,
      "id": "477e01f4",
      "metadata": {
        "id": "477e01f4",
        "outputId": "442820df-c830-428f-9d0e-c2c7cd0c8ace"
      },
      "outputs": [
        {
          "data": {
            "text/plain": [
              "array([1.        , 1.11111111, 1.22222222, 1.33333333, 1.44444444,\n",
              "       1.55555556, 1.66666667, 1.77777778, 1.88888889, 2.        ])"
            ]
          },
          "execution_count": 11,
          "metadata": {},
          "output_type": "execute_result"
        }
      ],
      "source": [
        "np.linspace(1,2,10)"
      ]
    },
    {
      "cell_type": "markdown",
      "id": "782d4c77",
      "metadata": {
        "id": "782d4c77"
      },
      "source": [
        "#### Run: Create a vector (1D array) with random integers from 10 to 49 and dimension 1x35 (★☆☆)\n",
        "\n",
        "When `dimension` is expressed `1x35` it means: One dimension array with 35 items (length=35).\n",
        "\n",
        ">Check the function `np.random` which allows you to create random arrays (https://numpy.org/doc/1.16/reference/routines.random.html)"
      ]
    },
    {
      "cell_type": "code",
      "execution_count": null,
      "id": "5dbe1a08",
      "metadata": {
        "colab": {
          "base_uri": "https://localhost:8080/"
        },
        "id": "5dbe1a08",
        "outputId": "b99dedf4-17c4-4692-fe71-719bbd9295f5"
      },
      "outputs": [
        {
          "output_type": "stream",
          "name": "stdout",
          "text": [
            "[5.62009066e-01 4.49590805e-01 5.64433921e-01 3.03645859e-01\n",
            " 7.19157019e-04 5.70159834e-01 5.14108840e-01 1.58850621e-02\n",
            " 7.96479999e-01 7.99836746e-01]\n"
          ]
        }
      ],
      "source": [
        "import numpy as np\n",
        "\n",
        "## 10 random numbers between (0, 1)\n",
        "print(np.random.random(10)) "
      ]
    },
    {
      "cell_type": "code",
      "execution_count": null,
      "id": "a9354456",
      "metadata": {
        "colab": {
          "base_uri": "https://localhost:8080/"
        },
        "id": "a9354456",
        "outputId": "b5c98d6a-b583-4a13-cc35-6e7f4d7b0b17"
      },
      "outputs": [
        {
          "output_type": "stream",
          "name": "stdout",
          "text": [
            "[0.77830427 0.94514293 0.7342958  0.42883523 0.98853945 0.02722579\n",
            " 0.80583382 0.51790276 0.59669088 0.40926364]\n",
            "[ 1.45267776 -0.26916395 -2.28707713  0.2328964   0.27744032 -0.16752704\n",
            "  1.06298252  0.73350853 -0.03262398 -0.2693362 ]\n"
          ]
        }
      ],
      "source": [
        "## Two ways to create numbers with normal distribution\n",
        "print(np.random.rand(10)) # 10 random values with distribution N(0,1)\n",
        "print(np.random.normal(loc = 0, scale = 1, size = 10)) # 10 random values with distribution N(0,1)"
      ]
    },
    {
      "cell_type": "code",
      "execution_count": null,
      "id": "73ed6271",
      "metadata": {
        "colab": {
          "base_uri": "https://localhost:8080/"
        },
        "id": "73ed6271",
        "outputId": "5c59ec78-e89d-475b-c642-db72756e3744"
      },
      "outputs": [
        {
          "output_type": "stream",
          "name": "stdout",
          "text": [
            "[-32.94609937  -4.63470313   0.66209037 -10.65556335  -2.68112895\n",
            "  44.93813031   3.9337291  -45.88041615   2.52169947  18.69168172]\n"
          ]
        }
      ],
      "source": [
        "## Did you notice the difference between both functions? \n",
        "print(np.random.normal(loc = -5, scale = 33, size = 10)) # 10 random values with distribution N(-5,33)"
      ]
    },
    {
      "cell_type": "code",
      "execution_count": null,
      "id": "49ae7a5a",
      "metadata": {
        "colab": {
          "base_uri": "https://localhost:8080/"
        },
        "id": "49ae7a5a",
        "outputId": "6cb7e827-bda5-4283-f2ea-14eaa1c1e110"
      },
      "outputs": [
        {
          "output_type": "stream",
          "name": "stdout",
          "text": [
            "[  2.44951065  41.7505646   89.59848015  41.63033448 -29.23118296\n",
            "  11.36492557  91.14472885  38.97084225  96.41011635  42.6274657 ]\n"
          ]
        }
      ],
      "source": [
        "## 10 random values with uniform distribution. That means, all values have the same probability\n",
        "print(np.random.uniform(-30,100,10)) # All values are between -30 and 100."
      ]
    },
    {
      "cell_type": "code",
      "execution_count": null,
      "id": "f78e72cb",
      "metadata": {
        "colab": {
          "base_uri": "https://localhost:8080/"
        },
        "id": "f78e72cb",
        "outputId": "9f5d2681-dc07-4855-9e36-1bc6efa19b3a"
      },
      "outputs": [
        {
          "output_type": "stream",
          "name": "stdout",
          "text": [
            "[38 90 29 91 28 86 26 21 77 89]\n"
          ]
        }
      ],
      "source": [
        "# 10 integers values between 0 and 100.\n",
        "print(np.random.randint(0, 100, 10))"
      ]
    },
    {
      "cell_type": "code",
      "execution_count": null,
      "id": "db278431",
      "metadata": {
        "colab": {
          "base_uri": "https://localhost:8080/"
        },
        "id": "db278431",
        "outputId": "16cfc139-9669-4a7e-dfbc-9d0128ab3a1b"
      },
      "outputs": [
        {
          "output_type": "stream",
          "name": "stdout",
          "text": [
            "[ 1.68865882  7.78861428  3.03398682 10.97681252  7.92340738  2.48789565\n",
            "  4.10027396  1.15674039  6.31600058  3.58762651]\n"
          ]
        }
      ],
      "source": [
        "# 10 random values with Chi distribution with 5 degrees of freedom\n",
        "print(np.random.chisquare(5,10))"
      ]
    },
    {
      "cell_type": "markdown",
      "id": "1b7841da",
      "metadata": {
        "id": "1b7841da"
      },
      "source": [
        "The above examples are the most common distribution and random values you will learn throughout the bootcamp. Now, let's deal with those arrays."
      ]
    },
    {
      "cell_type": "markdown",
      "id": "48d48f01",
      "metadata": {
        "id": "48d48f01"
      },
      "source": [
        "#### Exercise: Reverse one of the last vector we created before (first element becomes last) (★☆☆)\n",
        "Try with `[::-1]`"
      ]
    },
    {
      "cell_type": "code",
      "execution_count": null,
      "id": "3ed233e7",
      "metadata": {
        "colab": {
          "base_uri": "https://localhost:8080/"
        },
        "id": "3ed233e7",
        "outputId": "97b6b9df-cc61-47e9-d2f7-ae71b106e279"
      },
      "outputs": [
        {
          "output_type": "stream",
          "name": "stdout",
          "text": [
            "[81 80 98 72 61 45 66  0 75 77]\n",
            "[77 75  0 66 45 61 72 98 80 81]\n"
          ]
        }
      ],
      "source": [
        "vect = np.random.randint(0,100,10)\n",
        "print(vect)\n",
        "print(vect[::-1])"
      ]
    },
    {
      "cell_type": "markdown",
      "id": "4fa39382",
      "metadata": {
        "id": "4fa39382"
      },
      "source": [
        "#### Exercise: Create a 5x5 identity matrix (★☆☆)\n",
        "\n",
        ">Check the function `np.eye`(https://numpy.org/devdocs/reference/generated/numpy.eye.html)"
      ]
    },
    {
      "cell_type": "code",
      "execution_count": null,
      "id": "c97757ec",
      "metadata": {
        "colab": {
          "base_uri": "https://localhost:8080/"
        },
        "id": "c97757ec",
        "outputId": "882cc00a-3738-4045-b9db-ae36fa03cbe8"
      },
      "outputs": [
        {
          "output_type": "execute_result",
          "data": {
            "text/plain": [
              "array([[1., 0., 0., 0., 0.],\n",
              "       [0., 1., 0., 0., 0.],\n",
              "       [0., 0., 1., 0., 0.],\n",
              "       [0., 0., 0., 1., 0.],\n",
              "       [0., 0., 0., 0., 1.]])"
            ]
          },
          "metadata": {},
          "execution_count": 8
        }
      ],
      "source": [
        "np.eye(5)"
      ]
    },
    {
      "cell_type": "markdown",
      "id": "da64551a",
      "metadata": {
        "id": "da64551a"
      },
      "source": [
        "#### Exercise: Find indexes of non-zero elements from [1,2,0,0,4,0] (★☆☆)\n",
        "\n",
        ">Check the function `where`(https://numpy.org/devdocs/reference/generated/numpy.where.html)"
      ]
    },
    {
      "cell_type": "code",
      "execution_count": null,
      "id": "327f7adb",
      "metadata": {
        "colab": {
          "base_uri": "https://localhost:8080/"
        },
        "id": "327f7adb",
        "outputId": "e6e69328-9845-4a07-bd90-332ba36c722a"
      },
      "outputs": [
        {
          "output_type": "execute_result",
          "data": {
            "text/plain": [
              "array([2, 3, 5])"
            ]
          },
          "metadata": {},
          "execution_count": 9
        }
      ],
      "source": [
        "v = np.array([1,2,0,0,4,0])\n",
        "np.where(v == 0)[0]"
      ]
    },
    {
      "cell_type": "markdown",
      "id": "13c5928c",
      "metadata": {
        "id": "13c5928c"
      },
      "source": [
        "#### Exercise: Create a 10x10 array with random values and find the minimum and maximum values (★☆☆)\n",
        "\n",
        ">Check the function `min` (https://numpy.org/devdocs/reference/generated/numpy.where.html) and `max` (https://numpy.org/devdocs/reference/generated/numpy.max.html)"
      ]
    },
    {
      "cell_type": "code",
      "execution_count": null,
      "id": "911c9b93",
      "metadata": {
        "colab": {
          "base_uri": "https://localhost:8080/"
        },
        "id": "911c9b93",
        "outputId": "ac54f087-ef8c-4abf-887b-6ea98adfdbfa"
      },
      "outputs": [
        {
          "output_type": "stream",
          "name": "stdout",
          "text": [
            "[[0.4249188  0.228489   0.07843951 0.06734406 0.86387058 0.26332227\n",
            "  0.62648448 0.67559359 0.96774244 0.55070177]\n",
            " [0.47932947 0.5664927  0.39677141 0.54809955 0.48117641 0.14352175\n",
            "  0.95741839 0.11704364 0.02375384 0.61847743]\n",
            " [0.98740324 0.46289302 0.68517317 0.34960241 0.74194612 0.44989942\n",
            "  0.87280851 0.50921882 0.66283247 0.57094956]\n",
            " [0.81444051 0.87479351 0.08369429 0.15994493 0.14702826 0.07207413\n",
            "  0.13900882 0.12484153 0.64229194 0.39749459]\n",
            " [0.06617836 0.77821732 0.91183075 0.54090927 0.89794185 0.39849159\n",
            "  0.13937086 0.69759824 0.96805694 0.93027733]\n",
            " [0.56727899 0.18011939 0.94149505 0.9060115  0.00318799 0.74272928\n",
            "  0.89891403 0.83867299 0.18634977 0.99884793]\n",
            " [0.66573687 0.38273435 0.31213511 0.79621064 0.3507202  0.92587014\n",
            "  0.18582536 0.65200827 0.47972965 0.06271528]\n",
            " [0.02599839 0.18922499 0.42578427 0.39292592 0.2541597  0.91158015\n",
            "  0.84027199 0.22305269 0.80626435 0.49985716]\n",
            " [0.91185819 0.99057657 0.77840219 0.50321441 0.16831389 0.41934941\n",
            "  0.17896081 0.33116438 0.06164411 0.93570674]\n",
            " [0.36167965 0.8560501  0.34058268 0.15121441 0.34292692 0.16165622\n",
            "  0.43675434 0.11389111 0.7611967  0.05972082]]\n",
            "0.003187994508458303\n",
            "0.998847934012834\n"
          ]
        }
      ],
      "source": [
        "matrand =  np.random.random((10, 10))\n",
        "print(matrand)\n",
        "print(np.amin(matrand))\n",
        "print(np.amax(matrand))"
      ]
    },
    {
      "cell_type": "markdown",
      "id": "3fa2e461",
      "metadata": {
        "id": "3fa2e461"
      },
      "source": [
        "#### Exercise: Create a random vector of size 30 and find the mean value (★☆☆)\n",
        "\n",
        "1.   Elemento de la lista\n",
        "2.   Elemento de la lista\n",
        "\n"
      ]
    },
    {
      "cell_type": "code",
      "execution_count": null,
      "id": "323eb38a",
      "metadata": {
        "colab": {
          "base_uri": "https://localhost:8080/"
        },
        "id": "323eb38a",
        "outputId": "75bc2782-ab31-492e-aded-95b82008db6d"
      },
      "outputs": [
        {
          "output_type": "stream",
          "name": "stdout",
          "text": [
            "[ 0.93085522  6.65248273 26.51131308 72.6328609   9.74234092 35.68804077\n",
            " 87.73737587 25.04346389  6.65545272 75.16954077 69.8438638  45.36383557\n",
            " 98.4827296  72.24555927 82.93044393 11.15817996 46.80031922 96.22856899\n",
            " 87.66180081 31.54545137 50.19171884 90.00013699 70.45583548 11.02576468\n",
            " 26.73940822 84.19969819 10.15996742 81.05636382 16.62773056 76.45050989]\n",
            "50.19772044886842\n"
          ]
        }
      ],
      "source": [
        "#matrand2 =  np.round(np.random.random(30)*100)\n",
        "matrand2 =  np.random.random(30)*100\n",
        "print(matrand2)\n",
        "print(np.mean(matrand2))"
      ]
    },
    {
      "cell_type": "markdown",
      "id": "961f074f",
      "metadata": {
        "id": "961f074f"
      },
      "source": [
        "#### Exercise: Define a function with your date of birth (yyyy/mm/dd) as imput, that returns a random array with the following dimensions: (★★☆)\n",
        "\n",
        "$$yyyy-1900 \\times |mm - dd|$$"
      ]
    },
    {
      "cell_type": "code",
      "execution_count": null,
      "id": "d3f49255",
      "metadata": {
        "colab": {
          "base_uri": "https://localhost:8080/"
        },
        "id": "d3f49255",
        "outputId": "4cfb05ed-151f-4ccb-bf7a-42b691996154"
      },
      "outputs": [
        {
          "output_type": "stream",
          "name": "stdout",
          "text": [
            "[[0.36668175 0.8754684  0.50548607 0.18573106]\n",
            " [0.01537324 0.18851737 0.13510044 0.84322378]\n",
            " [0.40065067 0.63300169 0.49844767 0.10530645]\n",
            " [0.05033037 0.91569311 0.00481577 0.16499369]\n",
            " [0.86040386 0.35977903 0.12553429 0.04208449]\n",
            " [0.50730067 0.2411146  0.10321952 0.72624915]\n",
            " [0.12789828 0.45559442 0.85517894 0.55032771]\n",
            " [0.74031532 0.00928503 0.33092785 0.21596294]\n",
            " [0.29099842 0.30653851 0.40116469 0.50528618]\n",
            " [0.07114617 0.85800206 0.16435659 0.70538824]\n",
            " [0.34404138 0.64498248 0.76462761 0.75088068]\n",
            " [0.73593755 0.6396504  0.42700086 0.79753211]\n",
            " [0.34012582 0.5634448  0.13019043 0.15619881]\n",
            " [0.0038535  0.80473087 0.64950926 0.16682825]\n",
            " [0.94443401 0.6919426  0.18013028 0.17713412]\n",
            " [0.53632099 0.77703537 0.1761838  0.48910665]\n",
            " [0.0356474  0.86197243 0.57983203 0.26825057]\n",
            " [0.18227568 0.80361164 0.88903811 0.18884773]\n",
            " [0.68909798 0.22233292 0.37588297 0.54011057]\n",
            " [0.57884149 0.76031323 0.18798715 0.32192546]\n",
            " [0.13119693 0.73874955 0.24434998 0.3572468 ]\n",
            " [0.91257956 0.14895102 0.08295504 0.42701015]\n",
            " [0.69275546 0.91199831 0.97381078 0.83279995]\n",
            " [0.5400633  0.85976297 0.46680845 0.1865686 ]\n",
            " [0.58413361 0.32586615 0.19979306 0.30331167]\n",
            " [0.18648526 0.49386543 0.9788677  0.54046159]\n",
            " [0.98752417 0.18015522 0.79924082 0.14787291]\n",
            " [0.32101878 0.36048803 0.12448235 0.0922384 ]\n",
            " [0.11705082 0.43063193 0.04393698 0.7709466 ]\n",
            " [0.39722493 0.86239829 0.25230852 0.66039114]\n",
            " [0.1781719  0.71593236 0.6371022  0.79367714]\n",
            " [0.92594145 0.48966716 0.85719258 0.26208345]\n",
            " [0.85355959 0.10799083 0.27534185 0.43025341]\n",
            " [0.9684855  0.08715508 0.91014321 0.29345244]\n",
            " [0.5002175  0.13006743 0.23399995 0.78773457]\n",
            " [0.25287582 0.7398489  0.64536811 0.11955613]\n",
            " [0.703506   0.53925322 0.26854654 0.83656263]\n",
            " [0.5941869  0.15786568 0.49556143 0.40714618]\n",
            " [0.09544761 0.20532045 0.48078892 0.20875004]\n",
            " [0.46594771 0.54460298 0.01454212 0.90924039]\n",
            " [0.4766019  0.05531683 0.75771578 0.56693557]\n",
            " [0.08766984 0.35699879 0.39303453 0.10872048]\n",
            " [0.2106209  0.45968658 0.41085246 0.17938296]\n",
            " [0.12442787 0.70529906 0.50184254 0.48331723]\n",
            " [0.84672473 0.04489597 0.22858386 0.60279861]\n",
            " [0.63462228 0.1165634  0.70240759 0.37323999]\n",
            " [0.10473846 0.34554169 0.04891166 0.30470028]\n",
            " [0.4464377  0.25894678 0.18842725 0.20230438]\n",
            " [0.45294927 0.01971874 0.97776581 0.6925644 ]\n",
            " [0.30964965 0.05517592 0.27333229 0.20817491]\n",
            " [0.4027386  0.89012673 0.06117365 0.96376741]\n",
            " [0.09784411 0.39703431 0.87320984 0.80052379]\n",
            " [0.69161214 0.95287967 0.28202269 0.72859412]\n",
            " [0.05238944 0.42349656 0.56441193 0.30418467]\n",
            " [0.12580407 0.66285768 0.40331733 0.4933323 ]\n",
            " [0.31325681 0.46824359 0.36970801 0.03848853]\n",
            " [0.99789192 0.08652765 0.68041728 0.47932218]\n",
            " [0.44653874 0.26494702 0.6049357  0.62687462]\n",
            " [0.21650662 0.83152521 0.18223135 0.60635935]\n",
            " [0.87737275 0.20631363 0.30675961 0.38261054]\n",
            " [0.93827884 0.21386102 0.34521181 0.23446638]\n",
            " [0.53991648 0.77211164 0.98686123 0.1298459 ]\n",
            " [0.46569546 0.80804666 0.93542599 0.07046183]\n",
            " [0.25553381 0.46604798 0.33687111 0.7866484 ]\n",
            " [0.91400866 0.57778701 0.18667801 0.19310797]\n",
            " [0.42282165 0.79973618 0.78340876 0.20138216]\n",
            " [0.56936623 0.2385576  0.36849219 0.24562944]\n",
            " [0.33317959 0.54977589 0.12700465 0.43475476]\n",
            " [0.21824287 0.44120789 0.90433066 0.81523558]\n",
            " [0.02421199 0.7880227  0.79984884 0.17998638]\n",
            " [0.23859622 0.15318068 0.88339296 0.63491877]\n",
            " [0.2110272  0.03325549 0.52509125 0.56786512]\n",
            " [0.24690087 0.58028658 0.15636217 0.17298909]\n",
            " [0.1248686  0.35556634 0.88097507 0.70334271]\n",
            " [0.0947824  0.01403253 0.19081654 0.19935192]\n",
            " [0.11878032 0.51250037 0.68161796 0.83623332]\n",
            " [0.28792302 0.34798282 0.31589802 0.78029524]\n",
            " [0.24638757 0.0325506  0.96450885 0.35253831]\n",
            " [0.90115154 0.99130113 0.79768514 0.38553956]\n",
            " [0.07851817 0.10056552 0.09910316 0.96387782]\n",
            " [0.53206546 0.78130912 0.79431157 0.49249851]\n",
            " [0.19997177 0.74591245 0.37334924 0.87198852]\n",
            " [0.78808293 0.78167527 0.72362388 0.66927812]\n",
            " [0.43506392 0.92868389 0.21903948 0.84225125]\n",
            " [0.31187749 0.48868243 0.90611063 0.69776568]\n",
            " [0.10200958 0.65418104 0.32868341 0.3305871 ]\n",
            " [0.83390656 0.52938693 0.61537557 0.7594532 ]\n",
            " [0.89750357 0.99978352 0.10864023 0.35686115]\n",
            " [0.732601   0.54803738 0.66535781 0.91572659]\n",
            " [0.15456079 0.36784375 0.85263469 0.47436485]\n",
            " [0.88489767 0.09797376 0.92937694 0.69734842]\n",
            " [0.83535628 0.15624725 0.46577274 0.77743754]\n",
            " [0.35335597 0.96874693 0.88357547 0.0472755 ]\n",
            " [0.30296872 0.57972112 0.92998206 0.2682168 ]\n",
            " [0.76175145 0.66077756 0.871253   0.96652464]\n",
            " [0.67125389 0.82310853 0.69281299 0.14618596]\n",
            " [0.01076137 0.20864267 0.39785726 0.5762873 ]\n",
            " [0.33392842 0.18406582 0.13294412 0.91300605]\n",
            " [0.24862338 0.43811426 0.11002916 0.55956305]\n",
            " [0.14886024 0.13382659 0.30755493 0.34029452]]\n"
          ]
        }
      ],
      "source": [
        "def dateMatrix(mydate):\n",
        "  data = mydate.split(\"/\")\n",
        "  f = int(data[0]) - 1900\n",
        "  c = abs(int(data[1]) - int(data[2]))\n",
        "  result = np.random.random((f,c))\n",
        "  return result\n",
        "arr = dateMatrix(\"2000/01/05\")\n",
        "print(arr)\n",
        "\n"
      ]
    },
    {
      "cell_type": "markdown",
      "id": "ff8dbb92",
      "metadata": {
        "id": "ff8dbb92"
      },
      "source": [
        "## What is the difference between Python List and a Numpy Array?\n",
        "\n",
        "- Python list can contain elements with different data types, while Numpy Array‘s elements are always homogeneous (same data types).\n",
        "\n",
        "- Numpy arrays are faster and more compact than Python lists.\n",
        "\n",
        "## Why Numpy Arrays are faster than Lists?\n",
        "\n",
        "- Numpy Arrays use fixed memory to store data and less memory than Python lists.\n",
        "\n",
        "- Contiguous memory allocation in Numpy Arrays."
      ]
    },
    {
      "cell_type": "markdown",
      "id": "e3a7ba7f",
      "metadata": {
        "id": "e3a7ba7f"
      },
      "source": [
        "#### Exercise: Convert the list `my_list = [1, 2, 3]` to numpy array (★☆☆)"
      ]
    },
    {
      "cell_type": "code",
      "execution_count": null,
      "id": "01d8e257",
      "metadata": {
        "colab": {
          "base_uri": "https://localhost:8080/"
        },
        "id": "01d8e257",
        "outputId": "ce798be4-bc2e-4790-edfc-4dccb9d909fb"
      },
      "outputs": [
        {
          "output_type": "stream",
          "name": "stdout",
          "text": [
            "[1, 2, 3]\n",
            "<class 'list'>\n",
            "<class 'numpy.ndarray'>\n",
            "[1 2 3]\n"
          ]
        }
      ],
      "source": [
        "my_list = [ 1, 2, 3 ]\n",
        "print(my_list)\n",
        "print(type(my_list))\n",
        "my_array = np.asarray(my_list)\n",
        "print(type(my_array))\n",
        "print(my_array)"
      ]
    },
    {
      "cell_type": "markdown",
      "id": "6d17ab5d",
      "metadata": {
        "id": "6d17ab5d"
      },
      "source": [
        "#### Exercise: Convert the tuple `my_list = (1, 2, 3)` to numpy array (★☆☆)"
      ]
    },
    {
      "cell_type": "code",
      "execution_count": null,
      "id": "841373cd",
      "metadata": {
        "colab": {
          "base_uri": "https://localhost:8080/"
        },
        "id": "841373cd",
        "outputId": "18d28bd0-5de2-49df-928f-b247f82405c5"
      },
      "outputs": [
        {
          "output_type": "stream",
          "name": "stdout",
          "text": [
            "(1, 2, 3)\n",
            "<class 'tuple'>\n",
            "<class 'numpy.ndarray'>\n",
            "[1 2 3]\n"
          ]
        }
      ],
      "source": [
        "my_list = (1, 2, 3)\n",
        "print(my_list)\n",
        "print(type(my_list))\n",
        "my_array = np.asarray(my_list)\n",
        "print(type(my_array))\n",
        "print(my_array)"
      ]
    },
    {
      "cell_type": "markdown",
      "id": "8837119b",
      "metadata": {
        "id": "8837119b"
      },
      "source": [
        "#### Exercise: Convert the list of tuples `my_list = [(1,2,3), (4,5)]` to numpy array (★☆☆)"
      ]
    },
    {
      "cell_type": "code",
      "execution_count": null,
      "id": "2c0d16f1",
      "metadata": {
        "colab": {
          "base_uri": "https://localhost:8080/"
        },
        "id": "2c0d16f1",
        "outputId": "f8393de3-4e05-4689-b405-f0708de38f3b"
      },
      "outputs": [
        {
          "output_type": "stream",
          "name": "stdout",
          "text": [
            "[(1, 2, 3), (4, 5)]\n",
            "<class 'list'>\n",
            "[(1, 2, 3) (4, 5)]\n",
            "<class 'numpy.ndarray'>\n"
          ]
        }
      ],
      "source": [
        "my_list = [(1,2,3), (4,5)]\n",
        "print(my_list)\n",
        "print(type(my_list))\n",
        "my_array = np.asanyarray(my_list,dtype='object')\n",
        "print(my_array)\n",
        "print(type(my_array))"
      ]
    },
    {
      "cell_type": "markdown",
      "id": "ec788c9f",
      "metadata": {
        "id": "ec788c9f"
      },
      "source": [
        "#### Exercise: Resize a random array of dimensions 5x12 into 12x5 (★☆☆)\n",
        "\n",
        ">Check `reshape` from `numpy` (https://numpy.org/doc/stable/reference/generated/numpy.reshape.html)"
      ]
    },
    {
      "cell_type": "code",
      "execution_count": null,
      "id": "0a4f919f",
      "metadata": {
        "id": "0a4f919f",
        "colab": {
          "base_uri": "https://localhost:8080/"
        },
        "outputId": "3ac10791-b244-4c74-8e05-0d8ecf72592e"
      },
      "outputs": [
        {
          "output_type": "stream",
          "name": "stdout",
          "text": [
            "[[0.87611297 0.75837255 0.06693861 0.9085421  0.19916484 0.19118566\n",
            "  0.47611773 0.99913674 0.69399838 0.15318076 0.03085123 0.89810639]\n",
            " [0.83309013 0.27741735 0.29636341 0.84956979 0.83064125 0.97335747\n",
            "  0.54901706 0.0767513  0.74641736 0.01537318 0.83105777 0.42305842]\n",
            " [0.09801918 0.81736086 0.7067197  0.53971734 0.10351117 0.32322599\n",
            "  0.1516624  0.15918634 0.24185566 0.83279918 0.52730051 0.71878379]\n",
            " [0.30355696 0.12381522 0.05455878 0.75828825 0.56132053 0.84454769\n",
            "  0.6969453  0.77471906 0.26697246 0.98665814 0.20528151 0.39326474]\n",
            " [0.07789201 0.760835   0.48261216 0.14711254 0.49650235 0.68632832\n",
            "  0.85187973 0.78920716 0.37041092 0.80184364 0.62316228 0.78953139]]\n",
            "[[0.87611297 0.75837255 0.06693861 0.9085421  0.19916484]\n",
            " [0.19118566 0.47611773 0.99913674 0.69399838 0.15318076]\n",
            " [0.03085123 0.89810639 0.83309013 0.27741735 0.29636341]\n",
            " [0.84956979 0.83064125 0.97335747 0.54901706 0.0767513 ]\n",
            " [0.74641736 0.01537318 0.83105777 0.42305842 0.09801918]\n",
            " [0.81736086 0.7067197  0.53971734 0.10351117 0.32322599]\n",
            " [0.1516624  0.15918634 0.24185566 0.83279918 0.52730051]\n",
            " [0.71878379 0.30355696 0.12381522 0.05455878 0.75828825]\n",
            " [0.56132053 0.84454769 0.6969453  0.77471906 0.26697246]\n",
            " [0.98665814 0.20528151 0.39326474 0.07789201 0.760835  ]\n",
            " [0.48261216 0.14711254 0.49650235 0.68632832 0.85187973]\n",
            " [0.78920716 0.37041092 0.80184364 0.62316228 0.78953139]]\n"
          ]
        }
      ],
      "source": [
        "my_array = np.random.random((5,12))\n",
        "print(my_array)\n",
        "my_shape_array = np.reshape(my_array,(12,5))\n",
        "print(my_shape_array)"
      ]
    },
    {
      "cell_type": "markdown",
      "id": "391791e0",
      "metadata": {
        "id": "391791e0"
      },
      "source": [
        "#### Exercise: Create a function that normalize a 5x5 random matrix (★☆☆)\n",
        "\n",
        ">Remember from probability (https://en.wikipedia.org/wiki/Normalization_(statistics)) that :\n",
        "$$ x_{norm} = \\frac{x - \\bar{x}}{\\sigma}$$\n"
      ]
    },
    {
      "cell_type": "code",
      "execution_count": null,
      "id": "f6533d39",
      "metadata": {
        "id": "f6533d39",
        "colab": {
          "base_uri": "https://localhost:8080/"
        },
        "outputId": "57329631-8083-46a8-a831-62059fee56e0"
      },
      "outputs": [
        {
          "output_type": "stream",
          "name": "stdout",
          "text": [
            "Original Array:\n",
            "[[0.01921503 0.38579957 0.97385468 0.04295416 0.33756833]\n",
            " [0.38401484 0.32607674 0.77793287 0.3744505  0.01366238]\n",
            " [0.3633802  0.64441426 0.09503577 0.82355194 0.00580837]\n",
            " [0.38396871 0.3143162  0.42328449 0.47504789 0.44021555]\n",
            " [0.63998132 0.27472262 0.61477092 0.52235752 0.34958162]]\n",
            "After normalization:\n",
            "[[0.01384919 0.39253411 1.         0.03837191 0.34271084]\n",
            " [0.39069048 0.33083993 0.79761112 0.38081043 0.00811326]\n",
            " [0.36937471 0.65968526 0.09217266 0.844736   0.        ]\n",
            " [0.39064282 0.31869118 0.43125635 0.48472838 0.44874628]\n",
            " [0.655106   0.27779069 0.62906345 0.53359963 0.35512067]]\n"
          ]
        }
      ],
      "source": [
        "import numpy as np\n",
        "def normalize(x):\n",
        "  xmax, xmin = x.max(), x.min()\n",
        "  x = (x - xmin)/(xmax - xmin)\n",
        "  return x\n",
        "x= np.random.random((5,5))\n",
        "print(\"Original Array:\")\n",
        "print(x)\n",
        "#xmax, xmin = x.max(), x.min()\n",
        "#x = (x - xmin)/(xmax - xmin)\n",
        "#print(x)\n",
        "y = normalize(x)\n",
        "print(\"After normalization:\")\n",
        "print(y)"
      ]
    },
    {
      "cell_type": "markdown",
      "id": "d2d143f1",
      "metadata": {
        "id": "d2d143f1"
      },
      "source": [
        "## Stacking numpy arrays\n",
        "\n",
        "Stacking is used to join a sequence of same dimension arrays along a new axis.\n",
        "\n",
        "`numpy.stack(arrays,axis)` : It returns a stacked array of the input arrays which has one more dimension than the input arrays.\n",
        "\n",
        "### You have two ways to do it:\n",
        "\n",
        "\n",
        "![alt text](./assets/stack.jpeg \"stack\")\n",
        "\n",
        "\n",
        "### or\n",
        "\n",
        "\n",
        "![alt text](./assets/stack2.jpeg \"stack\")\n",
        "\n",
        "\n"
      ]
    },
    {
      "cell_type": "markdown",
      "id": "1e74d39e",
      "metadata": {
        "id": "1e74d39e"
      },
      "source": [
        "#### Exercise: Generate two random arrays with integers and apply the stacking using `stack` (★★☆)"
      ]
    },
    {
      "cell_type": "code",
      "execution_count": null,
      "id": "3f639d33",
      "metadata": {
        "id": "3f639d33",
        "colab": {
          "base_uri": "https://localhost:8080/"
        },
        "outputId": "0f67481b-e188-42ac-e6e9-9f3e47a28e2d"
      },
      "outputs": [
        {
          "output_type": "stream",
          "name": "stdout",
          "text": [
            "arr1: \n",
            " [[0.95004173 0.58319808 0.02886947]\n",
            " [0.53667407 0.08197439 0.23157273]\n",
            " [0.87619427 0.09027751 0.69180386]]\n",
            "\n",
            " arr2: \n",
            " [[0.12741998 0.51391846 0.20501112]\n",
            " [0.37315228 0.91563944 0.30472969]\n",
            " [0.75417275 0.0883121  0.05424005]]\n",
            "\n",
            " arr_stack: \n",
            " [[[0.95004173 0.58319808 0.02886947]\n",
            "  [0.53667407 0.08197439 0.23157273]\n",
            "  [0.87619427 0.09027751 0.69180386]]\n",
            "\n",
            " [[0.12741998 0.51391846 0.20501112]\n",
            "  [0.37315228 0.91563944 0.30472969]\n",
            "  [0.75417275 0.0883121  0.05424005]]]\n"
          ]
        }
      ],
      "source": [
        "arr1 = np.random.random((3, 3))\n",
        "print('arr1: \\n',arr1)\n",
        "arr2 = np.random.random((3,3))\n",
        "print('\\n arr2: \\n',arr2)\n",
        "arr_stack = np.stack((arr1, arr2))\n",
        "print('\\n arr_stack: \\n',arr_stack)"
      ]
    },
    {
      "cell_type": "markdown",
      "id": "78250c14",
      "metadata": {
        "id": "78250c14"
      },
      "source": [
        "#### Exercise: Generate two random arrays with integers and apply the stacking using `hstack` and `vstack` (★★☆)"
      ]
    },
    {
      "cell_type": "code",
      "execution_count": null,
      "id": "9fe729cb",
      "metadata": {
        "id": "9fe729cb",
        "colab": {
          "base_uri": "https://localhost:8080/"
        },
        "outputId": "93c68fe8-29c3-4278-d85e-58f00e85f183"
      },
      "outputs": [
        {
          "output_type": "stream",
          "name": "stdout",
          "text": [
            "arr1: \n",
            " [[0.88541951 0.19410446 0.59251648]\n",
            " [0.09876761 0.23475846 0.32223317]\n",
            " [0.18812919 0.97034053 0.75901506]]\n",
            "\n",
            " arr2: \n",
            " [[0.17442542 0.21342815 0.32810349]\n",
            " [0.37060122 0.45548876 0.97258368]\n",
            " [0.10097075 0.21531494 0.27805449]]\n",
            "\n",
            " arr_hstack: \n",
            " [[0.88541951 0.19410446 0.59251648 0.17442542 0.21342815 0.32810349]\n",
            " [0.09876761 0.23475846 0.32223317 0.37060122 0.45548876 0.97258368]\n",
            " [0.18812919 0.97034053 0.75901506 0.10097075 0.21531494 0.27805449]]\n",
            "\n",
            " arr_vstack: \n",
            " [[0.88541951 0.19410446 0.59251648]\n",
            " [0.09876761 0.23475846 0.32223317]\n",
            " [0.18812919 0.97034053 0.75901506]\n",
            " [0.17442542 0.21342815 0.32810349]\n",
            " [0.37060122 0.45548876 0.97258368]\n",
            " [0.10097075 0.21531494 0.27805449]]\n"
          ]
        }
      ],
      "source": [
        "arr1 = np.random.random((3,3))\n",
        "print('arr1: \\n',arr1)\n",
        "arr2 = np.random.random((3,3))\n",
        "print('\\n arr2: \\n',arr2)\n",
        "arr_hstack = np.hstack((arr1, arr2))\n",
        "print('\\n arr_hstack: \\n',arr_hstack)\n",
        "arr_vstack = np.vstack((arr1, arr2))\n",
        "print('\\n arr_vstack: \\n',arr_vstack)"
      ]
    },
    {
      "cell_type": "markdown",
      "id": "51898680",
      "metadata": {
        "id": "51898680"
      },
      "source": [
        "## Basic maths in numpy\n",
        "\n",
        "You can make typical math operations like:\n",
        "\n",
        "- Addition,Subtraction,Multiplication and Division between two arrays using numpy.\n",
        "- Operation on arrays using sum() & cumsum() function.\n",
        "- Minimum and Maximum value from an array.\n",
        "- Exponent/Power , Square Root and Cube Root functions.\n",
        "\n",
        "or even apply common trigonometric functions:\n",
        "\n",
        "- `numpy.sin()`:  Sine (x) Function\n",
        "- `numpy.cos()`: Cosine(x) Function\n",
        "- `numpy.tan()`: Tangent(x) Function\n",
        "- `numpy.sinh()`: Hyperbolic Sine (x) Function\n",
        "- `numpy.cosh()`: Hyperbolic Cosine(x) Function\n",
        "- `numpy.tanh()`: Hyperbolic Tangent(x) Function\n",
        "- `numpy.arcsin()`: Inverse Sine(x) Function\n",
        "- `numpy.arccos()`: Inverse Cosine(x) Function\n",
        "- `numpy.arctan()`: Inverse Tangent(X) Function\n",
        "- `numpy.pi`: Pi value π\n",
        "- `numpy.hypot(w,h)`: For calculating Hypotenuse $c = \\sqrt{(w^2 + h^2)}$\n",
        "- `numpy.rad2deg()`: Radians to degrees\n",
        "- `numpy.deg2rad()`: Degrees to radians"
      ]
    },
    {
      "cell_type": "markdown",
      "id": "89e78048",
      "metadata": {
        "id": "89e78048"
      },
      "source": [
        "#### Exercise: Generate two random 8 - dimensional vectors and apply the most common operation between vectors:  addition, substraction, multiplication, division(★☆☆)\n",
        "\n",
        ">Check the math functions here: https://numpy.org/doc/stable/reference/routines.math.html"
      ]
    },
    {
      "cell_type": "code",
      "execution_count": 14,
      "id": "b62e9d1c",
      "metadata": {
        "id": "b62e9d1c",
        "colab": {
          "base_uri": "https://localhost:8080/"
        },
        "outputId": "553e7959-8165-4832-d347-98351635fc06"
      },
      "outputs": [
        {
          "output_type": "stream",
          "name": "stdout",
          "text": [
            "[[39. 36.  4. 33. 86. 21. 40. 32.]]\n",
            "[[56.  7. 86. 99. 76. 69. 66. 97.]]\n",
            "sum: \n",
            " [[ 95.  43.  90. 132. 162.  90. 106. 129.]]\n",
            "subtract: \n",
            " [[-17.  29. -82. -66.  10. -48. -26. -65.]]\n",
            "multiply: \n",
            " [[2184.  252.  344. 3267. 6536. 1449. 2640. 3104.]]\n",
            "divide: \n",
            " [[0.69642857 5.14285714 0.04651163 0.33333333 1.13157895 0.30434783\n",
            "  0.60606061 0.32989691]]\n"
          ]
        }
      ],
      "source": [
        "#arr1 = np.random.random((1,8))\n",
        "#arr2 = np.random.random((1,8))\n",
        "arr1 = np.round(np.random.random((1,8))*100)\n",
        "arr2 = np.round(np.random.random((1,8))*100)\n",
        "print(arr1)\n",
        "print(arr2)\n",
        "print(\"sum: \\n\",np.add(arr1, arr2))\n",
        "print(\"subtract: \\n\",np.subtract(arr1, arr2))\n",
        "print(\"multiply: \\n\",np.multiply(arr1, arr2))\n",
        "print(\"divide: \\n\",np.divide(arr1, arr2))\n"
      ]
    },
    {
      "cell_type": "markdown",
      "id": "ebd10810",
      "metadata": {
        "id": "ebd10810"
      },
      "source": [
        "#### Exercise: Generate two random matrices with dimensions between 5 and 10. For example, try 5x7 vs 8x9. Were you able to do the matrix multiplication? why? (★★☆) "
      ]
    },
    {
      "cell_type": "code",
      "execution_count": 20,
      "id": "6ada209f",
      "metadata": {
        "id": "6ada209f",
        "colab": {
          "base_uri": "https://localhost:8080/"
        },
        "outputId": "3da7d63b-4b7b-4624-c7ba-df898a00f4fa"
      },
      "outputs": [
        {
          "output_type": "stream",
          "name": "stdout",
          "text": [
            "[[90. 56. 48. 84. 46. 41. 99.]\n",
            " [88. 14. 56.  2. 21.  6.  5.]\n",
            " [46. 39. 34. 63. 38. 25. 56.]\n",
            " [53. 73. 52. 52. 82. 81. 86.]\n",
            " [86. 65.  4. 87. 58. 53. 40.]]\n",
            "[[ 22.  57.  16.  47.  87.  59.  41.  37.   3.]\n",
            " [ 56.  52.  19.  30.  71.  93.  32.  13.   3.]\n",
            " [ 11.  52.  21.  12.  64.  77.  31. 100.   7.]\n",
            " [ 63.  45.  60.  34.  42.  78.  53.  41.  83.]\n",
            " [ 44.  91.  83.  70.  66.  14.  67.  38.  76.]\n",
            " [ 73.  83.  31.  95.  59.  39.  48.  28.  74.]\n",
            " [ 17.  68.  62.  90.  63.  69.  61.  16.  58.]\n",
            " [ 23.  80.  34.  84.  19.  38.  93.  11.   8.]]\n"
          ]
        }
      ],
      "source": [
        "arr1 = np.round(np.random.random((5,7))*100)\n",
        "arr2 = np.round(np.random.random((8,9))*100)\n",
        "print(arr1)\n",
        "print(arr2)\n",
        "#print(\"multiply: \\n\",np.multiply(arr1, arr2)) #Not be able because not sabe files or columns\n"
      ]
    },
    {
      "cell_type": "markdown",
      "id": "c0e940f8",
      "metadata": {
        "id": "c0e940f8"
      },
      "source": [
        "#### Exercise: Given 2 numpy arrays as matrices, output the result of multiplying the 2 matrices (as a numpy array) Were you able to do the matrix multiplication? (★★☆) \n",
        "\n",
        "$$ a = \\left(\\begin{matrix}\n",
        "0 & 1 & 2\\\\ \n",
        "3 & 4 & 5\\\\ \n",
        "6 & 7 & 8\n",
        "\\end{matrix}\\right)$$\n",
        "\n",
        "$$ b = \\left(\\begin{matrix}\n",
        "2 & 3 & 4\\\\ \n",
        "5 & 6 & 7\\\\ \n",
        "8 & 9 & 10\n",
        "\\end{matrix}\\right)$$\n",
        "\n",
        "\n"
      ]
    },
    {
      "cell_type": "code",
      "execution_count": 21,
      "id": "820dc7a5",
      "metadata": {
        "id": "820dc7a5",
        "colab": {
          "base_uri": "https://localhost:8080/",
          "height": 36
        },
        "outputId": "4162b5fe-9d86-474e-bce6-179fa5541a54"
      },
      "outputs": [
        {
          "output_type": "execute_result",
          "data": {
            "text/plain": [
              "'If the arrays has sabe files and columns, we can do the multiplication'"
            ],
            "application/vnd.google.colaboratory.intrinsic+json": {
              "type": "string"
            }
          },
          "metadata": {},
          "execution_count": 21
        }
      ],
      "source": [
        "'If the arrays has sabe files or columns, we can do the multiplication'"
      ]
    },
    {
      "cell_type": "markdown",
      "id": "22713c3f",
      "metadata": {
        "id": "22713c3f"
      },
      "source": [
        "#### Exercise: Multiply a 5x3 matrix by a 3x2 matrix (real matrix product) (★★☆)"
      ]
    },
    {
      "cell_type": "code",
      "execution_count": 36,
      "id": "a3e05c29",
      "metadata": {
        "id": "a3e05c29",
        "colab": {
          "base_uri": "https://localhost:8080/"
        },
        "outputId": "8b0823ad-acdf-42d3-b4e6-26f38a74be0a"
      },
      "outputs": [
        {
          "output_type": "stream",
          "name": "stdout",
          "text": [
            "arr1: \n",
            " [[7 6]\n",
            " [5 5]\n",
            " [9 2]]\n",
            "arr2: \n",
            " [[ 5.  1.]\n",
            " [ 1.  3.]\n",
            " [10.  5.]]\n",
            "(3, 2)\n",
            "(3, 2)\n",
            "multiply: \n",
            " [[35.  6.]\n",
            " [ 5. 15.]\n",
            " [90. 10.]]\n",
            "dot: \n",
            " [[ 41.  25. 100.]\n",
            " [ 30.  20.  75.]\n",
            " [ 47.  15. 100.]]\n"
          ]
        }
      ],
      "source": [
        "#arr1 = np.round(np.random.random((5,3))*10)\n",
        "#arr2 = np.round(np.random.random((3,2))*10)\n",
        "rng = np.random.default_rng(0)\n",
        "arr1 = rng.integers(10, size=(5, 3))\n",
        "arr1 = rng.integers(10, size=(3, 2))\n",
        "print(\"arr1: \\n\",arr1)\n",
        "print(\"arr2: \\n\",arr2)\n",
        "print(arr1.shape)\n",
        "print(arr2.shape)\n",
        "print(\"multiply: \\n\",np.multiply(arr1, arr2))\n",
        "print(\"dot: \\n\",np.dot(arr1, arr2.T))"
      ]
    },
    {
      "cell_type": "markdown",
      "id": "4815930e",
      "metadata": {
        "id": "4815930e"
      },
      "source": [
        "## Data types\n",
        "\n",
        "Do you think the following preposition is true?\n",
        "\n",
        "`8==8`\n",
        "\n",
        "Surely you will definetely say yes, which is true mathematically, but computationally it is not always the same, at least in terms of memory. For example, run the following cell:"
      ]
    },
    {
      "cell_type": "code",
      "execution_count": 37,
      "id": "cd81c3c6",
      "metadata": {
        "id": "cd81c3c6",
        "colab": {
          "base_uri": "https://localhost:8080/"
        },
        "outputId": "90c32849-861b-4ed7-977c-28af4f768c51"
      },
      "outputs": [
        {
          "output_type": "stream",
          "name": "stdout",
          "text": [
            "int64: 96\n",
            "int8: 89\n",
            "float32: 92\n"
          ]
        }
      ],
      "source": [
        "import sys\n",
        "\n",
        "# int64\n",
        "x = np.array(123)\n",
        "print(\"int64: \" + str(sys.getsizeof(x)))\n",
        "\n",
        "# int8\n",
        "x = np.array(123,dtype=np.int8)\n",
        "print(\"int8: \" + str(sys.getsizeof(x)))\n",
        "\n",
        "# float32\n",
        "x = np.array(123,dtype=np.float32)\n",
        "print(\"float32: \" + str(sys.getsizeof(x)))"
      ]
    },
    {
      "cell_type": "markdown",
      "id": "8e34f294",
      "metadata": {
        "id": "8e34f294"
      },
      "source": [
        "#### It turns out that there are many computational representation of the same number and you can create arrays with different Data Types (dtypes) depending on what you need:\n",
        "\n",
        "- Boolean : `np.bool_`\n",
        "- Char : `np.byte`\n",
        "- Short : `np.short`\n",
        "- Integer : `np.short`\n",
        "- Long : `np.int_`\n",
        "- Float : `np.single`&np.float32`\n",
        "- Double :`np.double`&`np.float64`\n",
        "- `np.int8`: integer (-128 to 127)\n",
        "- `np.int16`:integer( -32768 to 32767)\n",
        "- `np.int32`: integer(-2147483648 to 2147483647)\n",
        "- `np.int64`:integer( -9223372036854775808 to 9223372036854775807)\n",
        "\n",
        "\n",
        "Sometimes, you will need to load, create or export arrays from different data types.\n"
      ]
    },
    {
      "cell_type": "code",
      "execution_count": null,
      "id": "890bde78",
      "metadata": {
        "id": "890bde78"
      },
      "outputs": [],
      "source": [
        ""
      ]
    },
    {
      "cell_type": "markdown",
      "id": "f1ae2c2d",
      "metadata": {
        "id": "f1ae2c2d"
      },
      "source": [
        "## Harder exercises\n",
        "\n",
        "The next exercises are related with real situations you could face while you are working in data science and machine learning. Also, we will be frequently talking about matrices and bidimensional arrays."
      ]
    },
    {
      "cell_type": "markdown",
      "id": "759c9c8d",
      "metadata": {
        "id": "759c9c8d"
      },
      "source": [
        "#### Exercise: Subtract the mean of each row of a matrix (★★☆)"
      ]
    },
    {
      "cell_type": "code",
      "execution_count": 40,
      "id": "6801c73d",
      "metadata": {
        "id": "6801c73d",
        "colab": {
          "base_uri": "https://localhost:8080/"
        },
        "outputId": "5f029bd0-07e6-4934-e208-2fa97666e851"
      },
      "outputs": [
        {
          "output_type": "stream",
          "name": "stdout",
          "text": [
            "Original matrix:\n",
            "\n",
            "[[0.17800171 0.57231224 0.6373922  0.96964256 0.02177149 0.67317633\n",
            "  0.43904134 0.69326829 0.86287622 0.20566566]\n",
            " [0.36943095 0.7929503  0.66765085 0.53825712 0.65486774 0.44057119\n",
            "  0.50320819 0.35092632 0.83325774 0.45705454]\n",
            " [0.41374854 0.00119384 0.55132814 0.49645825 0.66886128 0.0029141\n",
            "  0.20757275 0.61586817 0.03958583 0.27801419]\n",
            " [0.38294929 0.17360083 0.71413243 0.42397588 0.92701874 0.57666662\n",
            "  0.67941839 0.27716239 0.4037648  0.01871559]\n",
            " [0.02974066 0.09158874 0.13988609 0.84560633 0.62824777 0.72103798\n",
            "  0.58531379 0.5150355  0.6979223  0.08583932]]\n",
            "\n",
            "Subtract the mean of each row of the said matrix:\n",
            "\n",
            "[[-0.34731309  0.04699744  0.1120774   0.44432776 -0.50354331  0.14786153\n",
            "  -0.08627346  0.16795348  0.33756141 -0.31964914]\n",
            " [-0.19138655  0.2321328   0.10683336 -0.02256038  0.09405025 -0.1202463\n",
            "  -0.0576093  -0.20989117  0.27244025 -0.10376296]\n",
            " [ 0.08619403 -0.32636067  0.22377364  0.16890374  0.34130677 -0.32464041\n",
            "  -0.11998176  0.28831366 -0.28796867 -0.04954032]\n",
            " [-0.0747912  -0.28413967  0.25639193 -0.03376462  0.46927824  0.11892612\n",
            "   0.2216779  -0.1805781  -0.0539757  -0.4390249 ]\n",
            " [-0.40428118 -0.34243311 -0.29413576  0.41158448  0.19422592  0.28701613\n",
            "   0.15129194  0.08101365  0.26390046 -0.34818253]]\n",
            "[[85 63 51]\n",
            " [26 30  4]\n",
            " [ 7  1 17]\n",
            " [81 64 91]\n",
            " [50 60 97]]\n",
            "\n",
            "Subtract the mean of each row of the said matrix:\n",
            "\n",
            "[[ 18.66666667  -3.33333333 -15.33333333]\n",
            " [  6.          10.         -16.        ]\n",
            " [ -1.33333333  -7.33333333   8.66666667]\n",
            " [  2.33333333 -14.66666667  12.33333333]\n",
            " [-19.          -9.          28.        ]]\n"
          ]
        }
      ],
      "source": [
        "print(\"Original matrix:\\n\")\n",
        "X = np.random.rand(5, 10)\n",
        "print(X)\n",
        "print(\"\\nSubtract the mean of each row of the said matrix:\\n\")\n",
        "Y = X - X.mean(axis=1, keepdims=True)\n",
        "print(Y)\n",
        "rng = np.random.default_rng(0)\n",
        "x = rng.integers(100, size=(5, 3))\n",
        "print(x)\n",
        "print(\"\\nSubtract the mean of each row of the said matrix:\\n\")\n",
        "y = x - x.mean(axis=1, keepdims=True)\n",
        "print(y)"
      ]
    },
    {
      "cell_type": "markdown",
      "id": "129c342d",
      "metadata": {
        "id": "129c342d"
      },
      "source": [
        "#### Exercise: How to get the dates of yesterday, today and tomorrow? (★★☆)\n",
        "\n",
        ">Check `np.datetime64`, `np.timedelta64` in numpy (https://numpy.org/doc/stable/reference/arrays.datetime.html)"
      ]
    },
    {
      "cell_type": "code",
      "execution_count": 41,
      "id": "8ba1badb",
      "metadata": {
        "id": "8ba1badb",
        "colab": {
          "base_uri": "https://localhost:8080/"
        },
        "outputId": "de979946-ca0f-4488-ff5b-6ce8e24ce417"
      },
      "outputs": [
        {
          "output_type": "stream",
          "name": "stdout",
          "text": [
            "Yestraday:  2022-05-16\n",
            "Today:  2022-05-17\n",
            "Tomorrow:  2022-05-18\n"
          ]
        }
      ],
      "source": [
        "yesterday = np.datetime64('today', 'D') - np.timedelta64(1, 'D')\n",
        "print(\"Yestraday: \",yesterday)\n",
        "today     = np.datetime64('today', 'D')\n",
        "print(\"Today: \",today)\n",
        "tomorrow  = np.datetime64('today', 'D') + np.timedelta64(1, 'D')\n",
        "print(\"Tomorrow: \",tomorrow)"
      ]
    },
    {
      "cell_type": "markdown",
      "id": "42f8b2f9",
      "metadata": {
        "id": "42f8b2f9"
      },
      "source": [
        "#### Exercise: How to get all the dates corresponding to the month of December 2022? (★★☆)\n",
        "Combine `arange`with `datetime`\n"
      ]
    },
    {
      "cell_type": "code",
      "execution_count": 42,
      "id": "eb8ebe45",
      "metadata": {
        "id": "eb8ebe45",
        "colab": {
          "base_uri": "https://localhost:8080/"
        },
        "outputId": "3d319b7b-39b6-4e1f-f5e0-8c5c8b21be7c"
      },
      "outputs": [
        {
          "output_type": "stream",
          "name": "stdout",
          "text": [
            "['2022-12-01' '2022-12-02' '2022-12-03' '2022-12-04' '2022-12-05'\n",
            " '2022-12-06' '2022-12-07' '2022-12-08' '2022-12-09' '2022-12-10'\n",
            " '2022-12-11' '2022-12-12' '2022-12-13' '2022-12-14' '2022-12-15'\n",
            " '2022-12-16' '2022-12-17' '2022-12-18' '2022-12-19' '2022-12-20'\n",
            " '2022-12-21' '2022-12-22' '2022-12-23' '2022-12-24' '2022-12-25'\n",
            " '2022-12-26' '2022-12-27' '2022-12-28' '2022-12-29' '2022-12-30'\n",
            " '2022-12-31']\n"
          ]
        }
      ],
      "source": [
        "days = np.arange('2022-12', '2023-01', dtype='datetime64[D]')\n",
        "print(days)"
      ]
    },
    {
      "cell_type": "markdown",
      "id": "486df8ea",
      "metadata": {
        "id": "486df8ea"
      },
      "source": [
        "#### Exercise: Extract the integer part of a random array of positive numbers using 2 different methods (★★☆)"
      ]
    },
    {
      "cell_type": "code",
      "execution_count": 1,
      "id": "34b4fa08",
      "metadata": {
        "id": "34b4fa08",
        "colab": {
          "base_uri": "https://localhost:8080/"
        },
        "outputId": "6d0c1289-e888-4585-e973-04d0d9c76124"
      },
      "outputs": [
        {
          "output_type": "stream",
          "name": "stdout",
          "text": [
            "[[ 4.  6.  7.]\n",
            " [10.  4.  4.]\n",
            " [ 7.  1.  3.]\n",
            " [ 3.  1. 10.]\n",
            " [ 4.  3.  4.]]\n",
            "[[87.22984162 17.42791366 83.49770079]\n",
            " [35.47735632 83.92648151 68.14234428]\n",
            " [61.23052146 47.19296979 63.64642636]\n",
            " [57.54273779 60.08654509  8.1488049 ]\n",
            " [56.35634216 57.56384449 75.98255859]]\n",
            "[[87. 17. 83.]\n",
            " [35. 84. 68.]\n",
            " [61. 47. 64.]\n",
            " [58. 60.  8.]\n",
            " [56. 58. 76.]]\n"
          ]
        }
      ],
      "source": [
        "import numpy as np\n",
        "arr1 = np.round(np.random.random((5,3))*10)\n",
        "print(arr1)\n",
        "arr2 = np.random.random((5,3))*100\n",
        "print(arr2)\n",
        "print(np.round(arr2))"
      ]
    },
    {
      "cell_type": "markdown",
      "id": "649e89f9",
      "metadata": {
        "id": "649e89f9"
      },
      "source": [
        "#### Exercise: Create a 5x5 matrix with row values ranging from 0 to 4 (★★☆)"
      ]
    },
    {
      "cell_type": "code",
      "execution_count": 2,
      "id": "663cc611",
      "metadata": {
        "id": "663cc611",
        "colab": {
          "base_uri": "https://localhost:8080/"
        },
        "outputId": "d51a5822-a7a8-4894-a32d-c18f154c0d77"
      },
      "outputs": [
        {
          "output_type": "stream",
          "name": "stdout",
          "text": [
            "[[4 1 3 4 0]\n",
            " [0 0 3 2 2]\n",
            " [3 0 4 3 3]\n",
            " [3 0 4 3 3]\n",
            " [4 3 1 2 4]]\n"
          ]
        }
      ],
      "source": [
        "mat = np.random.randint(5, size=(5, 5))\n",
        "print(mat)"
      ]
    },
    {
      "cell_type": "markdown",
      "id": "3421e17f",
      "metadata": {
        "id": "3421e17f"
      },
      "source": [
        "#### Exercise: Consider a generator function that generates 10 integers and use it to build an array (★★☆)"
      ]
    },
    {
      "cell_type": "code",
      "execution_count": 3,
      "id": "7336b8e4",
      "metadata": {
        "id": "7336b8e4",
        "colab": {
          "base_uri": "https://localhost:8080/"
        },
        "outputId": "4abd7ba7-18f2-4be1-93ae-cfe4d6e397f3"
      },
      "outputs": [
        {
          "output_type": "stream",
          "name": "stdout",
          "text": [
            "[[72 52 88  8 19 50 58 95 30 99]]\n"
          ]
        }
      ],
      "source": [
        "#num = np.random.randint(10, size=(5, 5))\n",
        "num = np.random.randint(100, size=(1,10))\n",
        "print(num)"
      ]
    },
    {
      "cell_type": "markdown",
      "id": "483dd554",
      "metadata": {
        "id": "483dd554"
      },
      "source": [
        "#### Exercise: Create a vector of size 10 with values ranging from 0 to 1, both excluded (★★☆)"
      ]
    },
    {
      "cell_type": "code",
      "execution_count": 4,
      "id": "c89b93e7",
      "metadata": {
        "id": "c89b93e7",
        "colab": {
          "base_uri": "https://localhost:8080/"
        },
        "outputId": "279b9245-f6d2-4f56-b6a4-51d5d3029e8a"
      },
      "outputs": [
        {
          "output_type": "stream",
          "name": "stdout",
          "text": [
            "[0.09090909 0.18181818 0.27272727 0.36363636 0.45454545 0.54545455\n",
            " 0.63636364 0.72727273 0.81818182 0.90909091]\n"
          ]
        }
      ],
      "source": [
        "x = np.linspace(0,1,12,endpoint=True)[1:-1]\n",
        "print(x)"
      ]
    },
    {
      "cell_type": "markdown",
      "id": "2d07be1c",
      "metadata": {
        "id": "2d07be1c"
      },
      "source": [
        "#### Exercise: Create a random vector of size 10 and sort it (★★☆)"
      ]
    },
    {
      "cell_type": "code",
      "execution_count": 5,
      "id": "4f7cb3ad",
      "metadata": {
        "id": "4f7cb3ad",
        "colab": {
          "base_uri": "https://localhost:8080/"
        },
        "outputId": "1bf2dc47-844e-4166-cf21-f3f5c163d899"
      },
      "outputs": [
        {
          "output_type": "stream",
          "name": "stdout",
          "text": [
            "Original array:\n",
            "[0.26368854 0.83399571 0.08810257 0.21243918 0.12365566 0.48270092\n",
            " 0.9242015  0.63544242 0.70099141 0.15014498]\n",
            "Sorted array:\n",
            "[0.08810257 0.12365566 0.15014498 0.21243918 0.26368854 0.48270092\n",
            " 0.63544242 0.70099141 0.83399571 0.9242015 ]\n"
          ]
        }
      ],
      "source": [
        "x = np.random.random(10)\n",
        "print(\"Original array:\")\n",
        "print(x)\n",
        "x.sort()\n",
        "print(\"Sorted array:\")\n",
        "print(x)"
      ]
    },
    {
      "cell_type": "markdown",
      "id": "fe043549",
      "metadata": {
        "id": "fe043549"
      },
      "source": [
        "#### Exercise: Consider two random arrays A and B, check if they are equal (★★☆)"
      ]
    },
    {
      "cell_type": "code",
      "execution_count": 6,
      "id": "3326a686",
      "metadata": {
        "id": "3326a686",
        "colab": {
          "base_uri": "https://localhost:8080/"
        },
        "outputId": "713753e3-36da-43da-fa8b-193033dab433"
      },
      "outputs": [
        {
          "output_type": "stream",
          "name": "stdout",
          "text": [
            "First array:\n",
            "[0 1 1 1 0 0]\n",
            "Second array:\n",
            "[0 0 0 1 1 1]\n",
            "Test above two arrays are equal or not!\n",
            "False\n"
          ]
        }
      ],
      "source": [
        "x = np.random.randint(0,2,6)\n",
        "print(\"First array:\")\n",
        "print(x)\n",
        "y = np.random.randint(0,2,6)\n",
        "print(\"Second array:\")\n",
        "print(y)\n",
        "print(\"Test above two arrays are equal or not!\")\n",
        "array_equal = np.allclose(x, y)\n",
        "print(array_equal)"
      ]
    },
    {
      "cell_type": "markdown",
      "id": "2002cb03",
      "metadata": {
        "id": "2002cb03"
      },
      "source": [
        "#### Exercise: Consider a random 10x2 matrix representing cartesian coordinates, convert them to polar coordinates (★★★)\n",
        ">Suggestion: check how to calculate the \"square of a matrix\""
      ]
    },
    {
      "cell_type": "code",
      "execution_count": 7,
      "id": "58be72bc",
      "metadata": {
        "id": "58be72bc",
        "colab": {
          "base_uri": "https://localhost:8080/"
        },
        "outputId": "0f41d09f-041d-4f92-fa07-165ad0fc97ce"
      },
      "outputs": [
        {
          "output_type": "stream",
          "name": "stdout",
          "text": [
            "[0.38312004 1.07902084 0.87737728 0.7365802  0.25169255 0.20444295\n",
            " 0.24697369 1.00203788 0.7105436  0.44667402]\n",
            "[0.48281176 0.70041471 1.2390079  1.28098501 0.92714129 1.37264221\n",
            " 1.15312435 0.12670404 1.03367995 0.19809366]\n"
          ]
        }
      ],
      "source": [
        "z= np.random.random((10,2))\n",
        "x,y = z[:,0], z[:,1]\n",
        "r = np.sqrt(x**2+y**2)\n",
        "t = np.arctan2(y,x)\n",
        "print(r)\n",
        "print(t)"
      ]
    },
    {
      "cell_type": "markdown",
      "id": "b7109c9f",
      "metadata": {
        "id": "b7109c9f"
      },
      "source": [
        "#### Exercise: Create random vector of size 10 and replace the maximum value by 0 (★★☆)"
      ]
    },
    {
      "cell_type": "code",
      "execution_count": 1,
      "id": "f79e79a7",
      "metadata": {
        "id": "f79e79a7",
        "colab": {
          "base_uri": "https://localhost:8080/"
        },
        "outputId": "fa535584-92a8-4dee-bbcf-befdf02e0e27"
      },
      "outputs": [
        {
          "output_type": "stream",
          "name": "stdout",
          "text": [
            "Original array:\n",
            "[0.21719509 0.83274431 0.23911462 0.21959903 0.97858304 0.27146434\n",
            " 0.54162162 0.54339697 0.34448848 0.38886839]\n",
            "Maximum value replaced by 0:\n",
            "[0.21719509 0.83274431 0.23911462 0.21959903 0.         0.27146434\n",
            " 0.54162162 0.54339697 0.34448848 0.38886839]\n"
          ]
        }
      ],
      "source": [
        "import numpy as np\n",
        "x = np.random.random(10)\n",
        "print(\"Original array:\")\n",
        "print(x)\n",
        "x[x.argmax()] = 0\n",
        "print(\"Maximum value replaced by 0:\")\n",
        "print(x)\n"
      ]
    },
    {
      "cell_type": "markdown",
      "id": "fb24674c",
      "metadata": {
        "id": "fb24674c"
      },
      "source": [
        "#### Exercise: How to print all the values of an array? (★★☆)"
      ]
    },
    {
      "cell_type": "code",
      "execution_count": 11,
      "id": "c81f1456",
      "metadata": {
        "id": "c81f1456",
        "colab": {
          "base_uri": "https://localhost:8080/"
        },
        "outputId": "a9cf8c44-29b3-45d3-88f3-fd9392a9dc63"
      },
      "outputs": [
        {
          "output_type": "stream",
          "name": "stdout",
          "text": [
            "[   0    1    2 ...  998  999 1000]\n",
            "[   0    1    2    3    4    5    6    7    8    9   10   11   12   13\n",
            "   14   15   16   17   18   19   20   21   22   23   24   25   26   27\n",
            "   28   29   30   31   32   33   34   35   36   37   38   39   40   41\n",
            "   42   43   44   45   46   47   48   49   50   51   52   53   54   55\n",
            "   56   57   58   59   60   61   62   63   64   65   66   67   68   69\n",
            "   70   71   72   73   74   75   76   77   78   79   80   81   82   83\n",
            "   84   85   86   87   88   89   90   91   92   93   94   95   96   97\n",
            "   98   99  100  101  102  103  104  105  106  107  108  109  110  111\n",
            "  112  113  114  115  116  117  118  119  120  121  122  123  124  125\n",
            "  126  127  128  129  130  131  132  133  134  135  136  137  138  139\n",
            "  140  141  142  143  144  145  146  147  148  149  150  151  152  153\n",
            "  154  155  156  157  158  159  160  161  162  163  164  165  166  167\n",
            "  168  169  170  171  172  173  174  175  176  177  178  179  180  181\n",
            "  182  183  184  185  186  187  188  189  190  191  192  193  194  195\n",
            "  196  197  198  199  200  201  202  203  204  205  206  207  208  209\n",
            "  210  211  212  213  214  215  216  217  218  219  220  221  222  223\n",
            "  224  225  226  227  228  229  230  231  232  233  234  235  236  237\n",
            "  238  239  240  241  242  243  244  245  246  247  248  249  250  251\n",
            "  252  253  254  255  256  257  258  259  260  261  262  263  264  265\n",
            "  266  267  268  269  270  271  272  273  274  275  276  277  278  279\n",
            "  280  281  282  283  284  285  286  287  288  289  290  291  292  293\n",
            "  294  295  296  297  298  299  300  301  302  303  304  305  306  307\n",
            "  308  309  310  311  312  313  314  315  316  317  318  319  320  321\n",
            "  322  323  324  325  326  327  328  329  330  331  332  333  334  335\n",
            "  336  337  338  339  340  341  342  343  344  345  346  347  348  349\n",
            "  350  351  352  353  354  355  356  357  358  359  360  361  362  363\n",
            "  364  365  366  367  368  369  370  371  372  373  374  375  376  377\n",
            "  378  379  380  381  382  383  384  385  386  387  388  389  390  391\n",
            "  392  393  394  395  396  397  398  399  400  401  402  403  404  405\n",
            "  406  407  408  409  410  411  412  413  414  415  416  417  418  419\n",
            "  420  421  422  423  424  425  426  427  428  429  430  431  432  433\n",
            "  434  435  436  437  438  439  440  441  442  443  444  445  446  447\n",
            "  448  449  450  451  452  453  454  455  456  457  458  459  460  461\n",
            "  462  463  464  465  466  467  468  469  470  471  472  473  474  475\n",
            "  476  477  478  479  480  481  482  483  484  485  486  487  488  489\n",
            "  490  491  492  493  494  495  496  497  498  499  500  501  502  503\n",
            "  504  505  506  507  508  509  510  511  512  513  514  515  516  517\n",
            "  518  519  520  521  522  523  524  525  526  527  528  529  530  531\n",
            "  532  533  534  535  536  537  538  539  540  541  542  543  544  545\n",
            "  546  547  548  549  550  551  552  553  554  555  556  557  558  559\n",
            "  560  561  562  563  564  565  566  567  568  569  570  571  572  573\n",
            "  574  575  576  577  578  579  580  581  582  583  584  585  586  587\n",
            "  588  589  590  591  592  593  594  595  596  597  598  599  600  601\n",
            "  602  603  604  605  606  607  608  609  610  611  612  613  614  615\n",
            "  616  617  618  619  620  621  622  623  624  625  626  627  628  629\n",
            "  630  631  632  633  634  635  636  637  638  639  640  641  642  643\n",
            "  644  645  646  647  648  649  650  651  652  653  654  655  656  657\n",
            "  658  659  660  661  662  663  664  665  666  667  668  669  670  671\n",
            "  672  673  674  675  676  677  678  679  680  681  682  683  684  685\n",
            "  686  687  688  689  690  691  692  693  694  695  696  697  698  699\n",
            "  700  701  702  703  704  705  706  707  708  709  710  711  712  713\n",
            "  714  715  716  717  718  719  720  721  722  723  724  725  726  727\n",
            "  728  729  730  731  732  733  734  735  736  737  738  739  740  741\n",
            "  742  743  744  745  746  747  748  749  750  751  752  753  754  755\n",
            "  756  757  758  759  760  761  762  763  764  765  766  767  768  769\n",
            "  770  771  772  773  774  775  776  777  778  779  780  781  782  783\n",
            "  784  785  786  787  788  789  790  791  792  793  794  795  796  797\n",
            "  798  799  800  801  802  803  804  805  806  807  808  809  810  811\n",
            "  812  813  814  815  816  817  818  819  820  821  822  823  824  825\n",
            "  826  827  828  829  830  831  832  833  834  835  836  837  838  839\n",
            "  840  841  842  843  844  845  846  847  848  849  850  851  852  853\n",
            "  854  855  856  857  858  859  860  861  862  863  864  865  866  867\n",
            "  868  869  870  871  872  873  874  875  876  877  878  879  880  881\n",
            "  882  883  884  885  886  887  888  889  890  891  892  893  894  895\n",
            "  896  897  898  899  900  901  902  903  904  905  906  907  908  909\n",
            "  910  911  912  913  914  915  916  917  918  919  920  921  922  923\n",
            "  924  925  926  927  928  929  930  931  932  933  934  935  936  937\n",
            "  938  939  940  941  942  943  944  945  946  947  948  949  950  951\n",
            "  952  953  954  955  956  957  958  959  960  961  962  963  964  965\n",
            "  966  967  968  969  970  971  972  973  974  975  976  977  978  979\n",
            "  980  981  982  983  984  985  986  987  988  989  990  991  992  993\n",
            "  994  995  996  997  998  999 1000]\n"
          ]
        }
      ],
      "source": [
        "import numpy as np\n",
        "my_array = np.arange(1001)\n",
        "print(my_array)\n",
        "np.set_printoptions(threshold=np.inf)\n",
        "print(my_array)"
      ]
    },
    {
      "cell_type": "markdown",
      "id": "48413134",
      "metadata": {
        "id": "48413134"
      },
      "source": [
        "#### Exercise: How to convert a float (32 bits) array into an integer (32 bits) in place?\n",
        ">Check: https://stackoverflow.com/a/4396247/5989906"
      ]
    },
    {
      "cell_type": "code",
      "execution_count": 20,
      "id": "5db64b6d",
      "metadata": {
        "id": "5db64b6d",
        "colab": {
          "base_uri": "https://localhost:8080/"
        },
        "outputId": "ec973d38-f28e-4ae5-d13f-76974185278f"
      },
      "outputs": [
        {
          "output_type": "stream",
          "name": "stdout",
          "text": [
            "[0 1 2 3 4 5 6 7 8 9]\n",
            "[0. 1. 2. 3. 4. 5. 6. 7. 8. 9.]\n",
            "[0. 1. 2. 3. 4. 5. 6. 7. 8. 9.]\n",
            "[0 1 2 3 4 5 6 7 8 9]\n"
          ]
        }
      ],
      "source": [
        "x = np.arange(10, dtype='int32')\n",
        "print(x)\n",
        "y = x.view('float32')\n",
        "y[:] = x\n",
        "print(y)\n",
        "\n",
        "x = np.arange(10, dtype='float32')\n",
        "print(x)\n",
        "y = x.view('int32')\n",
        "y[:] = x\n",
        "print(y)\n",
        "\n",
        "\n"
      ]
    },
    {
      "cell_type": "markdown",
      "id": "215b6acc",
      "metadata": {
        "id": "215b6acc"
      },
      "source": [
        "#### Exercise: Subtract the mean of each row of a matrix (★★☆)"
      ]
    },
    {
      "cell_type": "code",
      "execution_count": 24,
      "id": "dd1adef4",
      "metadata": {
        "id": "dd1adef4",
        "colab": {
          "base_uri": "https://localhost:8080/"
        },
        "outputId": "bc6e1109-c195-43ea-d1b1-1650f9b1ddb3"
      },
      "outputs": [
        {
          "output_type": "stream",
          "name": "stdout",
          "text": [
            "Original matrix:\n",
            "\n",
            "[[0.96684443 0.00159002 0.0158599  0.10592449 0.83701742 0.64764994\n",
            "  0.66334565 0.53275461 0.22019824 0.33811577]\n",
            " [0.07531101 0.71870659 0.94950574 0.4942076  0.14014806 0.14002559\n",
            "  0.84403342 0.47969686 0.53815132 0.09057401]\n",
            " [0.94281824 0.69925577 0.52175563 0.9044742  0.83629524 0.03985302\n",
            "  0.00111178 0.86381082 0.93725621 0.02453119]\n",
            " [0.32151187 0.0869795  0.36781866 0.51569355 0.11724172 0.10320396\n",
            "  0.81549137 0.49268383 0.9783033  0.50590087]\n",
            " [0.27772245 0.60456648 0.40721082 0.66181279 0.05508037 0.40918229\n",
            "  0.13601653 0.89172966 0.11332818 0.02316463]]\n",
            "\n",
            "Subtract the mean of each row of the said matrix:\n",
            "\n",
            "[[ 0.53391438 -0.43134003 -0.41707015 -0.32700556  0.40408737  0.21471989\n",
            "   0.2304156   0.09982456 -0.2127318  -0.09481427]\n",
            " [-0.37172501  0.27167057  0.50246972  0.04717158 -0.30688796 -0.30701043\n",
            "   0.3969974   0.03266084  0.0911153  -0.35646201]\n",
            " [ 0.36570203  0.12213956 -0.05536058  0.32735799  0.25917903 -0.53726319\n",
            "  -0.57600443  0.28669461  0.36014    -0.55258503]\n",
            " [-0.10897099 -0.34350336 -0.0626642   0.08521069 -0.31324114 -0.3272789\n",
            "   0.38500851  0.06220096  0.54782044  0.075418  ]\n",
            " [-0.08025897  0.24658506  0.0492294   0.30383137 -0.30290105  0.05120086\n",
            "  -0.22196489  0.53374824 -0.24465324 -0.3348168 ]]\n"
          ]
        }
      ],
      "source": [
        "print(\"Original matrix:\\n\")\n",
        "X = np.random.rand(5, 10)\n",
        "print(X)\n",
        "print(\"\\nSubtract the mean of each row of the said matrix:\\n\")\n",
        "Y = X - X.mean(axis=1, keepdims=True)\n",
        "print(Y)"
      ]
    },
    {
      "cell_type": "markdown",
      "id": "c0cf37e0",
      "metadata": {
        "id": "c0cf37e0"
      },
      "source": [
        "#### Exercise: How to sort an array by the nth column? (★★☆)"
      ]
    },
    {
      "cell_type": "code",
      "execution_count": 29,
      "id": "9336ca5f",
      "metadata": {
        "id": "9336ca5f",
        "colab": {
          "base_uri": "https://localhost:8080/"
        },
        "outputId": "fa6e3e01-a32a-454c-d5f8-eda1c0541faa"
      },
      "outputs": [
        {
          "output_type": "stream",
          "name": "stdout",
          "text": [
            "Original array:\n",
            "\n",
            "[[5 6 4]\n",
            " [6 6 6]\n",
            " [1 4 3]]\n",
            "\n",
            "Sort the said array by the nth column: \n",
            "[[1 4 3]\n",
            " [5 6 4]\n",
            " [6 6 6]]\n"
          ]
        }
      ],
      "source": [
        "print(\"Original array:\\n\")\n",
        "nums = np.random.randint(0,10,(3,3))\n",
        "print(nums)\n",
        "print(\"\\nSort the said array by the nth column: \")\n",
        "print(nums[nums[:,2].argsort()])"
      ]
    },
    {
      "cell_type": "markdown",
      "id": "c17fb213",
      "metadata": {
        "id": "c17fb213"
      },
      "source": [
        "#### Exercise: Find the position of the minimum of a 2D matrix (★★☆)"
      ]
    },
    {
      "cell_type": "code",
      "execution_count": 44,
      "id": "7fdda78d",
      "metadata": {
        "id": "7fdda78d",
        "colab": {
          "base_uri": "https://localhost:8080/"
        },
        "outputId": "3104a087-c7d0-4417-8f7c-6e72c360f15e"
      },
      "outputs": [
        {
          "output_type": "stream",
          "name": "stdout",
          "text": [
            "Original array:\n",
            "\n",
            "[[26.6517963  87.08759966 17.91630268 91.13512544 23.27423198]\n",
            " [38.45609262 34.34093595 44.56758995 25.21846391 39.12180276]]\n",
            "Min in array:\n",
            "\n",
            "17.91630268448162\n",
            "Position of Min in array:\n",
            "\n",
            "2\n"
          ]
        }
      ],
      "source": [
        "print(\"Original array:\\n\")\n",
        "#x = np.random.random((2,5))*100\n",
        "x = np.random.random((2,5))*100\n",
        "print(x)\n",
        "print(\"Min in array:\\n\")\n",
        "m = np.amin(x)\n",
        "print(m)\n",
        "print(\"Position of Min in array:\\n\")\n",
        "pos = np.argmin(x)\n",
        "print(pos)\n"
      ]
    },
    {
      "cell_type": "markdown",
      "id": "f4427f7f",
      "metadata": {
        "id": "f4427f7f"
      },
      "source": [
        "#### Exercise: Read an image using openCV, check its dimensions, normalize the numbers and show the image (★★★)\n",
        "\n",
        ">Check: https://www.geeksforgeeks.org/python-opencv-cv2-imread-method/"
      ]
    },
    {
      "cell_type": "code",
      "execution_count": 4,
      "id": "fe253212",
      "metadata": {
        "id": "fe253212",
        "colab": {
          "base_uri": "https://localhost:8080/",
          "height": 153
        },
        "outputId": "1cb39891-f0c2-461b-9426-85887090afcc"
      },
      "outputs": [
        {
          "output_type": "stream",
          "name": "stdout",
          "text": [
            "Drive already mounted at /content/drive; to attempt to forcibly remount, call drive.mount(\"/content/drive\", force_remount=True).\n",
            "/content/drive/My Drive/Colab Notebooks\n"
          ]
        },
        {
          "output_type": "display_data",
          "data": {
            "text/plain": [
              "<PIL.Image.Image image mode=RGB size=82x99 at 0x7F205D468F90>"
            ],
            "image/png": "[encoded data removed]"
          },
          "metadata": {}
        }
      ],
      "source": [
        "from google.colab import drive\n",
        "drive.mount('/content/drive')\n",
        "import os\n",
        "os.chdir('/content/drive/My Drive/Colab Notebooks/')  #change dir\n",
        "!pwd\n",
        "import cv2\n",
        "from google.colab.patches import cv2_imshow\n",
        "\n",
        "  \n",
        "# path\n",
        "#path = r'C:\\Users\\Rajnish\\Desktop\\geeksforgeeks.png'\n",
        "path = r'logo_2.png'\n",
        "  \n",
        "# Using cv2.imread() method\n",
        "img = cv2.imread(path)\n",
        "cv2_imshow(img)\n",
        "# Displaying the image\n",
        "#cv2.imshow('image', img)"
      ]
    },
    {
      "cell_type": "markdown",
      "id": "33c986d9",
      "metadata": {
        "id": "33c986d9"
      },
      "source": [
        "#### Exercise: Considering a four dimensions array, how to get the sum over the last two axis at once? (★★★)"
      ]
    },
    {
      "cell_type": "code",
      "execution_count": null,
      "id": "a99a50e2",
      "metadata": {
        "id": "a99a50e2"
      },
      "outputs": [],
      "source": [
        ""
      ]
    },
    {
      "cell_type": "markdown",
      "id": "928a1a15",
      "metadata": {
        "id": "928a1a15"
      },
      "source": [
        "#### Exercise: How to get the diagonal of a dot product? (★★★)"
      ]
    },
    {
      "cell_type": "code",
      "execution_count": null,
      "id": "ef2c9ddd",
      "metadata": {
        "id": "ef2c9ddd"
      },
      "outputs": [],
      "source": [
        ""
      ]
    },
    {
      "cell_type": "markdown",
      "id": "f62551d8",
      "metadata": {
        "id": "f62551d8"
      },
      "source": [
        "#### Exercise: Consider an array of dimension (5,5,3), how to mulitply it by an array with dimensions (5,5)? (★★★)"
      ]
    },
    {
      "cell_type": "code",
      "execution_count": null,
      "id": "9ab241b7",
      "metadata": {
        "id": "9ab241b7"
      },
      "outputs": [],
      "source": [
        ""
      ]
    },
    {
      "cell_type": "markdown",
      "id": "6896e326",
      "metadata": {
        "id": "6896e326"
      },
      "source": [
        "#### Exercise: How to swap two rows of an array? (★★★)"
      ]
    },
    {
      "cell_type": "code",
      "execution_count": null,
      "id": "9e8fcba9",
      "metadata": {
        "id": "9e8fcba9"
      },
      "outputs": [],
      "source": [
        ""
      ]
    },
    {
      "cell_type": "markdown",
      "id": "8e83df46",
      "metadata": {
        "id": "8e83df46"
      },
      "source": [
        "#### Exercise: Read an image using openCV and tranpose it. What did you get exactly? Was the image rotated? Moved? Reflected with respect to an axis? (★★★)"
      ]
    },
    {
      "cell_type": "code",
      "execution_count": null,
      "id": "f73127b7",
      "metadata": {
        "id": "f73127b7"
      },
      "outputs": [],
      "source": [
        ""
      ]
    },
    {
      "cell_type": "markdown",
      "id": "781fa236",
      "metadata": {
        "id": "781fa236"
      },
      "source": [
        "#### Exercise: Consider an array Z = [1,2,3,4,5,6,7,8,9,10,11,12,13,14], how to generate an array R = [[1,2,3,4], [2,3,4,5], [3,4,5,6], ..., [11,12,13,14]]? (★★★)"
      ]
    },
    {
      "cell_type": "code",
      "execution_count": null,
      "id": "8e84d3c2",
      "metadata": {
        "id": "8e84d3c2"
      },
      "outputs": [],
      "source": [
        ""
      ]
    },
    {
      "cell_type": "markdown",
      "id": "7d8dc135",
      "metadata": {
        "id": "7d8dc135"
      },
      "source": [
        "#### Exercise: How to find the most frequent value in an array? (★★★)"
      ]
    },
    {
      "cell_type": "code",
      "execution_count": null,
      "id": "3978a7a2",
      "metadata": {
        "id": "3978a7a2"
      },
      "outputs": [],
      "source": [
        ""
      ]
    },
    {
      "cell_type": "markdown",
      "id": "4c70397b",
      "metadata": {
        "id": "4c70397b"
      },
      "source": [
        "#### Exercise: How to get the n largest values of an array (★★★)"
      ]
    },
    {
      "cell_type": "code",
      "execution_count": null,
      "id": "16371718",
      "metadata": {
        "id": "16371718"
      },
      "outputs": [],
      "source": [
        ""
      ]
    },
    {
      "cell_type": "markdown",
      "id": "d94352b6",
      "metadata": {
        "id": "d94352b6"
      },
      "source": [
        "#### Exercise: Consider a large vector Z, compute Z to the power of 3 using 3 different methods (★★★)"
      ]
    },
    {
      "cell_type": "code",
      "execution_count": null,
      "id": "301ba8a8",
      "metadata": {
        "id": "301ba8a8"
      },
      "outputs": [],
      "source": [
        ""
      ]
    },
    {
      "cell_type": "markdown",
      "id": "2784c996",
      "metadata": {
        "id": "2784c996"
      },
      "source": [
        "#### Exercise: Given a two dimensional array, how to extract unique rows? (★★★)"
      ]
    },
    {
      "cell_type": "code",
      "execution_count": null,
      "id": "f030595f",
      "metadata": {
        "id": "f030595f"
      },
      "outputs": [],
      "source": [
        ""
      ]
    },
    {
      "cell_type": "markdown",
      "id": "e5737276",
      "metadata": {
        "id": "e5737276"
      },
      "source": [
        "#### Exercise: Can you have an array of strings? Can you mix different data types in the same array? Can you operate (add, sub, mult) arrays with different data types? (★★★)"
      ]
    },
    {
      "cell_type": "code",
      "execution_count": null,
      "id": "68c333b0",
      "metadata": {
        "id": "68c333b0"
      },
      "outputs": [],
      "source": [
        ""
      ]
    }
  ],
  "metadata": {
    "kernelspec": {
      "display_name": "Python 3",
      "language": "python",
      "name": "python3"
    },
    "language_info": {
      "codemirror_mode": {
        "name": "ipython",
        "version": 3
      },
      "file_extension": ".py",
      "mimetype": "text/x-python",
      "name": "python",
      "nbconvert_exporter": "python",
      "pygments_lexer": "ipython3",
      "version": "3.8.12"
    },
    "colab": {
      "name": "Copia de 02.1-Intro-to-Numpy.ipynb",
      "provenance": [],
      "collapsed_sections": [
        "0a708990",
        "782d4c77",
        "48d48f01",
        "4fa39382",
        "da64551a",
        "13c5928c",
        "3fa2e461",
        "51898680",
        "89e78048",
        "ebd10810",
        "c0e940f8",
        "22713c3f",
        "4815930e",
        "8e34f294",
        "f1ae2c2d",
        "759c9c8d",
        "129c342d",
        "42f8b2f9",
        "486df8ea",
        "649e89f9",
        "3421e17f",
        "483dd554",
        "2d07be1c",
        "fe043549",
        "2002cb03",
        "b7109c9f",
        "fb24674c",
        "48413134",
        "215b6acc",
        "c0cf37e0",
        "c17fb213",
        "f4427f7f",
        "33c986d9",
        "928a1a15",
        "f62551d8",
        "6896e326",
        "8e83df46",
        "781fa236",
        "7d8dc135",
        "4c70397b",
        "d94352b6",
        "2784c996",
        "e5737276"
      ],
      "include_colab_link": true
    }
  },
  "nbformat": 4,
  "nbformat_minor": 5
}