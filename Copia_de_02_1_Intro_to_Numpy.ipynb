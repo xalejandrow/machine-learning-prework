{
  "cells": [
    {
      "cell_type": "markdown",
      "metadata": {
        "id": "view-in-github",
        "colab_type": "text"
      },
      "source": [
        "<a href=\"https://colab.research.google.com/github/xalejandrow/machine-learning-prework/blob/main/Copia_de_02_1_Intro_to_Numpy.ipynb\" target=\"_parent\"><img src=\"https://colab.research.google.com/assets/colab-badge.svg\" alt=\"Open In Colab\"/></a>"
      ]
    },
    {
      "cell_type": "markdown",
      "id": "bdfbcacc",
      "metadata": {
        "id": "bdfbcacc"
      },
      "source": [
        "<img src=\"https://github.com/4GeeksAcademy/machine-learning-prework/blob/main/02-numpy/assets/numpy_logo.png?raw=1\" alt=\"logo\" width=\"400\"/>\n",
        "\n",
        "## Introduction to numpy\n",
        "\n",
        "NumPy stands for 'Numerical Python'. It is an open-source Python library used to perform various mathematical and scientific tasks. It contains multi-dimensional arrays and matrixes, along with many high-level mathematical functions that operate on them. It contains among other things:\n",
        "\n",
        "→ a powerful N-dimensional array object.\n",
        "\n",
        "→ sophisticated (broadcasting) functions.\n",
        "\n",
        "→ tools for integrating C/C++ and Fortran code.\n",
        "\n",
        "→ useful linear algebra, Fourier transform, and random number capabilities."
      ]
    },
    {
      "cell_type": "markdown",
      "id": "85902746",
      "metadata": {
        "id": "85902746"
      },
      "source": [
        "## Installing NumPy\n",
        "When you want to work with numpy locally, you should run the following commands:\n",
        "\n",
        "You can install NumPy with:\\\n",
        "`pip install numpy`\\\n",
        "or\\\n",
        "`conda install numpy`\n",
        "\n",
        "In our case, 4Geeks have prepared all the environment in order that you can work comfortably."
      ]
    },
    {
      "cell_type": "markdown",
      "id": "58765356",
      "metadata": {
        "id": "58765356"
      },
      "source": [
        "## Why should we use NumPy?\n",
        "\n",
        "Numpy is a library that performs numerical calculations in python. We will use it mainly because it allows us to create, modify matrixes, and do operations on them with ease.\n",
        "\n",
        "NumPy is like Pandas, Matplotlib or Scikit-Learn. It is one of the packages that you cannot miss when you are studying Machine Learning. Mainly because this library provides a matrix data structure that has some benefits over regular Python lists. Some of these benefits are: being more compact, quicker access to reading and writing articles, more convenient and efficient.\n",
        "\n",
        "For example, we will see later in the bootcamp that working with images is dealing with three-dimensional matrixes as large as 3840 x 2160, which means we will have 3×3840×2160 = 24883200 entries!!! 😱😱😱.\n",
        "\n",
        "Working with matrixes of that magnitude is practically impossible to carry out with lists and dictionaries if one wants to have an efficient and fast programming."
      ]
    },
    {
      "cell_type": "markdown",
      "id": "c4e52ee5",
      "metadata": {
        "id": "c4e52ee5"
      },
      "source": [
        "#### Exercise: Import the numpy package under the name `np` (★☆☆)\n",
        "\n",
        "`numpy` is commonly imported as `np` so we highly recommend to put this alias."
      ]
    },
    {
      "cell_type": "code",
      "execution_count": 36,
      "id": "ea3038d9",
      "metadata": {
        "id": "ea3038d9"
      },
      "outputs": [],
      "source": [
        "import numpy as np"
      ]
    },
    {
      "cell_type": "markdown",
      "id": "40631cd6",
      "metadata": {
        "id": "40631cd6"
      },
      "source": [
        "## What is an array and why it is important for Machine Learning?\n",
        "\n",
        "An array is a data structure consisting of a collection of elements (values or variables), each identified by at least one index or key.\n"
      ]
    },
    {
      "cell_type": "markdown",
      "id": "ce969254",
      "metadata": {
        "id": "ce969254"
      },
      "source": [
        "![alt text](assets/1D.png \"1D\")"
      ]
    },
    {
      "cell_type": "markdown",
      "id": "735d02e2",
      "metadata": {
        "id": "735d02e2"
      },
      "source": [
        "An array is known as the central data structure of the Numpy library; it can also be of several dimensions. For example, neural networks sometimes deal with 4D arrays.\n",
        "\n",
        "Later on, we are also going to use another kind of arrays called: Tensors."
      ]
    },
    {
      "cell_type": "markdown",
      "id": "a20ce3a4",
      "metadata": {
        "id": "a20ce3a4"
      },
      "source": [
        "![alt text](./assets/3D.png \"3D\")"
      ]
    },
    {
      "cell_type": "markdown",
      "id": "46950f4f",
      "metadata": {
        "id": "46950f4f"
      },
      "source": [
        "#### Exercise: Print the version and configuration of numpy (★☆☆)\n",
        "\n",
        "You can print the version of any package of Python using `name_of_package.__version__`"
      ]
    },
    {
      "cell_type": "code",
      "execution_count": 37,
      "id": "2a9f5838",
      "metadata": {
        "colab": {
          "base_uri": "https://localhost:8080/"
        },
        "id": "2a9f5838",
        "outputId": "e56ca56e-a630-4af0-c465-81a786618be4"
      },
      "outputs": [
        {
          "output_type": "stream",
          "name": "stdout",
          "text": [
            "1.21.6\n"
          ]
        }
      ],
      "source": [
        "from ctypes import pythonapi\n",
        "import numpy as np\n",
        "print(np.__version__)"
      ]
    },
    {
      "cell_type": "markdown",
      "id": "e3c20b3d",
      "metadata": {
        "id": "e3c20b3d"
      },
      "source": [
        "#### Exercise: Create a null vector of size 10 (★☆☆)\n",
        "\n",
        "A `null vector` is an array of zeros (`0`), also called `initialization vector`.\n",
        "\n",
        ">Check de function `np.zeros` (https://numpy.org/doc/stable/reference/generated/numpy.zeros.html)"
      ]
    },
    {
      "cell_type": "code",
      "execution_count": 6,
      "id": "8a758bcf",
      "metadata": {
        "id": "8a758bcf",
        "outputId": "301b433b-5fc3-4f23-bd8a-9de0d7d403c2",
        "colab": {
          "base_uri": "https://localhost:8080/"
        }
      },
      "outputs": [
        {
          "output_type": "execute_result",
          "data": {
            "text/plain": [
              "array([], dtype=float64)"
            ]
          },
          "metadata": {},
          "execution_count": 6
        }
      ],
      "source": [
        "np.zeros(0)"
      ]
    },
    {
      "cell_type": "markdown",
      "id": "6cbe7954",
      "metadata": {
        "id": "6cbe7954"
      },
      "source": [
        "#### Exercise: Create a vector of ones with size 10 (★☆☆)\n",
        "\n",
        ">Check de function `np.ones` (https://numpy.org/doc/stable/reference/generated/numpy.ones.html)"
      ]
    },
    {
      "cell_type": "code",
      "execution_count": 7,
      "id": "86477874",
      "metadata": {
        "id": "86477874",
        "outputId": "4eace870-9e6c-41ef-e9cf-e9850233d51e",
        "colab": {
          "base_uri": "https://localhost:8080/"
        }
      },
      "outputs": [
        {
          "output_type": "execute_result",
          "data": {
            "text/plain": [
              "array([1., 1., 1., 1., 1., 1., 1., 1., 1., 1.])"
            ]
          },
          "metadata": {},
          "execution_count": 7
        }
      ],
      "source": [
        "np.ones(10)"
      ]
    },
    {
      "cell_type": "markdown",
      "id": "0a708990",
      "metadata": {
        "id": "0a708990"
      },
      "source": [
        "#### Exercise: Create an 1D array with a specific start value, end value, and number of values (★☆☆)\n",
        "\n",
        ">Check the function `np.linspace` (https://numpy.org/doc/stable/reference/generated/numpy.linspace.html)"
      ]
    },
    {
      "cell_type": "code",
      "execution_count": 8,
      "id": "477e01f4",
      "metadata": {
        "id": "477e01f4",
        "outputId": "103d7dd3-b4dd-4fbc-9c63-a769f01778ad",
        "colab": {
          "base_uri": "https://localhost:8080/"
        }
      },
      "outputs": [
        {
          "output_type": "execute_result",
          "data": {
            "text/plain": [
              "array([1.        , 1.11111111, 1.22222222, 1.33333333, 1.44444444,\n",
              "       1.55555556, 1.66666667, 1.77777778, 1.88888889, 2.        ])"
            ]
          },
          "metadata": {},
          "execution_count": 8
        }
      ],
      "source": [
        "np.linspace(1,2,10)"
      ]
    },
    {
      "cell_type": "markdown",
      "id": "782d4c77",
      "metadata": {
        "id": "782d4c77"
      },
      "source": [
        "#### Run: Create a vector (1D array) with random integers from 10 to 49 and dimension 1x35 (★☆☆)\n",
        "\n",
        "When `dimension` is expressed `1x35` it means: One dimension array with 35 items (length=35).\n",
        "\n",
        ">Check the function `np.random` which allows you to create random arrays (https://numpy.org/doc/1.16/reference/routines.random.html)"
      ]
    },
    {
      "cell_type": "code",
      "execution_count": 9,
      "id": "5dbe1a08",
      "metadata": {
        "colab": {
          "base_uri": "https://localhost:8080/"
        },
        "id": "5dbe1a08",
        "outputId": "5788e2f8-c7da-467c-90cb-20fec26588b6"
      },
      "outputs": [
        {
          "output_type": "stream",
          "name": "stdout",
          "text": [
            "[0.70366381 0.84645487 0.0749608  0.01098744 0.25912224 0.1263394\n",
            " 0.70461799 0.24803037 0.30556218 0.15387526]\n"
          ]
        }
      ],
      "source": [
        "import numpy as np\n",
        "\n",
        "## 10 random numbers between (0, 1)\n",
        "print(np.random.random(10)) "
      ]
    },
    {
      "cell_type": "code",
      "execution_count": 10,
      "id": "a9354456",
      "metadata": {
        "colab": {
          "base_uri": "https://localhost:8080/"
        },
        "id": "a9354456",
        "outputId": "b415e448-e4e9-415b-e62b-33c955de2f40"
      },
      "outputs": [
        {
          "output_type": "stream",
          "name": "stdout",
          "text": [
            "[0.21406123 0.90782751 0.0517274  0.84779707 0.85492579 0.60919865\n",
            " 0.8312665  0.67573196 0.95807102 0.08007586]\n",
            "[-1.1510162  -0.08334909 -1.13305293  0.96126494  0.22758861  0.95589715\n",
            " -0.24365657  1.02843587 -1.0768434   1.45243999]\n"
          ]
        }
      ],
      "source": [
        "## Two ways to create numbers with normal distribution\n",
        "print(np.random.rand(10)) # 10 random values with distribution N(0,1)\n",
        "print(np.random.normal(loc = 0, scale = 1, size = 10)) # 10 random values with distribution N(0,1)"
      ]
    },
    {
      "cell_type": "code",
      "execution_count": 11,
      "id": "73ed6271",
      "metadata": {
        "colab": {
          "base_uri": "https://localhost:8080/"
        },
        "id": "73ed6271",
        "outputId": "9609b53e-ac79-46f1-f07b-5f9b5ce6a6d3"
      },
      "outputs": [
        {
          "output_type": "stream",
          "name": "stdout",
          "text": [
            "[ 18.82781862   4.60421365 -54.49314388 -13.15317385  77.6304475\n",
            "  19.11384345  15.70169537  34.16492555  17.30644626 -57.9541401 ]\n"
          ]
        }
      ],
      "source": [
        "## Did you notice the difference between both functions? \n",
        "print(np.random.normal(loc = -5, scale = 33, size = 10)) # 10 random values with distribution N(-5,33)"
      ]
    },
    {
      "cell_type": "code",
      "execution_count": 12,
      "id": "49ae7a5a",
      "metadata": {
        "colab": {
          "base_uri": "https://localhost:8080/"
        },
        "id": "49ae7a5a",
        "outputId": "14ed8b15-d4ea-4c4b-f8a4-903b61c1121d"
      },
      "outputs": [
        {
          "output_type": "stream",
          "name": "stdout",
          "text": [
            "[ 62.10401835  70.36944842  33.75143824  53.66667606 -29.64579697\n",
            "  74.26965764  40.40790918   4.23482696  39.58029292  13.84264878]\n"
          ]
        }
      ],
      "source": [
        "## 10 random values with uniform distribution. That means, all values have the same probability\n",
        "print(np.random.uniform(-30,100,10)) # All values are between -30 and 100."
      ]
    },
    {
      "cell_type": "code",
      "execution_count": 13,
      "id": "f78e72cb",
      "metadata": {
        "colab": {
          "base_uri": "https://localhost:8080/"
        },
        "id": "f78e72cb",
        "outputId": "ba6d5d07-3857-419a-ddb0-aea8ac8c1cc7"
      },
      "outputs": [
        {
          "output_type": "stream",
          "name": "stdout",
          "text": [
            "[71 39 84 10 40 11 95 80 67 11]\n"
          ]
        }
      ],
      "source": [
        "# 10 integers values between 0 and 100.\n",
        "print(np.random.randint(0, 100, 10))"
      ]
    },
    {
      "cell_type": "code",
      "execution_count": 14,
      "id": "db278431",
      "metadata": {
        "colab": {
          "base_uri": "https://localhost:8080/"
        },
        "id": "db278431",
        "outputId": "02dc3b6d-b859-47d6-dd5d-83f399b298f9"
      },
      "outputs": [
        {
          "output_type": "stream",
          "name": "stdout",
          "text": [
            "[ 0.93615051  6.89481628  7.72542958  6.25459026  3.5903614  11.72614871\n",
            "  5.14359619  1.78170814  7.00676104  2.62191512]\n"
          ]
        }
      ],
      "source": [
        "# 10 random values with Chi distribution with 5 degrees of freedom\n",
        "print(np.random.chisquare(5,10))"
      ]
    },
    {
      "cell_type": "markdown",
      "id": "1b7841da",
      "metadata": {
        "id": "1b7841da"
      },
      "source": [
        "The above examples are the most common distribution and random values you will learn throughout the bootcamp. Now, let's deal with those arrays."
      ]
    },
    {
      "cell_type": "markdown",
      "id": "48d48f01",
      "metadata": {
        "id": "48d48f01"
      },
      "source": [
        "#### Exercise: Reverse one of the last vector we created before (first element becomes last) (★☆☆)\n",
        "Try with `[::-1]`"
      ]
    },
    {
      "cell_type": "code",
      "execution_count": 15,
      "id": "3ed233e7",
      "metadata": {
        "colab": {
          "base_uri": "https://localhost:8080/"
        },
        "id": "3ed233e7",
        "outputId": "ff55e604-adda-4d72-9e81-84a12ae20002"
      },
      "outputs": [
        {
          "output_type": "stream",
          "name": "stdout",
          "text": [
            "[82 17  4 41 71 92 67 60 28 40]\n",
            "[40 28 60 67 92 71 41  4 17 82]\n"
          ]
        }
      ],
      "source": [
        "vect = np.random.randint(0,100,10)\n",
        "print(vect)\n",
        "print(vect[::-1])"
      ]
    },
    {
      "cell_type": "markdown",
      "id": "4fa39382",
      "metadata": {
        "id": "4fa39382"
      },
      "source": [
        "#### Exercise: Create a 5x5 identity matrix (★☆☆)\n",
        "\n",
        ">Check the function `np.eye`(https://numpy.org/devdocs/reference/generated/numpy.eye.html)"
      ]
    },
    {
      "cell_type": "code",
      "execution_count": 16,
      "id": "c97757ec",
      "metadata": {
        "colab": {
          "base_uri": "https://localhost:8080/"
        },
        "id": "c97757ec",
        "outputId": "d4e63476-5432-401f-ded1-cc685d31a00b"
      },
      "outputs": [
        {
          "output_type": "execute_result",
          "data": {
            "text/plain": [
              "array([[1., 0., 0., 0., 0.],\n",
              "       [0., 1., 0., 0., 0.],\n",
              "       [0., 0., 1., 0., 0.],\n",
              "       [0., 0., 0., 1., 0.],\n",
              "       [0., 0., 0., 0., 1.]])"
            ]
          },
          "metadata": {},
          "execution_count": 16
        }
      ],
      "source": [
        "np.eye(5)"
      ]
    },
    {
      "cell_type": "markdown",
      "id": "da64551a",
      "metadata": {
        "id": "da64551a"
      },
      "source": [
        "#### Exercise: Find indexes of non-zero elements from [1,2,0,0,4,0] (★☆☆)\n",
        "\n",
        ">Check the function `where`(https://numpy.org/devdocs/reference/generated/numpy.where.html)"
      ]
    },
    {
      "cell_type": "code",
      "execution_count": 17,
      "id": "327f7adb",
      "metadata": {
        "colab": {
          "base_uri": "https://localhost:8080/"
        },
        "id": "327f7adb",
        "outputId": "bfeace6e-9a1d-41ab-852f-9cbc45a5237c"
      },
      "outputs": [
        {
          "output_type": "execute_result",
          "data": {
            "text/plain": [
              "array([2, 3, 5])"
            ]
          },
          "metadata": {},
          "execution_count": 17
        }
      ],
      "source": [
        "v = np.array([1,2,0,0,4,0])\n",
        "np.where(v == 0)[0]"
      ]
    },
    {
      "cell_type": "markdown",
      "id": "13c5928c",
      "metadata": {
        "id": "13c5928c"
      },
      "source": [
        "#### Exercise: Create a 10x10 array with random values and find the minimum and maximum values (★☆☆)\n",
        "\n",
        ">Check the function `min` (https://numpy.org/devdocs/reference/generated/numpy.where.html) and `max` (https://numpy.org/devdocs/reference/generated/numpy.max.html)"
      ]
    },
    {
      "cell_type": "code",
      "execution_count": 18,
      "id": "911c9b93",
      "metadata": {
        "colab": {
          "base_uri": "https://localhost:8080/"
        },
        "id": "911c9b93",
        "outputId": "8782267e-577f-4bf0-ffeb-03d7142d7163"
      },
      "outputs": [
        {
          "output_type": "stream",
          "name": "stdout",
          "text": [
            "[[0.4893697  0.46264989 0.99242977 0.19910849 0.40641801 0.58428378\n",
            "  0.54931596 0.21165351 0.93265564 0.50379961]\n",
            " [0.57534985 0.81861849 0.46142539 0.53698752 0.90305705 0.35530724\n",
            "  0.5424467  0.28357746 0.73202085 0.77797489]\n",
            " [0.64304713 0.43341682 0.67208372 0.72296411 0.95836428 0.06551834\n",
            "  0.97936387 0.747455   0.30739881 0.80891194]\n",
            " [0.81366464 0.66862397 0.2259914  0.14424448 0.72477914 0.3455285\n",
            "  0.55400281 0.53968182 0.25528184 0.61081227]\n",
            " [0.70892725 0.18712823 0.31439953 0.20492687 0.04065306 0.21386165\n",
            "  0.69068622 0.57654475 0.66178501 0.86852351]\n",
            " [0.37992815 0.05528542 0.91797258 0.72529189 0.84456182 0.4230657\n",
            "  0.50160984 0.08629873 0.20658612 0.09976872]\n",
            " [0.11966263 0.79433367 0.81703057 0.4237083  0.00932723 0.1252923\n",
            "  0.79961266 0.60086388 0.71797102 0.99864697]\n",
            " [0.28020173 0.87118143 0.05110377 0.32467301 0.99264248 0.69381891\n",
            "  0.29958817 0.78639366 0.61377939 0.75388362]\n",
            " [0.33780943 0.21718558 0.78338897 0.96735325 0.29651347 0.74235554\n",
            "  0.96721561 0.23087749 0.85352713 0.07733604]\n",
            " [0.58064656 0.84922345 0.58011182 0.66322462 0.28508512 0.58443879\n",
            "  0.07528753 0.88049429 0.60225327 0.00785387]]\n",
            "0.007853867305719797\n",
            "0.9986469675116767\n"
          ]
        }
      ],
      "source": [
        "matrand =  np.random.random((10, 10))\n",
        "print(matrand)\n",
        "print(np.amin(matrand))\n",
        "print(np.amax(matrand))"
      ]
    },
    {
      "cell_type": "markdown",
      "id": "3fa2e461",
      "metadata": {
        "id": "3fa2e461"
      },
      "source": [
        "#### Exercise: Create a random vector of size 30 and find the mean value (★☆☆)\n",
        "\n",
        "1.   Elemento de la lista\n",
        "2.   Elemento de la lista\n",
        "\n"
      ]
    },
    {
      "cell_type": "code",
      "execution_count": 19,
      "id": "323eb38a",
      "metadata": {
        "colab": {
          "base_uri": "https://localhost:8080/"
        },
        "id": "323eb38a",
        "outputId": "d6800250-9ec8-42cf-dd27-68e71c976930"
      },
      "outputs": [
        {
          "output_type": "stream",
          "name": "stdout",
          "text": [
            "[25.93127636 48.49566904 99.77030952 31.04303595 24.06496034 72.25718728\n",
            " 84.08721774 54.24592104 88.36145399 45.46904071 80.42351146 53.43839439\n",
            " 26.16530734 82.6575236  57.90359913 66.39946181 45.20569993 86.65534151\n",
            " 12.1072661  44.51977653  6.87319438 30.75510608 18.22526151 82.28391424\n",
            " 41.13044594 53.80929293 99.88884955 57.81026559 22.32659871  9.72850428]\n",
            "51.73444623214676\n"
          ]
        }
      ],
      "source": [
        "#matrand2 =  np.round(np.random.random(30)*100)\n",
        "matrand2 =  np.random.random(30)*100\n",
        "print(matrand2)\n",
        "print(np.mean(matrand2))"
      ]
    },
    {
      "cell_type": "markdown",
      "id": "961f074f",
      "metadata": {
        "id": "961f074f"
      },
      "source": [
        "#### Exercise: Define a function with your date of birth (yyyy/mm/dd) as imput, that returns a random array with the following dimensions: (★★☆)\n",
        "\n",
        "$$yyyy-1900 \\times |mm - dd|$$"
      ]
    },
    {
      "cell_type": "code",
      "execution_count": 20,
      "id": "d3f49255",
      "metadata": {
        "colab": {
          "base_uri": "https://localhost:8080/"
        },
        "id": "d3f49255",
        "outputId": "077a9cb2-df49-401a-eed9-70c6368a8b03"
      },
      "outputs": [
        {
          "output_type": "stream",
          "name": "stdout",
          "text": [
            "[[0.33052919 0.15162577 0.05409636 0.8162672 ]\n",
            " [0.32335527 0.27781748 0.66228958 0.86526845]\n",
            " [0.66317858 0.48120752 0.91161567 0.07645536]\n",
            " [0.53200176 0.54540783 0.55557615 0.29598861]\n",
            " [0.2343418  0.29902253 0.66660014 0.09247575]\n",
            " [0.96175129 0.41398754 0.94529913 0.34823975]\n",
            " [0.31581661 0.13120595 0.98988473 0.79580526]\n",
            " [0.75082298 0.06242225 0.14834515 0.3983464 ]\n",
            " [0.52915742 0.10944834 0.17816516 0.362661  ]\n",
            " [0.75947105 0.30866378 0.78253263 0.01221727]\n",
            " [0.77828216 0.64897272 0.19872083 0.97580216]\n",
            " [0.12299243 0.9022331  0.52518187 0.5804199 ]\n",
            " [0.30701703 0.27724832 0.04898921 0.74903802]\n",
            " [0.11009545 0.76014304 0.88324298 0.01555231]\n",
            " [0.1442119  0.12219269 0.38454055 0.49086361]\n",
            " [0.46739395 0.15818834 0.26945721 0.5944593 ]\n",
            " [0.58719713 0.17039607 0.92924281 0.02615314]\n",
            " [0.90560916 0.39761818 0.88956835 0.38611815]\n",
            " [0.91707929 0.36981884 0.14888947 0.50127221]\n",
            " [0.15373638 0.26257556 0.71947624 0.28359334]\n",
            " [0.67090615 0.14163106 0.11245984 0.63546703]\n",
            " [0.45387475 0.17966535 0.61155962 0.97998344]\n",
            " [0.96876741 0.77618768 0.04012527 0.67740948]\n",
            " [0.73789463 0.82201214 0.76202569 0.32725258]\n",
            " [0.42742692 0.79189616 0.135839   0.46252391]\n",
            " [0.40229691 0.94566255 0.27133811 0.64493507]\n",
            " [0.84604764 0.76612113 0.68576625 0.30830481]\n",
            " [0.20307144 0.83335844 0.61029308 0.5873402 ]\n",
            " [0.69177904 0.42916296 0.96381778 0.24404262]\n",
            " [0.59685527 0.50570379 0.62025612 0.64414324]\n",
            " [0.40714164 0.14554574 0.33433953 0.81228486]\n",
            " [0.55921819 0.80120709 0.23006849 0.19299851]\n",
            " [0.84712565 0.2152599  0.03095875 0.73638287]\n",
            " [0.09774517 0.17764719 0.14823151 0.40767271]\n",
            " [0.16315316 0.52233091 0.92651049 0.80443829]\n",
            " [0.97711917 0.77015497 0.23191893 0.34320892]\n",
            " [0.4147745  0.09900049 0.05670502 0.14347598]\n",
            " [0.6566034  0.50833141 0.07172266 0.30098443]\n",
            " [0.78959271 0.81401645 0.64181862 0.93585652]\n",
            " [0.67816008 0.29016565 0.31942555 0.64886321]\n",
            " [0.42392269 0.03608556 0.82854052 0.19626949]\n",
            " [0.68103764 0.60295976 0.99443369 0.85942382]\n",
            " [0.42318516 0.4009598  0.06535209 0.45645499]\n",
            " [0.11070591 0.74059106 0.90548774 0.67108222]\n",
            " [0.6117104  0.10940649 0.61815333 0.84165564]\n",
            " [0.62697021 0.25648227 0.86960258 0.89502838]\n",
            " [0.4275816  0.68367404 0.96179716 0.81694852]\n",
            " [0.81665501 0.40485458 0.64309994 0.17730396]\n",
            " [0.46335193 0.88373267 0.54960824 0.85118065]\n",
            " [0.07703353 0.24018257 0.68282474 0.42393075]\n",
            " [0.20584613 0.28732545 0.34527916 0.97362897]\n",
            " [0.92734436 0.54842041 0.60241112 0.49498841]\n",
            " [0.48695536 0.38146473 0.9057506  0.95757918]\n",
            " [0.09445534 0.30664708 0.94058769 0.67585077]\n",
            " [0.80994638 0.37530659 0.08276206 0.57909712]\n",
            " [0.85459573 0.71381675 0.3727043  0.05815986]\n",
            " [0.29244285 0.04680212 0.31043927 0.01377559]\n",
            " [0.50728005 0.50027701 0.90434418 0.85118677]\n",
            " [0.80238859 0.36701473 0.61204653 0.85300058]\n",
            " [0.77645715 0.3137242  0.93764014 0.17963651]\n",
            " [0.44721673 0.96228202 0.50462366 0.78902324]\n",
            " [0.76299158 0.00810317 0.11101728 0.7287147 ]\n",
            " [0.76848377 0.86369291 0.82464551 0.03916217]\n",
            " [0.33661168 0.44591371 0.02245696 0.21249749]\n",
            " [0.42993517 0.24124475 0.58196162 0.71619601]\n",
            " [0.3982382  0.76520486 0.77123829 0.30314037]\n",
            " [0.70339723 0.21636854 0.49210174 0.79290115]\n",
            " [0.62465701 0.17581962 0.39595381 0.61859398]\n",
            " [0.59311122 0.62496703 0.21544115 0.30222514]\n",
            " [0.67400587 0.95393714 0.86313259 0.43693346]\n",
            " [0.80314699 0.8789862  0.00383318 0.34910066]\n",
            " [0.04764301 0.47911783 0.24044205 0.58359162]\n",
            " [0.49345672 0.98326462 0.47594129 0.47856327]\n",
            " [0.25636718 0.28159503 0.41348827 0.56808783]\n",
            " [0.88521568 0.0328326  0.76267763 0.57221149]\n",
            " [0.70873424 0.38123464 0.44969914 0.85240829]\n",
            " [0.9603005  0.03606789 0.42039122 0.67494137]\n",
            " [0.12856118 0.24145548 0.77645817 0.0128283 ]\n",
            " [0.28776165 0.17297589 0.54363888 0.37716193]\n",
            " [0.33838231 0.61205396 0.36368681 0.70218591]\n",
            " [0.09991916 0.54575163 0.32923351 0.1516084 ]\n",
            " [0.57885619 0.44153144 0.81529176 0.69731764]\n",
            " [0.28592916 0.68313603 0.46822726 0.53636396]\n",
            " [0.21562465 0.32180986 0.28807551 0.99145794]\n",
            " [0.98787022 0.67615424 0.73905874 0.01621412]\n",
            " [0.76515758 0.1533471  0.79294443 0.00172126]\n",
            " [0.99218961 0.08708694 0.59359388 0.1094672 ]\n",
            " [0.48901337 0.38636763 0.84099153 0.62419464]\n",
            " [0.73331605 0.39989616 0.24176335 0.69531566]\n",
            " [0.8536199  0.01004909 0.77929867 0.52289772]\n",
            " [0.09644258 0.67285762 0.76298839 0.81600877]\n",
            " [0.35684015 0.81763705 0.36261637 0.49176785]\n",
            " [0.86856676 0.8076062  0.62100362 0.71000534]\n",
            " [0.89707804 0.32476691 0.73407588 0.80139572]\n",
            " [0.9109317  0.20682018 0.09191634 0.0531472 ]\n",
            " [0.57787091 0.48686776 0.01155067 0.7455219 ]\n",
            " [0.23987121 0.60513678 0.11609374 0.57278139]\n",
            " [0.02397378 0.40276533 0.89356705 0.08515975]\n",
            " [0.42763772 0.98148293 0.01947555 0.41874728]\n",
            " [0.21265619 0.88883762 0.60326776 0.727334  ]]\n"
          ]
        }
      ],
      "source": [
        "def dateMatrix(mydate):\n",
        "  data = mydate.split(\"/\")\n",
        "  f = int(data[0]) - 1900\n",
        "  c = abs(int(data[1]) - int(data[2]))\n",
        "  result = np.random.random((f,c))\n",
        "  return result\n",
        "arr = dateMatrix(\"2000/01/05\")\n",
        "print(arr)\n",
        "\n"
      ]
    },
    {
      "cell_type": "markdown",
      "id": "ff8dbb92",
      "metadata": {
        "id": "ff8dbb92"
      },
      "source": [
        "## What is the difference between Python List and a Numpy Array?\n",
        "\n",
        "- Python list can contain elements with different data types, while Numpy Array‘s elements are always homogeneous (same data types).\n",
        "\n",
        "- Numpy arrays are faster and more compact than Python lists.\n",
        "\n",
        "## Why Numpy Arrays are faster than Lists?\n",
        "\n",
        "- Numpy Arrays use fixed memory to store data and less memory than Python lists.\n",
        "\n",
        "- Contiguous memory allocation in Numpy Arrays."
      ]
    },
    {
      "cell_type": "markdown",
      "id": "e3a7ba7f",
      "metadata": {
        "id": "e3a7ba7f"
      },
      "source": [
        "#### Exercise: Convert the list `my_list = [1, 2, 3]` to numpy array (★☆☆)"
      ]
    },
    {
      "cell_type": "code",
      "execution_count": 21,
      "id": "01d8e257",
      "metadata": {
        "colab": {
          "base_uri": "https://localhost:8080/"
        },
        "id": "01d8e257",
        "outputId": "853876ac-a1aa-43a1-9006-93b6535c0ce5"
      },
      "outputs": [
        {
          "output_type": "stream",
          "name": "stdout",
          "text": [
            "[1, 2, 3]\n",
            "<class 'list'>\n",
            "<class 'numpy.ndarray'>\n",
            "[1 2 3]\n"
          ]
        }
      ],
      "source": [
        "my_list = [ 1, 2, 3 ]\n",
        "print(my_list)\n",
        "print(type(my_list))\n",
        "my_array = np.asarray(my_list)\n",
        "print(type(my_array))\n",
        "print(my_array)"
      ]
    },
    {
      "cell_type": "markdown",
      "id": "6d17ab5d",
      "metadata": {
        "id": "6d17ab5d"
      },
      "source": [
        "#### Exercise: Convert the tuple `my_list = (1, 2, 3)` to numpy array (★☆☆)"
      ]
    },
    {
      "cell_type": "code",
      "execution_count": 22,
      "id": "841373cd",
      "metadata": {
        "colab": {
          "base_uri": "https://localhost:8080/"
        },
        "id": "841373cd",
        "outputId": "e3f44e67-b92d-496b-d0ab-f1402e9cf055"
      },
      "outputs": [
        {
          "output_type": "stream",
          "name": "stdout",
          "text": [
            "(1, 2, 3)\n",
            "<class 'tuple'>\n",
            "<class 'numpy.ndarray'>\n",
            "[1 2 3]\n"
          ]
        }
      ],
      "source": [
        "my_list = (1, 2, 3)\n",
        "print(my_list)\n",
        "print(type(my_list))\n",
        "my_array = np.asarray(my_list)\n",
        "print(type(my_array))\n",
        "print(my_array)"
      ]
    },
    {
      "cell_type": "markdown",
      "id": "8837119b",
      "metadata": {
        "id": "8837119b"
      },
      "source": [
        "#### Exercise: Convert the list of tuples `my_list = [(1,2,3), (4,5)]` to numpy array (★☆☆)"
      ]
    },
    {
      "cell_type": "code",
      "execution_count": 23,
      "id": "2c0d16f1",
      "metadata": {
        "colab": {
          "base_uri": "https://localhost:8080/"
        },
        "id": "2c0d16f1",
        "outputId": "82cc1dd4-1d73-4301-fc99-be79f9e93e97"
      },
      "outputs": [
        {
          "output_type": "stream",
          "name": "stdout",
          "text": [
            "[(1, 2, 3), (4, 5)]\n",
            "<class 'list'>\n",
            "[(1, 2, 3) (4, 5)]\n",
            "<class 'numpy.ndarray'>\n"
          ]
        }
      ],
      "source": [
        "my_list = [(1,2,3), (4,5)]\n",
        "print(my_list)\n",
        "print(type(my_list))\n",
        "my_array = np.asanyarray(my_list,dtype='object')\n",
        "print(my_array)\n",
        "print(type(my_array))"
      ]
    },
    {
      "cell_type": "markdown",
      "id": "ec788c9f",
      "metadata": {
        "id": "ec788c9f"
      },
      "source": [
        "#### Exercise: Resize a random array of dimensions 5x12 into 12x5 (★☆☆)\n",
        "\n",
        ">Check `reshape` from `numpy` (https://numpy.org/doc/stable/reference/generated/numpy.reshape.html)"
      ]
    },
    {
      "cell_type": "code",
      "execution_count": 24,
      "id": "0a4f919f",
      "metadata": {
        "id": "0a4f919f",
        "colab": {
          "base_uri": "https://localhost:8080/"
        },
        "outputId": "269901b8-1fdf-460f-b825-3b999e7edae8"
      },
      "outputs": [
        {
          "output_type": "stream",
          "name": "stdout",
          "text": [
            "[[0.59670497 0.38493279 0.91163556 0.34659848 0.02426525 0.64929023\n",
            "  0.9659815  0.09685199 0.76927771 0.97316063 0.4263841  0.98251428]\n",
            " [0.97431717 0.33638249 0.00981882 0.20556468 0.19687164 0.62935312\n",
            "  0.15661322 0.13668955 0.38669875 0.55841917 0.79039822 0.27510253]\n",
            " [0.81207702 0.96127246 0.21965847 0.92352731 0.83041857 0.09150516\n",
            "  0.9278379  0.99338756 0.91702045 0.63925037 0.15970406 0.705582  ]\n",
            " [0.44071674 0.59082502 0.08281836 0.32576767 0.39453585 0.94314525\n",
            "  0.12247703 0.34254715 0.08625545 0.5442902  0.00812444 0.49551835]\n",
            " [0.71231506 0.39730854 0.01572727 0.18685141 0.62112341 0.12974545\n",
            "  0.90058904 0.74922757 0.25683366 0.58205327 0.24963062 0.88215367]]\n",
            "[[0.59670497 0.38493279 0.91163556 0.34659848 0.02426525]\n",
            " [0.64929023 0.9659815  0.09685199 0.76927771 0.97316063]\n",
            " [0.4263841  0.98251428 0.97431717 0.33638249 0.00981882]\n",
            " [0.20556468 0.19687164 0.62935312 0.15661322 0.13668955]\n",
            " [0.38669875 0.55841917 0.79039822 0.27510253 0.81207702]\n",
            " [0.96127246 0.21965847 0.92352731 0.83041857 0.09150516]\n",
            " [0.9278379  0.99338756 0.91702045 0.63925037 0.15970406]\n",
            " [0.705582   0.44071674 0.59082502 0.08281836 0.32576767]\n",
            " [0.39453585 0.94314525 0.12247703 0.34254715 0.08625545]\n",
            " [0.5442902  0.00812444 0.49551835 0.71231506 0.39730854]\n",
            " [0.01572727 0.18685141 0.62112341 0.12974545 0.90058904]\n",
            " [0.74922757 0.25683366 0.58205327 0.24963062 0.88215367]]\n"
          ]
        }
      ],
      "source": [
        "my_array = np.random.random((5,12))\n",
        "print(my_array)\n",
        "my_shape_array = np.reshape(my_array,(12,5))\n",
        "print(my_shape_array)"
      ]
    },
    {
      "cell_type": "markdown",
      "id": "391791e0",
      "metadata": {
        "id": "391791e0"
      },
      "source": [
        "#### Exercise: Create a function that normalize a 5x5 random matrix (★☆☆)\n",
        "\n",
        ">Remember from probability (https://en.wikipedia.org/wiki/Normalization_(statistics)) that :\n",
        "$$ x_{norm} = \\frac{x - \\bar{x}}{\\sigma}$$\n"
      ]
    },
    {
      "cell_type": "code",
      "execution_count": 25,
      "id": "f6533d39",
      "metadata": {
        "id": "f6533d39",
        "colab": {
          "base_uri": "https://localhost:8080/"
        },
        "outputId": "0d27f956-440e-4bfe-89b5-53e0eddd4d16"
      },
      "outputs": [
        {
          "output_type": "stream",
          "name": "stdout",
          "text": [
            "Original Array:\n",
            "[[0.25320898 0.63390458 0.21636345 0.30770933 0.57806675]\n",
            " [0.63326049 0.48223311 0.34872369 0.65247005 0.2139973 ]\n",
            " [0.75839871 0.0575221  0.52444093 0.85729965 0.80944647]\n",
            " [0.96065408 0.3620193  0.74535843 0.75258297 0.82135162]\n",
            " [0.80902603 0.84341926 0.11795545 0.78476463 0.29190497]]\n",
            "After normalization:\n",
            "[[0.21667584 0.63820405 0.17587834 0.27702179 0.57637716]\n",
            " [0.63749087 0.47026462 0.32243526 0.65876081 0.1732584 ]\n",
            " [0.77605115 0.         0.51699955 0.88555999 0.83257419]\n",
            " [1.         0.33715693 0.76161219 0.76961163 0.84575625]\n",
            " [0.83210865 0.87019082 0.06691531 0.80524502 0.25952228]]\n"
          ]
        }
      ],
      "source": [
        "import numpy as np\n",
        "def normalize(x):\n",
        "  xmax, xmin = x.max(), x.min()\n",
        "  x = (x - xmin)/(xmax - xmin)\n",
        "  return x\n",
        "x= np.random.random((5,5))\n",
        "print(\"Original Array:\")\n",
        "print(x)\n",
        "#xmax, xmin = x.max(), x.min()\n",
        "#x = (x - xmin)/(xmax - xmin)\n",
        "#print(x)\n",
        "y = normalize(x)\n",
        "print(\"After normalization:\")\n",
        "print(y)"
      ]
    },
    {
      "cell_type": "markdown",
      "id": "d2d143f1",
      "metadata": {
        "id": "d2d143f1"
      },
      "source": [
        "## Stacking numpy arrays\n",
        "\n",
        "Stacking is used to join a sequence of same dimension arrays along a new axis.\n",
        "\n",
        "`numpy.stack(arrays,axis)` : It returns a stacked array of the input arrays which has one more dimension than the input arrays.\n",
        "\n",
        "### You have two ways to do it:\n",
        "\n",
        "\n",
        "![alt text](./assets/stack.jpeg \"stack\")\n",
        "\n",
        "\n",
        "### or\n",
        "\n",
        "\n",
        "![alt text](./assets/stack2.jpeg \"stack\")\n",
        "\n",
        "\n"
      ]
    },
    {
      "cell_type": "markdown",
      "id": "1e74d39e",
      "metadata": {
        "id": "1e74d39e"
      },
      "source": [
        "#### Exercise: Generate two random arrays with integers and apply the stacking using `stack` (★★☆)"
      ]
    },
    {
      "cell_type": "code",
      "execution_count": 26,
      "id": "3f639d33",
      "metadata": {
        "id": "3f639d33",
        "colab": {
          "base_uri": "https://localhost:8080/"
        },
        "outputId": "3e83d5b0-24e7-47ba-cf76-0864486432ce"
      },
      "outputs": [
        {
          "output_type": "stream",
          "name": "stdout",
          "text": [
            "arr1: \n",
            " [[0.52940638 0.5552514  0.71730772]\n",
            " [0.46782776 0.63097616 0.77038899]\n",
            " [0.44280093 0.53148859 0.33000882]]\n",
            "\n",
            " arr2: \n",
            " [[0.70500979 0.35816694 0.84507004]\n",
            " [0.96840054 0.2585141  0.18655587]\n",
            " [0.17503876 0.59114399 0.35866812]]\n",
            "\n",
            " arr_stack: \n",
            " [[[0.52940638 0.5552514  0.71730772]\n",
            "  [0.46782776 0.63097616 0.77038899]\n",
            "  [0.44280093 0.53148859 0.33000882]]\n",
            "\n",
            " [[0.70500979 0.35816694 0.84507004]\n",
            "  [0.96840054 0.2585141  0.18655587]\n",
            "  [0.17503876 0.59114399 0.35866812]]]\n"
          ]
        }
      ],
      "source": [
        "arr1 = np.random.random((3, 3))\n",
        "print('arr1: \\n',arr1)\n",
        "arr2 = np.random.random((3,3))\n",
        "print('\\n arr2: \\n',arr2)\n",
        "arr_stack = np.stack((arr1, arr2))\n",
        "print('\\n arr_stack: \\n',arr_stack)"
      ]
    },
    {
      "cell_type": "markdown",
      "id": "78250c14",
      "metadata": {
        "id": "78250c14"
      },
      "source": [
        "#### Exercise: Generate two random arrays with integers and apply the stacking using `hstack` and `vstack` (★★☆)"
      ]
    },
    {
      "cell_type": "code",
      "execution_count": 27,
      "id": "9fe729cb",
      "metadata": {
        "id": "9fe729cb",
        "colab": {
          "base_uri": "https://localhost:8080/"
        },
        "outputId": "8458c640-df6c-4a90-bf51-a72f836f834d"
      },
      "outputs": [
        {
          "output_type": "stream",
          "name": "stdout",
          "text": [
            "arr1: \n",
            " [[0.61740111 0.82602318 0.73210484]\n",
            " [0.77305462 0.46480616 0.11959146]\n",
            " [0.43022698 0.69785894 0.0682356 ]]\n",
            "\n",
            " arr2: \n",
            " [[0.14342003 0.18917409 0.45833436]\n",
            " [0.16377405 0.90016411 0.99973938]\n",
            " [0.61438531 0.64485674 0.95687378]]\n",
            "\n",
            " arr_hstack: \n",
            " [[0.61740111 0.82602318 0.73210484 0.14342003 0.18917409 0.45833436]\n",
            " [0.77305462 0.46480616 0.11959146 0.16377405 0.90016411 0.99973938]\n",
            " [0.43022698 0.69785894 0.0682356  0.61438531 0.64485674 0.95687378]]\n",
            "\n",
            " arr_vstack: \n",
            " [[0.61740111 0.82602318 0.73210484]\n",
            " [0.77305462 0.46480616 0.11959146]\n",
            " [0.43022698 0.69785894 0.0682356 ]\n",
            " [0.14342003 0.18917409 0.45833436]\n",
            " [0.16377405 0.90016411 0.99973938]\n",
            " [0.61438531 0.64485674 0.95687378]]\n"
          ]
        }
      ],
      "source": [
        "arr1 = np.random.random((3,3))\n",
        "print('arr1: \\n',arr1)\n",
        "arr2 = np.random.random((3,3))\n",
        "print('\\n arr2: \\n',arr2)\n",
        "arr_hstack = np.hstack((arr1, arr2))\n",
        "print('\\n arr_hstack: \\n',arr_hstack)\n",
        "arr_vstack = np.vstack((arr1, arr2))\n",
        "print('\\n arr_vstack: \\n',arr_vstack)"
      ]
    },
    {
      "cell_type": "markdown",
      "id": "51898680",
      "metadata": {
        "id": "51898680"
      },
      "source": [
        "## Basic maths in numpy\n",
        "\n",
        "You can make typical math operations like:\n",
        "\n",
        "- Addition,Subtraction,Multiplication and Division between two arrays using numpy.\n",
        "- Operation on arrays using sum() & cumsum() function.\n",
        "- Minimum and Maximum value from an array.\n",
        "- Exponent/Power , Square Root and Cube Root functions.\n",
        "\n",
        "or even apply common trigonometric functions:\n",
        "\n",
        "- `numpy.sin()`:  Sine (x) Function\n",
        "- `numpy.cos()`: Cosine(x) Function\n",
        "- `numpy.tan()`: Tangent(x) Function\n",
        "- `numpy.sinh()`: Hyperbolic Sine (x) Function\n",
        "- `numpy.cosh()`: Hyperbolic Cosine(x) Function\n",
        "- `numpy.tanh()`: Hyperbolic Tangent(x) Function\n",
        "- `numpy.arcsin()`: Inverse Sine(x) Function\n",
        "- `numpy.arccos()`: Inverse Cosine(x) Function\n",
        "- `numpy.arctan()`: Inverse Tangent(X) Function\n",
        "- `numpy.pi`: Pi value π\n",
        "- `numpy.hypot(w,h)`: For calculating Hypotenuse $c = \\sqrt{(w^2 + h^2)}$\n",
        "- `numpy.rad2deg()`: Radians to degrees\n",
        "- `numpy.deg2rad()`: Degrees to radians"
      ]
    },
    {
      "cell_type": "markdown",
      "id": "89e78048",
      "metadata": {
        "id": "89e78048"
      },
      "source": [
        "#### Exercise: Generate two random 8 - dimensional vectors and apply the most common operation between vectors:  addition, substraction, multiplication, division(★☆☆)\n",
        "\n",
        ">Check the math functions here: https://numpy.org/doc/stable/reference/routines.math.html"
      ]
    },
    {
      "cell_type": "code",
      "execution_count": 51,
      "id": "b62e9d1c",
      "metadata": {
        "id": "b62e9d1c",
        "colab": {
          "base_uri": "https://localhost:8080/"
        },
        "outputId": "bf3ebad5-acbb-4a0b-d615-681ced6779cc"
      },
      "outputs": [
        {
          "output_type": "stream",
          "name": "stdout",
          "text": [
            "[[13. 22. 17. 56.  9. 51. 45. 44.]]\n",
            "[[98. 75. 26. 38. 58. 93. 89. 85.]]\n",
            "sum: \n",
            " [[111.  97.  43.  94.  67. 144. 134. 129.]]\n",
            "subtract: \n",
            " [[-85. -53.  -9.  18. -49. -42. -44. -41.]]\n",
            "multiply: \n",
            " [[1274. 1650.  442. 2128.  522. 4743. 4005. 3740.]]\n",
            "divide: \n",
            " [[0.13265306 0.29333333 0.65384615 1.47368421 0.15517241 0.5483871\n",
            "  0.50561798 0.51764706]]\n"
          ]
        }
      ],
      "source": [
        "#arr1 = np.random.random((1,8))\n",
        "#arr2 = np.random.random((1,8))\n",
        "arr1 = np.round(np.random.random((1,8))*100)\n",
        "arr2 = np.round(np.random.random((1,8))*100)\n",
        "print(arr1)\n",
        "print(arr2)\n",
        "print(\"sum: \\n\",np.add(arr1, arr2))\n",
        "print(\"subtract: \\n\",np.subtract(arr1, arr2))\n",
        "print(\"multiply: \\n\",np.multiply(arr1, arr2))\n",
        "print(\"divide: \\n\",np.divide(arr1, arr2))\n"
      ]
    },
    {
      "cell_type": "markdown",
      "id": "ebd10810",
      "metadata": {
        "id": "ebd10810"
      },
      "source": [
        "#### Exercise: Generate two random matrices with dimensions between 5 and 10. For example, try 5x7 vs 8x9. Were you able to do the matrix multiplication? why? (★★☆) "
      ]
    },
    {
      "cell_type": "code",
      "execution_count": 29,
      "id": "6ada209f",
      "metadata": {
        "id": "6ada209f",
        "colab": {
          "base_uri": "https://localhost:8080/"
        },
        "outputId": "cce09fda-5e24-4de0-a69e-8c1f32878eb6"
      },
      "outputs": [
        {
          "output_type": "stream",
          "name": "stdout",
          "text": [
            "[[ 69.  25.  82.  57.  10.  63.  48.]\n",
            " [ 59.  83.  57.  16.  39.  13.   4.]\n",
            " [ 60.  18.  49.  37.  55.  71.  75.]\n",
            " [ 12.  97.  23.  11.  82.  54.  50.]\n",
            " [ 74.  52.  36. 100.  87.  78.  80.]]\n",
            "[[29. 28. 33. 86. 16.  3. 36. 86. 44.]\n",
            " [ 3. 37. 95. 26. 92. 38. 36. 13.  9.]\n",
            " [80. 63. 21.  5. 39. 44. 13.  4. 50.]\n",
            " [ 0. 40. 86. 30. 53. 74. 40. 58. 71.]\n",
            " [41. 22. 37.  5. 16. 49. 41. 56. 25.]\n",
            " [58. 88. 73. 29. 61. 89. 67. 36. 22.]\n",
            " [56. 82. 54.  5. 45. 81. 50. 48.  8.]\n",
            " [25. 48. 63. 98. 36. 20. 40. 48. 11.]]\n"
          ]
        }
      ],
      "source": [
        "arr1 = np.round(np.random.random((5,7))*100)\n",
        "arr2 = np.round(np.random.random((8,9))*100)\n",
        "print(arr1)\n",
        "print(arr2)\n",
        "#print(\"multiply: \\n\",np.multiply(arr1, arr2)) #Not be able because not sabe files or columns\n"
      ]
    },
    {
      "cell_type": "markdown",
      "id": "c0e940f8",
      "metadata": {
        "id": "c0e940f8"
      },
      "source": [
        "#### Exercise: Given 2 numpy arrays as matrices, output the result of multiplying the 2 matrices (as a numpy array) Were you able to do the matrix multiplication? (★★☆) \n",
        "\n",
        "$$ a = \\left(\\begin{matrix}\n",
        "0 & 1 & 2\\\\ \n",
        "3 & 4 & 5\\\\ \n",
        "6 & 7 & 8\n",
        "\\end{matrix}\\right)$$\n",
        "\n",
        "$$ b = \\left(\\begin{matrix}\n",
        "2 & 3 & 4\\\\ \n",
        "5 & 6 & 7\\\\ \n",
        "8 & 9 & 10\n",
        "\\end{matrix}\\right)$$\n",
        "\n",
        "\n"
      ]
    },
    {
      "cell_type": "code",
      "execution_count": 30,
      "id": "820dc7a5",
      "metadata": {
        "id": "820dc7a5",
        "colab": {
          "base_uri": "https://localhost:8080/",
          "height": 36
        },
        "outputId": "46265bc9-4768-4c94-a33b-953e7df70570"
      },
      "outputs": [
        {
          "output_type": "execute_result",
          "data": {
            "text/plain": [
              "'If the arrays has sabe files or columns, we can do the multiplication'"
            ],
            "application/vnd.google.colaboratory.intrinsic+json": {
              "type": "string"
            }
          },
          "metadata": {},
          "execution_count": 30
        }
      ],
      "source": [
        "'If the arrays has sabe files or columns, we can do the multiplication'"
      ]
    },
    {
      "cell_type": "markdown",
      "id": "22713c3f",
      "metadata": {
        "id": "22713c3f"
      },
      "source": [
        "#### Exercise: Multiply a 5x3 matrix by a 3x2 matrix (real matrix product) (★★☆)"
      ]
    },
    {
      "cell_type": "code",
      "execution_count": 52,
      "id": "a3e05c29",
      "metadata": {
        "id": "a3e05c29",
        "colab": {
          "base_uri": "https://localhost:8080/"
        },
        "outputId": "c00e595e-c722-43c7-8fb3-a98a8b997b45"
      },
      "outputs": [
        {
          "output_type": "stream",
          "name": "stdout",
          "text": [
            "arr1: \n",
            " [[3 8 9]\n",
            " [8 2 3]\n",
            " [0 2 7]\n",
            " [0 4 9]\n",
            " [8 5 0]]\n",
            "arr2: \n",
            " [[6 1]\n",
            " [8 6]\n",
            " [7 5]]\n",
            "(5, 3)\n",
            "(3, 2)\n",
            "(3, 3)\n",
            "(3, 3)\n",
            "matmul: \n",
            " [[120 103  75]\n",
            " [ 73  78  26]\n",
            " [ 69  30  18]\n",
            " [ 93  50  36]\n",
            " [ 55  96  53]]\n",
            "multiply: \n",
            " [[35 35  7]\n",
            " [ 3 48 18]\n",
            " [72  8  0]]\n",
            "dot: \n",
            " [[145  96]\n",
            " [ 85  35]\n",
            " [ 65  47]\n",
            " [ 95  69]\n",
            " [ 88  38]]\n"
          ]
        }
      ],
      "source": [
        "#arr1 = np.round(np.random.random((5,3))*10)\n",
        "#arr2 = np.round(np.random.random((3,2))*10)\n",
        "#rng = np.random.default_rng(0)\n",
        "#arr1 = rng.integers(10, size=(5, 3))\n",
        "#arr2 = rng.integers(10, size=(3, 2))\n",
        "arr1 = np.random.randint(10, size=(5, 3))\n",
        "arr2 = np.random.randint(10, size=(3, 2))\n",
        "arr3 = np.random.randint(10, size=(3, 3))\n",
        "arr4 = np.random.randint(10, size=(3, 3))\n",
        "print(\"arr1: \\n\",arr1)\n",
        "print(\"arr2: \\n\",arr2)\n",
        "print(arr1.shape)\n",
        "print(arr2.shape)\n",
        "print(arr3.shape)\n",
        "print(arr4.shape)\n",
        "\n",
        "#requiere num columnas de A = num filas de B (multiplicación regular)\n",
        "print(\"matmul: \\n\",np.matmul(arr1, arr3))\n",
        "#requiere identicos rxc (Haddamart)\n",
        "print(\"multiply: \\n\",np.multiply(arr3, arr4))\n",
        "#\n",
        "print(\"dot: \\n\",np.dot(arr1, arr2))"
      ]
    },
    {
      "cell_type": "markdown",
      "id": "4815930e",
      "metadata": {
        "id": "4815930e"
      },
      "source": [
        "## Data types\n",
        "\n",
        "Do you think the following preposition is true?\n",
        "\n",
        "`8==8`\n",
        "\n",
        "Surely you will definetely say yes, which is true mathematically, but computationally it is not always the same, at least in terms of memory. For example, run the following cell:"
      ]
    },
    {
      "cell_type": "code",
      "execution_count": 48,
      "id": "cd81c3c6",
      "metadata": {
        "id": "cd81c3c6",
        "colab": {
          "base_uri": "https://localhost:8080/"
        },
        "outputId": "7267e71b-3f32-48d7-da8c-688ab5b93c1c"
      },
      "outputs": [
        {
          "output_type": "stream",
          "name": "stdout",
          "text": [
            "int64: 96\n",
            "int8: 89\n",
            "float32: 92\n"
          ]
        }
      ],
      "source": [
        "import sys\n",
        "\n",
        "# int64\n",
        "x = np.array(123)\n",
        "print(\"int64: \" + str(sys.getsizeof(x)))\n",
        "\n",
        "# int8\n",
        "x = np.array(123,dtype=np.int8)\n",
        "print(\"int8: \" + str(sys.getsizeof(x)))\n",
        "\n",
        "# float32\n",
        "x = np.array(123,dtype=np.float32)\n",
        "print(\"float32: \" + str(sys.getsizeof(x)))"
      ]
    },
    {
      "cell_type": "markdown",
      "id": "8e34f294",
      "metadata": {
        "id": "8e34f294"
      },
      "source": [
        "#### It turns out that there are many computational representation of the same number and you can create arrays with different Data Types (dtypes) depending on what you need:\n",
        "\n",
        "- Boolean : `np.bool_`\n",
        "- Char : `np.byte`\n",
        "- Short : `np.short`\n",
        "- Integer : `np.short`\n",
        "- Long : `np.int_`\n",
        "- Float : `np.single`&np.float32`\n",
        "- Double :`np.double`&`np.float64`\n",
        "- `np.int8`: integer (-128 to 127)\n",
        "- `np.int16`:integer( -32768 to 32767)\n",
        "- `np.int32`: integer(-2147483648 to 2147483647)\n",
        "- `np.int64`:integer( -9223372036854775808 to 9223372036854775807)\n",
        "\n",
        "\n",
        "Sometimes, you will need to load, create or export arrays from different data types.\n"
      ]
    },
    {
      "cell_type": "code",
      "execution_count": null,
      "id": "890bde78",
      "metadata": {
        "id": "890bde78"
      },
      "outputs": [],
      "source": [
        ""
      ]
    },
    {
      "cell_type": "markdown",
      "id": "f1ae2c2d",
      "metadata": {
        "id": "f1ae2c2d"
      },
      "source": [
        "## Harder exercises\n",
        "\n",
        "The next exercises are related with real situations you could face while you are working in data science and machine learning. Also, we will be frequently talking about matrices and bidimensional arrays."
      ]
    },
    {
      "cell_type": "markdown",
      "id": "759c9c8d",
      "metadata": {
        "id": "759c9c8d"
      },
      "source": [
        "#### Exercise: Subtract the mean of each row of a matrix (★★☆)"
      ]
    },
    {
      "cell_type": "code",
      "execution_count": null,
      "id": "6801c73d",
      "metadata": {
        "id": "6801c73d"
      },
      "outputs": [],
      "source": [
        "print(\"Original matrix:\\n\")\n",
        "X = np.random.rand(5, 10)\n",
        "print(X)\n",
        "print(\"\\nSubtract the mean of each row of the said matrix:\\n\")\n",
        "Y = X - X.mean(axis=1, keepdims=True)\n",
        "print(Y)\n",
        "rng = np.random.default_rng(0)\n",
        "x = rng.integers(100, size=(5, 3))\n",
        "print(x)\n",
        "print(\"\\nSubtract the mean of each row of the said matrix:\\n\")\n",
        "y = x - x.mean(axis=1, keepdims=True)\n",
        "print(y)"
      ]
    },
    {
      "cell_type": "markdown",
      "id": "129c342d",
      "metadata": {
        "id": "129c342d"
      },
      "source": [
        "#### Exercise: How to get the dates of yesterday, today and tomorrow? (★★☆)\n",
        "\n",
        ">Check `np.datetime64`, `np.timedelta64` in numpy (https://numpy.org/doc/stable/reference/arrays.datetime.html)"
      ]
    },
    {
      "cell_type": "code",
      "execution_count": null,
      "id": "8ba1badb",
      "metadata": {
        "id": "8ba1badb"
      },
      "outputs": [],
      "source": [
        "yesterday = np.datetime64('today', 'D') - np.timedelta64(1, 'D')\n",
        "print(\"Yestraday: \",yesterday)\n",
        "today     = np.datetime64('today', 'D')\n",
        "print(\"Today: \",today)\n",
        "tomorrow  = np.datetime64('today', 'D') + np.timedelta64(1, 'D')\n",
        "print(\"Tomorrow: \",tomorrow)"
      ]
    },
    {
      "cell_type": "markdown",
      "id": "42f8b2f9",
      "metadata": {
        "id": "42f8b2f9"
      },
      "source": [
        "#### Exercise: How to get all the dates corresponding to the month of December 2022? (★★☆)\n",
        "Combine `arange`with `datetime`\n"
      ]
    },
    {
      "cell_type": "code",
      "execution_count": null,
      "id": "eb8ebe45",
      "metadata": {
        "id": "eb8ebe45"
      },
      "outputs": [],
      "source": [
        "days = np.arange('2022-12', '2023-01', dtype='datetime64[D]')\n",
        "print(days)"
      ]
    },
    {
      "cell_type": "markdown",
      "id": "486df8ea",
      "metadata": {
        "id": "486df8ea"
      },
      "source": [
        "#### Exercise: Extract the integer part of a random array of positive numbers using 2 different methods (★★☆)"
      ]
    },
    {
      "cell_type": "code",
      "execution_count": null,
      "id": "34b4fa08",
      "metadata": {
        "id": "34b4fa08"
      },
      "outputs": [],
      "source": [
        "import numpy as np\n",
        "arr1 = np.round(np.random.random((5,3))*10)\n",
        "print(arr1)\n",
        "arr2 = np.random.random((5,3))*100\n",
        "print(arr2)\n",
        "print(np.round(arr2))"
      ]
    },
    {
      "cell_type": "markdown",
      "id": "649e89f9",
      "metadata": {
        "id": "649e89f9"
      },
      "source": [
        "#### Exercise: Create a 5x5 matrix with row values ranging from 0 to 4 (★★☆)"
      ]
    },
    {
      "cell_type": "code",
      "execution_count": null,
      "id": "663cc611",
      "metadata": {
        "id": "663cc611"
      },
      "outputs": [],
      "source": [
        "mat = np.random.randint(5, size=(5, 5))\n",
        "print(mat)"
      ]
    },
    {
      "cell_type": "markdown",
      "id": "3421e17f",
      "metadata": {
        "id": "3421e17f"
      },
      "source": [
        "#### Exercise: Consider a generator function that generates 10 integers and use it to build an array (★★☆)"
      ]
    },
    {
      "cell_type": "code",
      "execution_count": null,
      "id": "7336b8e4",
      "metadata": {
        "id": "7336b8e4"
      },
      "outputs": [],
      "source": [
        "#num = np.random.randint(10, size=(5, 5))\n",
        "num = np.random.randint(100, size=(1,10))\n",
        "print(num)"
      ]
    },
    {
      "cell_type": "markdown",
      "id": "483dd554",
      "metadata": {
        "id": "483dd554"
      },
      "source": [
        "#### Exercise: Create a vector of size 10 with values ranging from 0 to 1, both excluded (★★☆)"
      ]
    },
    {
      "cell_type": "code",
      "execution_count": null,
      "id": "c89b93e7",
      "metadata": {
        "id": "c89b93e7"
      },
      "outputs": [],
      "source": [
        "x = np.linspace(0,1,12,endpoint=True)[1:-1]\n",
        "print(x)"
      ]
    },
    {
      "cell_type": "markdown",
      "id": "2d07be1c",
      "metadata": {
        "id": "2d07be1c"
      },
      "source": [
        "#### Exercise: Create a random vector of size 10 and sort it (★★☆)"
      ]
    },
    {
      "cell_type": "code",
      "execution_count": null,
      "id": "4f7cb3ad",
      "metadata": {
        "id": "4f7cb3ad"
      },
      "outputs": [],
      "source": [
        "x = np.random.random(10)\n",
        "print(\"Original array:\")\n",
        "print(x)\n",
        "x.sort()\n",
        "print(\"Sorted array:\")\n",
        "print(x)"
      ]
    },
    {
      "cell_type": "markdown",
      "id": "fe043549",
      "metadata": {
        "id": "fe043549"
      },
      "source": [
        "#### Exercise: Consider two random arrays A and B, check if they are equal (★★☆)"
      ]
    },
    {
      "cell_type": "code",
      "execution_count": null,
      "id": "3326a686",
      "metadata": {
        "id": "3326a686"
      },
      "outputs": [],
      "source": [
        "x = np.random.randint(0,2,6)\n",
        "print(\"First array:\")\n",
        "print(x)\n",
        "y = np.random.randint(0,2,6)\n",
        "print(\"Second array:\")\n",
        "print(y)\n",
        "print(\"Test above two arrays are equal or not!\")\n",
        "array_equal = np.allclose(x, y)\n",
        "print(array_equal)"
      ]
    },
    {
      "cell_type": "markdown",
      "id": "2002cb03",
      "metadata": {
        "id": "2002cb03"
      },
      "source": [
        "#### Exercise: Consider a random 10x2 matrix representing cartesian coordinates, convert them to polar coordinates (★★★)\n",
        ">Suggestion: check how to calculate the \"square of a matrix\""
      ]
    },
    {
      "cell_type": "code",
      "execution_count": null,
      "id": "58be72bc",
      "metadata": {
        "id": "58be72bc"
      },
      "outputs": [],
      "source": [
        "z= np.random.random((10,2))\n",
        "x,y = z[:,0], z[:,1]\n",
        "r = np.sqrt(x**2+y**2)\n",
        "t = np.arctan2(y,x)\n",
        "print(r)\n",
        "print(t)"
      ]
    },
    {
      "cell_type": "markdown",
      "id": "b7109c9f",
      "metadata": {
        "id": "b7109c9f"
      },
      "source": [
        "#### Exercise: Create random vector of size 10 and replace the maximum value by 0 (★★☆)"
      ]
    },
    {
      "cell_type": "code",
      "execution_count": null,
      "id": "f79e79a7",
      "metadata": {
        "id": "f79e79a7"
      },
      "outputs": [],
      "source": [
        "import numpy as np\n",
        "x = np.random.random(10)\n",
        "print(\"Original array:\")\n",
        "print(x)\n",
        "x[x.argmax()] = 0\n",
        "print(\"Maximum value replaced by 0:\")\n",
        "print(x)\n"
      ]
    },
    {
      "cell_type": "markdown",
      "id": "fb24674c",
      "metadata": {
        "id": "fb24674c"
      },
      "source": [
        "#### Exercise: How to print all the values of an array? (★★☆)"
      ]
    },
    {
      "cell_type": "code",
      "execution_count": null,
      "id": "c81f1456",
      "metadata": {
        "id": "c81f1456"
      },
      "outputs": [],
      "source": [
        "import numpy as np\n",
        "my_array = np.arange(1001)\n",
        "print(my_array)\n",
        "np.set_printoptions(threshold=np.inf)\n",
        "print(my_array)"
      ]
    },
    {
      "cell_type": "markdown",
      "id": "48413134",
      "metadata": {
        "id": "48413134"
      },
      "source": [
        "#### Exercise: How to convert a float (32 bits) array into an integer (32 bits) in place?\n",
        ">Check: https://stackoverflow.com/a/4396247/5989906"
      ]
    },
    {
      "cell_type": "code",
      "execution_count": null,
      "id": "5db64b6d",
      "metadata": {
        "id": "5db64b6d"
      },
      "outputs": [],
      "source": [
        "x = np.arange(10, dtype='int32')\n",
        "print(x)\n",
        "y = x.view('float32')\n",
        "y[:] = x\n",
        "print(y)\n",
        "\n",
        "x = np.arange(10, dtype='float32')\n",
        "print(x)\n",
        "y = x.view('int32')\n",
        "y[:] = x\n",
        "print(y)\n",
        "\n",
        "\n"
      ]
    },
    {
      "cell_type": "markdown",
      "id": "215b6acc",
      "metadata": {
        "id": "215b6acc"
      },
      "source": [
        "#### Exercise: Subtract the mean of each row of a matrix (★★☆)"
      ]
    },
    {
      "cell_type": "code",
      "execution_count": null,
      "id": "dd1adef4",
      "metadata": {
        "id": "dd1adef4"
      },
      "outputs": [],
      "source": [
        "print(\"Original matrix:\\n\")\n",
        "X = np.random.rand(5, 10)\n",
        "print(X)\n",
        "print(\"\\nSubtract the mean of each row of the said matrix:\\n\")\n",
        "Y = X - X.mean(axis=1, keepdims=True)\n",
        "print(Y)"
      ]
    },
    {
      "cell_type": "markdown",
      "id": "c0cf37e0",
      "metadata": {
        "id": "c0cf37e0"
      },
      "source": [
        "#### Exercise: How to sort an array by the nth column? (★★☆)"
      ]
    },
    {
      "cell_type": "code",
      "execution_count": null,
      "id": "9336ca5f",
      "metadata": {
        "id": "9336ca5f"
      },
      "outputs": [],
      "source": [
        "print(\"Original array:\\n\")\n",
        "nums = np.random.randint(0,10,(3,3))\n",
        "print(nums)\n",
        "print(\"\\nSort the said array by the nth column: \")\n",
        "print(nums[nums[:,2].argsort()])"
      ]
    },
    {
      "cell_type": "markdown",
      "id": "c17fb213",
      "metadata": {
        "id": "c17fb213"
      },
      "source": [
        "#### Exercise: Find the position of the minimum of a 2D matrix (★★☆)"
      ]
    },
    {
      "cell_type": "code",
      "execution_count": null,
      "id": "7fdda78d",
      "metadata": {
        "id": "7fdda78d"
      },
      "outputs": [],
      "source": [
        "print(\"Original array:\\n\")\n",
        "#x = np.random.random((2,5))*100\n",
        "x = np.random.random((2,5))*100\n",
        "print(x)\n",
        "print(\"Min in array:\\n\")\n",
        "m = np.amin(x)\n",
        "print(m)\n",
        "print(\"Position of Min in array:\\n\")\n",
        "pos = np.argmin(x)\n",
        "print(pos)\n"
      ]
    },
    {
      "cell_type": "markdown",
      "id": "f4427f7f",
      "metadata": {
        "id": "f4427f7f"
      },
      "source": [
        "#### Exercise: Read an image using openCV, check its dimensions, normalize the numbers and show the image (★★★)\n",
        "\n",
        ">Check: https://www.geeksforgeeks.org/python-opencv-cv2-imread-method/"
      ]
    },
    {
      "cell_type": "code",
      "execution_count": null,
      "id": "fe253212",
      "metadata": {
        "id": "fe253212"
      },
      "outputs": [],
      "source": [
        "from google.colab import drive\n",
        "drive.mount('/content/drive')\n",
        "import os\n",
        "os.chdir('/content/drive/My Drive/Colab Notebooks/')  #change dir\n",
        "!pwd\n",
        "import cv2\n",
        "from google.colab.patches import cv2_imshow\n",
        "\n",
        "  \n",
        "# path\n",
        "#path = r'C:\\Users\\Rajnish\\Desktop\\geeksforgeeks.png'\n",
        "path = r'logo_2.png'\n",
        "  \n",
        "# Using cv2.imread() method\n",
        "img = cv2.imread(path)\n",
        "cv2_imshow(img)\n",
        "# Displaying the image\n",
        "#cv2.imshow('image', img)"
      ]
    },
    {
      "cell_type": "markdown",
      "id": "33c986d9",
      "metadata": {
        "id": "33c986d9"
      },
      "source": [
        "#### Exercise: Considering a four dimensions array, how to get the sum over the last two axis at once? (★★★)"
      ]
    },
    {
      "cell_type": "code",
      "execution_count": null,
      "id": "a99a50e2",
      "metadata": {
        "id": "a99a50e2"
      },
      "outputs": [],
      "source": [
        "A = np.random.randint(0,10,(3,4,3,4))\n",
        "print(A)\n",
        "sum = A.reshape(A.shape[:-2] + (-1,)).sum(axis=-1)\n",
        "print(sum)"
      ]
    },
    {
      "cell_type": "markdown",
      "id": "928a1a15",
      "metadata": {
        "id": "928a1a15"
      },
      "source": [
        "#### Exercise: How to get the diagonal of a dot product? (★★★)"
      ]
    },
    {
      "cell_type": "code",
      "execution_count": null,
      "id": "ef2c9ddd",
      "metadata": {
        "id": "ef2c9ddd"
      },
      "outputs": [],
      "source": [
        "#a = np.random.rand(1000,200)\n",
        "#b = np.random.rand(200,200)\n",
        "a = np.random.rand(3,4)\n",
        "b = np.random.rand(4,3)\n",
        "print(\"dot: \\n\",np.dot(a, b))\n",
        "print(\"diagonal: \\n\",np.diag(np.dot(a, b)))\n",
        "print(\"a: \\n\",a)\n",
        "print(\"b: \\n\",b)"
      ]
    },
    {
      "cell_type": "markdown",
      "id": "f62551d8",
      "metadata": {
        "id": "f62551d8"
      },
      "source": [
        "#### Exercise: Consider an array of dimension (5,5,3), how to mulitply it by an array with dimensions (5,5)? (★★★)"
      ]
    },
    {
      "cell_type": "code",
      "execution_count": null,
      "id": "9ab241b7",
      "metadata": {
        "id": "9ab241b7"
      },
      "outputs": [],
      "source": [
        "A = np.ones((5,5,3))\n",
        "B = 2*np.ones((5,5))\n",
        "print(\"A: \\n\",A)\n",
        "print(\"B: \\n\",B)\n",
        "print(\"A*B: \\n\",A * B[:,:,None])"
      ]
    },
    {
      "cell_type": "markdown",
      "id": "6896e326",
      "metadata": {
        "id": "6896e326"
      },
      "source": [
        "#### Exercise: How to swap two rows of an array? (★★★)"
      ]
    },
    {
      "cell_type": "code",
      "execution_count": null,
      "id": "9e8fcba9",
      "metadata": {
        "id": "9e8fcba9"
      },
      "outputs": [],
      "source": [
        "A = np.arange(25).reshape(5,5)\n",
        "print(\"A: \\n\", A)\n",
        "A[[0,1]] = A[[1,0]]\n",
        "print(\"A swap: \\n\", A)\n",
        "#A[[3,4]] = A[[4,3]]\n",
        "#print(\"A swap: \\n\", A)"
      ]
    },
    {
      "cell_type": "markdown",
      "id": "8e83df46",
      "metadata": {
        "id": "8e83df46"
      },
      "source": [
        "#### Exercise: Read an image using openCV and tranpose it. What did you get exactly? Was the image rotated? Moved? Reflected with respect to an axis? (★★★)"
      ]
    },
    {
      "cell_type": "code",
      "execution_count": null,
      "id": "f73127b7",
      "metadata": {
        "id": "f73127b7"
      },
      "outputs": [],
      "source": [
        "from google.colab import drive\n",
        "drive.mount('/content/drive')\n",
        "import os\n",
        "os.chdir('/content/drive/My Drive/Colab Notebooks/')  #change dir\n",
        "!pwd\n",
        "# importing cv2\n",
        "import cv2\n",
        "from google.colab.patches import cv2_imshow\n",
        "# path\n",
        "path = r'logo_2.png'\n",
        "  \n",
        "# Using cv2.imread() method\n",
        "img = cv2.imread(path)\n",
        "cv2_imshow(img)\n",
        "  \n",
        "# Reading an image in default mode\n",
        "src = cv2.imread(path)\n",
        "  \n",
        "# Window name in which image is displayed\n",
        "window_name = 'Image'\n",
        "  \n",
        "# Using cv2.transpose() method\n",
        "image = cv2.transpose(src)\n",
        "  \n",
        "# Displaying the image\n",
        "#cv2_imshow(window_name, image)\n",
        "cv2_imshow(image)\n",
        "cv2.waitKey(0)"
      ]
    },
    {
      "cell_type": "markdown",
      "id": "781fa236",
      "metadata": {
        "id": "781fa236"
      },
      "source": [
        "#### Exercise: Consider an array Z = [1,2,3,4,5,6,7,8,9,10,11,12,13,14], how to generate an array R = [[1,2,3,4], [2,3,4,5], [3,4,5,6], ..., [11,12,13,14]]? (★★★)"
      ]
    },
    {
      "cell_type": "code",
      "execution_count": null,
      "id": "8e84d3c2",
      "metadata": {
        "id": "8e84d3c2"
      },
      "outputs": [],
      "source": [
        "from numpy.lib import stride_tricks\n",
        "Z = np.arange(1,15,dtype=\"uint32\")\n",
        "R = stride_tricks.as_strided(Z,(11,4),(4,4))\n",
        "print(\"Z: \\n\",Z)\n",
        "print(\"R: \\n\",R)"
      ]
    },
    {
      "cell_type": "markdown",
      "id": "7d8dc135",
      "metadata": {
        "id": "7d8dc135"
      },
      "source": [
        "#### Exercise: How to find the most frequent value in an array? (★★★)"
      ]
    },
    {
      "cell_type": "code",
      "execution_count": null,
      "id": "3978a7a2",
      "metadata": {
        "id": "3978a7a2"
      },
      "outputs": [],
      "source": [
        "x = np.random.randint(0, 10, 40)\n",
        "print(\"Original array:\")\n",
        "print(x)\n",
        "print(\"Most frequent value in the above array:\")\n",
        "print(np.bincount(x).argmax())"
      ]
    },
    {
      "cell_type": "markdown",
      "id": "4c70397b",
      "metadata": {
        "id": "4c70397b"
      },
      "source": [
        "#### Exercise: How to get the n largest values of an array (★★★)"
      ]
    },
    {
      "cell_type": "code",
      "execution_count": null,
      "id": "16371718",
      "metadata": {
        "id": "16371718"
      },
      "outputs": [],
      "source": [
        "import numpy as np\n",
        "x = np.arange(10)\n",
        "print(\"Original array:\")\n",
        "print(x)\n",
        "np.random.shuffle(x)\n",
        "n = 1\n",
        "print (x[np.argsort(x)[-n:]])"
      ]
    },
    {
      "cell_type": "markdown",
      "id": "d94352b6",
      "metadata": {
        "id": "d94352b6"
      },
      "source": [
        "#### Exercise: Consider a large vector Z, compute Z to the power of 3 using 3 different methods (★★★)"
      ]
    },
    {
      "cell_type": "code",
      "execution_count": null,
      "id": "301ba8a8",
      "metadata": {
        "id": "301ba8a8"
      },
      "outputs": [],
      "source": [
        "x = np.random.rand(57)\n",
        "%timeit np.power(x,3)\n",
        "#1 loops, best of 3: 574 ms per loop\n",
        "%timeit x*x*x\n",
        "#1 loops, best of 3: 429 ms per loop\n",
        "%timeit np.einsum('i,i,i->i',x,x,x)\n",
        "#1 loops, best of 3: 244 ms per loop"
      ]
    },
    {
      "cell_type": "markdown",
      "id": "2784c996",
      "metadata": {
        "id": "2784c996"
      },
      "source": [
        "#### Exercise: Given a two dimensional array, how to extract unique rows? (★★★)"
      ]
    },
    {
      "cell_type": "code",
      "execution_count": null,
      "id": "f030595f",
      "metadata": {
        "id": "f030595f"
      },
      "outputs": [],
      "source": [
        "Z = np.random.randint(0,2,(6,3))\n",
        "T = np.ascontiguousarray(Z).view(np.dtype((np.void, Z.dtype.itemsize * Z.shape[1])))\n",
        "_, idx = np.unique(T, return_index=True)\n",
        "uZ = Z[idx]\n",
        "print(\"Z: \\n\",Z)\n",
        "#print(\"T: \\n\",T)\n",
        "print(\"uZ: \\n\",uZ)"
      ]
    },
    {
      "cell_type": "markdown",
      "id": "e5737276",
      "metadata": {
        "id": "e5737276"
      },
      "source": [
        "#### Exercise: Can you have an array of strings? Can you mix different data types in the same array? Can you operate (add, sub, mult) arrays with different data types? (★★★)"
      ]
    },
    {
      "cell_type": "code",
      "execution_count": null,
      "id": "68c333b0",
      "metadata": {
        "id": "68c333b0"
      },
      "outputs": [],
      "source": [
        "arr = np.array([2, 1, 5, 3, 7, 4, 6, 8])\n",
        "print(type(arr))\n",
        "\n",
        "array_example = np.array([[[0, 1, 2, 3],[4, 5, 6, 7]],\n",
        "                          [[0, 1, 2, 3],[4, 5, 6, 7]],\n",
        "                          [[0, 1, 2, 3],[4, 5, 6, 7]],\n",
        "                          [[0 ,1 ,2, 3],[4, 5, 6, 7]]])\n",
        "print(\"array_example: \\n\", array_example)\n",
        "#To find the number of dimensions of the array, run:\n",
        "print(\"dimensions: \\n\",array_example.ndim)\n",
        "#To find the total number of elements in the array, run:\n",
        "print(\"total elements: \\n\",array_example.size)\n",
        "#And to find the shape of your array, run:\n",
        "print(\"shape: \\n\",array_example.shape)\n",
        "array_example2 = np.array([[[0, 1, 2, 3],[4, 5, 6, 7]],\n",
        "                          [[0, 1, 2, 3],[4, 5, 6, 7]],\n",
        "                          [[0, 1, 2, 3],[4, 5, 6, 7]],\n",
        "                          [[0 ,1 ,2, 3],[4, 5, 6, 7]]])\n",
        "\n",
        "print(np.add(array_example,array_example2))\n",
        "#NOTE: The types of the arrays must be equal"
      ]
    }
  ],
  "metadata": {
    "kernelspec": {
      "display_name": "Python 3",
      "language": "python",
      "name": "python3"
    },
    "language_info": {
      "codemirror_mode": {
        "name": "ipython",
        "version": 3
      },
      "file_extension": ".py",
      "mimetype": "text/x-python",
      "name": "python",
      "nbconvert_exporter": "python",
      "pygments_lexer": "ipython3",
      "version": "3.8.12"
    },
    "colab": {
      "name": "Copia de 02.1-Intro-to-Numpy.ipynb",
      "provenance": [],
      "collapsed_sections": [
        "0a708990",
        "782d4c77",
        "48d48f01",
        "4fa39382",
        "da64551a",
        "13c5928c",
        "3fa2e461",
        "33c986d9",
        "928a1a15",
        "f62551d8",
        "6896e326",
        "8e83df46",
        "781fa236",
        "7d8dc135",
        "4c70397b",
        "d94352b6",
        "2784c996",
        "e5737276"
      ],
      "include_colab_link": true
    }
  },
  "nbformat": 4,
  "nbformat_minor": 5
}